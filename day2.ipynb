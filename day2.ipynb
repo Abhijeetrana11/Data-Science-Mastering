{
 "cells": [
  {
   "cell_type": "code",
   "execution_count": 1,
   "id": "1ddab206-a61a-42fc-af58-c2de4b87a1aa",
   "metadata": {},
   "outputs": [
    {
     "data": {
      "text/plain": [
       "' IN PYTHON WE ONT HAVE ANYTHING LIKE CHARACTER DATA TYPE FOR ONE ELEMENT ALSO THE DATATYPE WILL BE STRING'"
      ]
     },
     "execution_count": 1,
     "metadata": {},
     "output_type": "execute_result"
    }
   ],
   "source": [
    "\"\"\" IN PYTHON WE DONT HAVE ANYTHING LIKE CHARACTER DATA TYPE FOR ONE ELEMENT ALSO THE DATATYPE WILL BE STRING\"\"\"\n"
   ]
  },
  {
   "cell_type": "code",
   "execution_count": 2,
   "id": "7d94214a-68e8-4645-8306-64b4178fcb06",
   "metadata": {},
   "outputs": [
    {
     "data": {
      "text/plain": [
       "str"
      ]
     },
     "execution_count": 2,
     "metadata": {},
     "output_type": "execute_result"
    }
   ],
   "source": [
    "a='c'\n",
    "type(a)"
   ]
  },
  {
   "cell_type": "code",
   "execution_count": 3,
   "id": "f1fcc535-d4bf-434a-be6d-b0b773ec583b",
   "metadata": {},
   "outputs": [
    {
     "name": "stdout",
     "output_type": "stream",
     "text": [
      "Hello World\n"
     ]
    }
   ],
   "source": [
    "print(\"Hello World\")"
   ]
  },
  {
   "cell_type": "code",
   "execution_count": 4,
   "id": "836128e1-2f23-452c-b4df-857a183926b6",
   "metadata": {},
   "outputs": [
    {
     "name": "stdout",
     "output_type": "stream",
     "text": [
      "1123\n"
     ]
    }
   ],
   "source": [
    "print(1123)"
   ]
  },
  {
   "cell_type": "code",
   "execution_count": 5,
   "id": "e3a139c2-d273-414a-ac87-a05d593b3851",
   "metadata": {},
   "outputs": [],
   "source": [
    "age=32"
   ]
  },
  {
   "cell_type": "code",
   "execution_count": 8,
   "id": "33c21937-f1fc-44d1-af10-3c1bd7a9a1ef",
   "metadata": {},
   "outputs": [
    {
     "name": "stdout",
     "output_type": "stream",
     "text": [
      "My Age is: 32\n"
     ]
    }
   ],
   "source": [
    "print(\"My Age is:\",age)"
   ]
  },
  {
   "cell_type": "code",
   "execution_count": 10,
   "id": "fcc191b6-68d0-49a3-b1a1-18a24bdcec61",
   "metadata": {},
   "outputs": [
    {
     "name": "stdout",
     "output_type": "stream",
     "text": [
      "My Age is:32\n"
     ]
    }
   ],
   "source": [
    "##fstring\n",
    "print(f\"My Age is:{age}\")"
   ]
  },
  {
   "cell_type": "code",
   "execution_count": 12,
   "id": "969103e2-989c-4407-a31d-5fdcf9e380c0",
   "metadata": {},
   "outputs": [
    {
     "name": "stdout",
     "output_type": "stream",
     "text": [
      "My name is abhijeet and my age is 21 \n"
     ]
    }
   ],
   "source": [
    "name ='abhijeet'\n",
    "age=21\n",
    "print(\"My name is {} and my age is {} \".format(name,age))"
   ]
  },
  {
   "cell_type": "code",
   "execution_count": 16,
   "id": "67351f9c-f63d-4c3c-bc4f-5dc565340fb0",
   "metadata": {},
   "outputs": [],
   "source": [
    "name=\"Abhijeet singh rana\""
   ]
  },
  {
   "cell_type": "code",
   "execution_count": 14,
   "id": "353c301a-b922-42b9-ab49-6bafbc7f2940",
   "metadata": {},
   "outputs": [],
   "source": [
    "age=32"
   ]
  },
  {
   "cell_type": "code",
   "execution_count": 17,
   "id": "ce545b53-cf21-441a-aa69-fb8b7fa6b263",
   "metadata": {},
   "outputs": [
    {
     "name": "stdout",
     "output_type": "stream",
     "text": [
      "My name is Abhijeet singh rana and my age is 32 \n"
     ]
    }
   ],
   "source": [
    "print(\"My name is {firstname} and my age is {firstage} \".format(firstname=name,firstage=age))"
   ]
  },
  {
   "cell_type": "markdown",
   "id": "144113c4-f60c-4f54-b77f-0511749adebb",
   "metadata": {},
   "source": [
    "## Control Flow\n",
    "### Decision making"
   ]
  },
  {
   "cell_type": "code",
   "execution_count": 20,
   "id": "2470e46b-1821-4aed-8e04-06d802885c80",
   "metadata": {},
   "outputs": [
    {
     "name": "stdout",
     "output_type": "stream",
     "text": [
      "you are elligible to vote\n"
     ]
    }
   ],
   "source": [
    "age=18\n",
    "if age>=18:\n",
    "    print(\"you are elligible to vote\")"
   ]
  },
  {
   "cell_type": "code",
   "execution_count": 23,
   "id": "4e00555f-516e-4f5e-b230-aed077bdf7ae",
   "metadata": {},
   "outputs": [
    {
     "name": "stdin",
     "output_type": "stream",
     "text": [
      "Enter you name \n"
     ]
    }
   ],
   "source": [
    "name=input(\"Enter you name\")"
   ]
  },
  {
   "cell_type": "code",
   "execution_count": 24,
   "id": "fd52f6c7-05c6-4edb-b264-e5190a346012",
   "metadata": {},
   "outputs": [],
   "source": [
    "## by default the input data type is string"
   ]
  },
  {
   "cell_type": "code",
   "execution_count": 29,
   "id": "df84c5d4-0633-4669-ba36-4fa7a4111e3d",
   "metadata": {},
   "outputs": [
    {
     "name": "stdin",
     "output_type": "stream",
     "text": [
      "Enter your age 45\n"
     ]
    }
   ],
   "source": [
    "age=int(input(\"Enter your age\"))"
   ]
  },
  {
   "cell_type": "code",
   "execution_count": 29,
   "id": "b5d725bf-10d7-4506-9d9c-3fb95cfcdcd8",
   "metadata": {},
   "outputs": [
    {
     "name": "stdin",
     "output_type": "stream",
     "text": [
      "Enter your age 45\n"
     ]
    }
   ],
   "source": [
    "age=int(input(\"Enter your age\"))"
   ]
  },
  {
   "cell_type": "code",
   "execution_count": 33,
   "id": "de37221b-7522-4990-aeec-f3d4a0d10381",
   "metadata": {},
   "outputs": [
    {
     "name": "stdin",
     "output_type": "stream",
     "text": [
      "Enter your age 15\n"
     ]
    },
    {
     "name": "stdout",
     "output_type": "stream",
     "text": [
      "Your application has been rejected\n"
     ]
    }
   ],
   "source": [
    "age=int(input(\"Enter your age\"))\n",
    "if age>=18 and  age<=45:\n",
    "    print(\"you are young blood\")\n",
    "else:\n",
    "    print(\"Your application has been rejected\")\n",
    "    "
   ]
  },
  {
   "cell_type": "code",
   "execution_count": 35,
   "id": "de37893e-860e-454b-8740-a21de0aa1f6c",
   "metadata": {},
   "outputs": [
    {
     "name": "stdin",
     "output_type": "stream",
     "text": [
      "Enter the price of product 999\n"
     ]
    },
    {
     "name": "stdout",
     "output_type": "stream",
     "text": [
      "price after dicount is: 699.3\n"
     ]
    }
   ],
   "source": [
    "price=int(input(\"Enter the price of product\"))\n",
    "if price>=1000:\n",
    "    print(\"price after dicount is:\",(price-(0.2*price)))\n",
    "else:\n",
    "    print(\"price after dicount is:\",(price-(0.3*price)))"
   ]
  },
  {
   "cell_type": "code",
   "execution_count": 4,
   "id": "13bd5fa6-bdb3-4c80-8d64-9eab26237e28",
   "metadata": {},
   "outputs": [
    {
     "name": "stdin",
     "output_type": "stream",
     "text": [
      "Enter the price of the product 2999\n"
     ]
    },
    {
     "name": "stdout",
     "output_type": "stream",
     "text": [
      "Discounted price is: 2099.2999999999997\n",
      "you will also get a Tea cup\n"
     ]
    }
   ],
   "source": [
    "price=int(input(\"Enter the price of the product\"))\n",
    "if price >3000:\n",
    "    print(\"Discounted price is:\",0.8*price)\n",
    "elif price >=2000 and price <=3000:\n",
    "    print(\"Discounted price is:\",0.7*price)\n",
    "    if price ==2999:\n",
    "        print(\"you will also get a Tea cup\")\n",
    "elif price >=1000 and price<=2000:\n",
    "    print(\"Discounted price is:\",0.6*price)\n",
    "else:\n",
    "    print(\"Discounted price is:\",price)"
   ]
  },
  {
   "cell_type": "markdown",
   "id": "8924ea11-f12c-4e8e-9f33-2b8334b78213",
   "metadata": {},
   "source": [
    "# Single Statement suit"
   ]
  },
  {
   "cell_type": "code",
   "execution_count": 6,
   "id": "e7576b65-e7af-4b2f-ad46-1c9cebe3ead1",
   "metadata": {},
   "outputs": [],
   "source": [
    "#where only one if and one else work and if conition will only in one line"
   ]
  },
  {
   "cell_type": "markdown",
   "id": "9936dff4-4b84-47ae-9bcb-0958bbcc8c1e",
   "metadata": {},
   "source": [
    "# Loop Statements"
   ]
  },
  {
   "cell_type": "markdown",
   "id": "10083e68-af17-412c-b14c-0f9cee66208d",
   "metadata": {},
   "source": [
    "1. while loop\n",
    "2. for loop \n",
    "3. nested loop\n",
    "4. Loop controls(break, continue, pass )\n"
   ]
  },
  {
   "cell_type": "code",
   "execution_count": 14,
   "id": "a6a96595-cd8c-41ee-8866-0b24c049e654",
   "metadata": {},
   "outputs": [
    {
     "name": "stdout",
     "output_type": "stream",
     "text": [
      "26\n",
      "27\n",
      "28\n",
      "29\n",
      "30\n",
      "31\n",
      "32\n",
      "33\n",
      "34\n",
      "35\n",
      "36\n",
      "37\n",
      "38\n",
      "39\n",
      "40\n",
      "41\n",
      "42\n",
      "43\n",
      "44\n",
      "45\n",
      "46\n",
      "47\n",
      "48\n",
      "49\n",
      "50\n",
      "51\n",
      "52\n",
      "53\n",
      "54\n",
      "55\n",
      "56\n",
      "57\n",
      "58\n",
      "59\n",
      "60\n",
      "61\n",
      "Now its time to retire\n"
     ]
    }
   ],
   "source": [
    "#while_loop\n",
    "joining_age=25\n",
    "i=1\n",
    "while joining_age<=60:\n",
    "    joining_age=joining_age+1\n",
    "    print(joining_age)\n",
    "else:\n",
    "    print(\"Now its time to retire\")\n",
    "    "
   ]
  },
  {
   "cell_type": "code",
   "execution_count": 16,
   "id": "2b0d804b-3490-4f98-b18f-c642f008b635",
   "metadata": {},
   "outputs": [
    {
     "name": "stdout",
     "output_type": "stream",
     "text": [
      "1000\n",
      "900\n",
      "800\n",
      "700\n",
      "600\n",
      "500\n",
      "400\n",
      "300\n",
      "200\n",
      "100\n",
      "Paisa khatam\n"
     ]
    }
   ],
   "source": [
    "total_amt=1000\n",
    "while total_amt>0:\n",
    "    print(total_amt)\n",
    "    total_amt=total_amt-100\n",
    "else:\n",
    "    print(\"Paisa khatam\")"
   ]
  },
  {
   "cell_type": "code",
   "execution_count": 19,
   "id": "c69d3055-8fcc-406a-b40a-688d4acc524a",
   "metadata": {},
   "outputs": [
    {
     "data": {
      "text/plain": [
       "list"
      ]
     },
     "execution_count": 19,
     "metadata": {},
     "output_type": "execute_result"
    }
   ],
   "source": [
    "lst=[13,\"krish\",\"apple\",245,3,5,68]\n",
    "type(lst)"
   ]
  },
  {
   "cell_type": "code",
   "execution_count": 20,
   "id": "6d7ea6ff-9679-4019-baf0-2d776bb738f4",
   "metadata": {},
   "outputs": [
    {
     "data": {
      "text/plain": [
       "13"
      ]
     },
     "execution_count": 20,
     "metadata": {},
     "output_type": "execute_result"
    }
   ],
   "source": [
    "lst[0]"
   ]
  },
  {
   "cell_type": "markdown",
   "id": "1d93ece7-8868-4c97-8b36-7f0a35516a3b",
   "metadata": {},
   "source": [
    "# for Loop"
   ]
  },
  {
   "cell_type": "code",
   "execution_count": 21,
   "id": "91c199d9-e87d-47b4-adec-94ab7088767f",
   "metadata": {},
   "outputs": [
    {
     "name": "stdout",
     "output_type": "stream",
     "text": [
      "13\n",
      "krish\n",
      "apple\n",
      "245\n",
      "3\n",
      "5\n",
      "68\n"
     ]
    }
   ],
   "source": [
    "for x in lst:\n",
    "    print(x)"
   ]
  },
  {
   "cell_type": "code",
   "execution_count": 22,
   "id": "ed1cdf92-f1b5-46db-b110-29c48fbe4ade",
   "metadata": {},
   "outputs": [
    {
     "name": "stdout",
     "output_type": "stream",
     "text": [
      "APPLE\n",
      "MANGO\n",
      "BANANA\n",
      "ORANGE\n",
      "PINEAPPLE\n"
     ]
    }
   ],
   "source": [
    "fruit_list=[\"APPLE\",\"MANGO\",\"BANANA\",\"ORANGE\",\"PINEAPPLE\"]\n",
    "for i in fruit_list:\n",
    "    print(i)"
   ]
  },
  {
   "cell_type": "code",
   "execution_count": 23,
   "id": "3de77ebb-1cdc-40cd-a6e2-4aa87436e6b1",
   "metadata": {},
   "outputs": [],
   "source": [
    "## for loop is just for iterating in the list"
   ]
  },
  {
   "cell_type": "code",
   "execution_count": 26,
   "id": "96c4662e-989a-43db-b1fb-3590d0f8dd24",
   "metadata": {},
   "outputs": [
    {
     "name": "stdout",
     "output_type": "stream",
     "text": [
      "B A N A N A "
     ]
    }
   ],
   "source": [
    "fruit=\"BANANA\"\n",
    "for i in fruit:\n",
    "    print(i,end=' ')"
   ]
  },
  {
   "cell_type": "markdown",
   "id": "2c40d414-f183-425e-a681-a3a210beb764",
   "metadata": {},
   "source": [
    "## Nested loops"
   ]
  },
  {
   "cell_type": "code",
   "execution_count": 27,
   "id": "567e10ab-3012-4b65-9483-a44ed51df461",
   "metadata": {},
   "outputs": [
    {
     "name": "stdout",
     "output_type": "stream",
     "text": [
      "1\n",
      "2\n",
      "3\n",
      "4\n",
      "5\n"
     ]
    }
   ],
   "source": [
    "for i in range(1,6):\n",
    "    print(i)"
   ]
  },
  {
   "cell_type": "code",
   "execution_count": 28,
   "id": "75245c72-2b45-4904-b8c9-024854c3012e",
   "metadata": {},
   "outputs": [
    {
     "name": "stdout",
     "output_type": "stream",
     "text": [
      "1\n",
      "3\n",
      "5\n",
      "7\n",
      "9\n"
     ]
    }
   ],
   "source": [
    "for i in range(1,10,2):\n",
    "    print(i)"
   ]
  },
  {
   "cell_type": "code",
   "execution_count": 32,
   "id": "3bee12fd-7f9a-4526-aa2d-8fdc30b0922e",
   "metadata": {},
   "outputs": [
    {
     "name": "stdout",
     "output_type": "stream",
     "text": [
      "*\n",
      "**\n",
      "***\n",
      "****\n",
      "*****\n",
      "******\n",
      "*******\n"
     ]
    }
   ],
   "source": [
    "n=7\n",
    "\n",
    "for i in range(0,n):\n",
    "    for j in range(0,i+1):\n",
    "        print(\"*\",end='')\n",
    "    print(\"\\r\")"
   ]
  },
  {
   "cell_type": "code",
   "execution_count": 7,
   "id": "54056ccc-560b-40c1-ad2a-6c9680bba401",
   "metadata": {},
   "outputs": [
    {
     "name": "stdout",
     "output_type": "stream",
     "text": [
      "The fruit is apple\n",
      "APPLE\n",
      "MANGO\n",
      "BANANA\n",
      "ORANGE\n",
      "PINEAPPLE\n"
     ]
    }
   ],
   "source": [
    "fruit_list=[\"APPLE\",\"MANGO\",\"BANANA\",\"ORANGE\",\"PINEAPPLE\"]\n",
    "for i in fruit_list:\n",
    "    if i==\"APPLE\":\n",
    "        print(\"The fruit is apple\")\n",
    "        continue\n",
    "    print(i)"
   ]
  },
  {
   "cell_type": "code",
   "execution_count": 8,
   "id": "aebae256-e33d-4f71-b677-21614ab02b4d",
   "metadata": {},
   "outputs": [
    {
     "name": "stdout",
     "output_type": "stream",
     "text": [
      "The fruit is apple\n",
      "MANGO\n",
      "BANANA\n",
      "ORANGE\n",
      "PINEAPPLE\n"
     ]
    }
   ],
   "source": [
    "fruit_list=[\"APPLE\",\"MANGO\",\"BANANA\",\"ORANGE\",\"PINEAPPLE\"]\n",
    "for i in fruit_list:\n",
    "    if i==\"APPLE\":\n",
    "        print(\"The fruit is apple\")\n",
    "        continue\n",
    "    print(i)"
   ]
  },
  {
   "cell_type": "code",
   "execution_count": null,
   "id": "e1a88982-e224-46be-b1a6-477e6d9d0573",
   "metadata": {},
   "outputs": [],
   "source": []
  }
 ],
 "metadata": {
  "kernelspec": {
   "display_name": "Python 3 (ipykernel)",
   "language": "python",
   "name": "python3"
  },
  "language_info": {
   "codemirror_mode": {
    "name": "ipython",
    "version": 3
   },
   "file_extension": ".py",
   "mimetype": "text/x-python",
   "name": "python",
   "nbconvert_exporter": "python",
   "pygments_lexer": "ipython3",
   "version": "3.10.8"
  }
 },
 "nbformat": 4,
 "nbformat_minor": 5
}
