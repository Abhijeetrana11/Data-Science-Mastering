{
 "cells": [
  {
   "cell_type": "code",
   "execution_count": 54,
   "id": "984b92cc-1441-4921-81df-750fa26a8041",
   "metadata": {},
   "outputs": [
    {
     "data": {
      "text/plain": [
       "dict"
      ]
     },
     "execution_count": 54,
     "metadata": {},
     "output_type": "execute_result"
    }
   ],
   "source": [
    "d={}\n",
    "type(d)"
   ]
  },
  {
   "cell_type": "code",
   "execution_count": 2,
   "id": "c2545f66-8a50-4b06-9918-82ff9ff1ff62",
   "metadata": {},
   "outputs": [],
   "source": [
    "d1={\"name\" : \"Abhi\" , \"email\" : \"abhijeetgmail.com\" , \"number\" : 878796} \n",
    "# key and value"
   ]
  },
  {
   "cell_type": "code",
   "execution_count": 6,
   "id": "342939e2-a769-4ad3-b1f3-befff4a01374",
   "metadata": {},
   "outputs": [
    {
     "data": {
      "text/plain": [
       "{'name': 'Abhi', 'email': 'abhijeetgmail.com', 'number': 878796}"
      ]
     },
     "execution_count": 6,
     "metadata": {},
     "output_type": "execute_result"
    }
   ],
   "source": [
    "d1"
   ]
  },
  {
   "cell_type": "code",
   "execution_count": 3,
   "id": "86c2a01e-ec6c-4af2-8577-96e49a82698e",
   "metadata": {},
   "outputs": [
    {
     "data": {
      "text/plain": [
       "dict"
      ]
     },
     "execution_count": 3,
     "metadata": {},
     "output_type": "execute_result"
    }
   ],
   "source": [
    "type(d1)"
   ]
  },
  {
   "cell_type": "code",
   "execution_count": 4,
   "id": "edcb4bac-2bee-4211-ad77-9275273fdc8e",
   "metadata": {},
   "outputs": [],
   "source": [
    "d2={\"name\":\"Abhi\" , \"name\":\"Abhijeet\"}"
   ]
  },
  {
   "cell_type": "code",
   "execution_count": 5,
   "id": "e4df6380-0717-4b26-8d26-bd1a92d8a585",
   "metadata": {},
   "outputs": [
    {
     "data": {
      "text/plain": [
       "{'name': 'Abhijeet'}"
      ]
     },
     "execution_count": 5,
     "metadata": {},
     "output_type": "execute_result"
    }
   ],
   "source": [
    "d2"
   ]
  },
  {
   "cell_type": "code",
   "execution_count": 7,
   "id": "fab36891-a0ae-48c9-9dc4-9c2ec7c9e2bb",
   "metadata": {},
   "outputs": [],
   "source": [
    "# The key cant be repeated"
   ]
  },
  {
   "cell_type": "code",
   "execution_count": 8,
   "id": "d17ca0e2-ba9f-4b0b-ab33-6636cacd48f4",
   "metadata": {},
   "outputs": [],
   "source": [
    "d3={234356:'abc'}"
   ]
  },
  {
   "cell_type": "code",
   "execution_count": 9,
   "id": "2778c5b4-8097-4d82-902e-c1c8ace4cd58",
   "metadata": {},
   "outputs": [
    {
     "data": {
      "text/plain": [
       "{234356: 'abc'}"
      ]
     },
     "execution_count": 9,
     "metadata": {},
     "output_type": "execute_result"
    }
   ],
   "source": [
    "d3"
   ]
  },
  {
   "cell_type": "code",
   "execution_count": 11,
   "id": "d0deea56-6e2d-4aa5-8472-ad5b23799ae0",
   "metadata": {},
   "outputs": [],
   "source": [
    "d5={'abc':True}"
   ]
  },
  {
   "cell_type": "code",
   "execution_count": 12,
   "id": "9dd7ae60-5bc2-49b8-80c7-7b1a100a6f93",
   "metadata": {},
   "outputs": [
    {
     "data": {
      "text/plain": [
       "{'abc': True}"
      ]
     },
     "execution_count": 12,
     "metadata": {},
     "output_type": "execute_result"
    }
   ],
   "source": [
    "d5"
   ]
  },
  {
   "cell_type": "markdown",
   "id": "fd7f072e-2132-4061-ab8a-f015f1ee8c07",
   "metadata": {},
   "source": [
    "# List is an unhashable type for dictionary but the tupples can be considered as keys and values "
   ]
  },
  {
   "cell_type": "code",
   "execution_count": 13,
   "id": "cac42ef0-44a4-4ca1-8220-0b7978e23328",
   "metadata": {},
   "outputs": [
    {
     "ename": "TypeError",
     "evalue": "unhashable type: 'list'",
     "output_type": "error",
     "traceback": [
      "\u001b[0;31m---------------------------------------------------------------------------\u001b[0m",
      "\u001b[0;31mTypeError\u001b[0m                                 Traceback (most recent call last)",
      "Cell \u001b[0;32mIn[13], line 1\u001b[0m\n\u001b[0;32m----> 1\u001b[0m d6\u001b[38;5;241m=\u001b[39m{[\u001b[38;5;241m1\u001b[39m,\u001b[38;5;241m2\u001b[39m,\u001b[38;5;241m3\u001b[39m]:\u001b[38;5;124m\"\u001b[39m\u001b[38;5;124mabc\u001b[39m\u001b[38;5;124m\"\u001b[39m}\n",
      "\u001b[0;31mTypeError\u001b[0m: unhashable type: 'list'"
     ]
    }
   ],
   "source": [
    "d6={[1,2,3]:\"abc\"}"
   ]
  },
  {
   "cell_type": "code",
   "execution_count": 14,
   "id": "7241aa1a-8ebf-455b-ac1c-3cc5b2c8053c",
   "metadata": {},
   "outputs": [],
   "source": [
    "d6={(1,2,3):\"abc\"}"
   ]
  },
  {
   "cell_type": "code",
   "execution_count": 15,
   "id": "c370e63c-d2ae-439d-a3d5-e4bf883eaf29",
   "metadata": {},
   "outputs": [
    {
     "data": {
      "text/plain": [
       "{(1, 2, 3): 'abc'}"
      ]
     },
     "execution_count": 15,
     "metadata": {},
     "output_type": "execute_result"
    }
   ],
   "source": [
    "d6"
   ]
  },
  {
   "cell_type": "code",
   "execution_count": 18,
   "id": "f498599d-4b02-49da-8902-ed77275d9b87",
   "metadata": {},
   "outputs": [],
   "source": [
    "d7={(4,5,6):[23,45]} #but the LIST CAN BE CONSIDERED AAS A VALUE"
   ]
  },
  {
   "cell_type": "code",
   "execution_count": 17,
   "id": "7edcc6dc-cf30-434f-88aa-0aa43860d8dd",
   "metadata": {},
   "outputs": [
    {
     "data": {
      "text/plain": [
       "{(4, 5, 6): [23, 45]}"
      ]
     },
     "execution_count": 17,
     "metadata": {},
     "output_type": "execute_result"
    }
   ],
   "source": [
    "d7"
   ]
  },
  {
   "cell_type": "code",
   "execution_count": 20,
   "id": "08bfa283-18ec-45a4-907d-003e37e7bd54",
   "metadata": {},
   "outputs": [
    {
     "ename": "TypeError",
     "evalue": "unhashable type: 'set'",
     "output_type": "error",
     "traceback": [
      "\u001b[0;31m---------------------------------------------------------------------------\u001b[0m",
      "\u001b[0;31mTypeError\u001b[0m                                 Traceback (most recent call last)",
      "Cell \u001b[0;32mIn[20], line 1\u001b[0m\n\u001b[0;32m----> 1\u001b[0m d8\u001b[38;5;241m=\u001b[39m{{\u001b[38;5;241m1\u001b[39m,\u001b[38;5;241m3\u001b[39m,\u001b[38;5;241m5\u001b[39m}:\u001b[38;5;124m\"\u001b[39m\u001b[38;5;124mabc\u001b[39m\u001b[38;5;124m\"\u001b[39m} \u001b[38;5;66;03m## SET WONT BE ABLE TO BE CONSIDER AS A KEY\u001b[39;00m\n",
      "\u001b[0;31mTypeError\u001b[0m: unhashable type: 'set'"
     ]
    }
   ],
   "source": [
    "d8={{1,3,5}:\"abc\"} ## SET WONT BE ABLE TO BE CONSIDER AS A KEY"
   ]
  },
  {
   "cell_type": "code",
   "execution_count": 22,
   "id": "53f29308-d7d1-4f89-8b24-79a182df660a",
   "metadata": {},
   "outputs": [],
   "source": [
    "d8={\"abc\" : {1,3,5}} ## but set can be considered as a value"
   ]
  },
  {
   "cell_type": "code",
   "execution_count": 23,
   "id": "9bda6c0a-25cc-42f7-a518-aa01b996804c",
   "metadata": {},
   "outputs": [
    {
     "data": {
      "text/plain": [
       "{'abc': {1, 3, 5}}"
      ]
     },
     "execution_count": 23,
     "metadata": {},
     "output_type": "execute_result"
    }
   ],
   "source": [
    "d8"
   ]
  },
  {
   "cell_type": "code",
   "execution_count": 25,
   "id": "b0ce1a7b-9529-47e1-b03b-074c886644aa",
   "metadata": {},
   "outputs": [
    {
     "ename": "TypeError",
     "evalue": "unhashable type: 'dict'",
     "output_type": "error",
     "traceback": [
      "\u001b[0;31m---------------------------------------------------------------------------\u001b[0m",
      "\u001b[0;31mTypeError\u001b[0m                                 Traceback (most recent call last)",
      "Cell \u001b[0;32mIn[25], line 1\u001b[0m\n\u001b[0;32m----> 1\u001b[0m d9\u001b[38;5;241m=\u001b[39m{{\u001b[38;5;124m\"\u001b[39m\u001b[38;5;124mkey\u001b[39m\u001b[38;5;124m\"\u001b[39m:\u001b[38;5;241m1234\u001b[39m}:\u001b[38;5;124m\"\u001b[39m\u001b[38;5;124mabc\u001b[39m\u001b[38;5;124m\"\u001b[39m} \u001b[38;5;66;03m## we cant take a dictionary as a key\u001b[39;00m\n",
      "\u001b[0;31mTypeError\u001b[0m: unhashable type: 'dict'"
     ]
    }
   ],
   "source": [
    "d9={{\"key\":1234}:\"abc\"} ## we cant take a dictionary as a key"
   ]
  },
  {
   "cell_type": "markdown",
   "id": "0ef091f2-6f50-43bb-9a81-b328b214b708",
   "metadata": {},
   "source": [
    "\"\"\"\"VALUE AS A LIST IS ALLOWED\"\"\""
   ]
  },
  {
   "cell_type": "code",
   "execution_count": 12,
   "id": "6d544dda-02b4-43c1-8193-92f569b013f2",
   "metadata": {},
   "outputs": [],
   "source": [
    "# WE CAN ALSO TAKE DICTIONARY AS A VALUE\n",
    "# ALSO KNOWNS AS A NESTED DICTIONARY\n",
    "d10={\"abc\":{\"key\":123}}"
   ]
  },
  {
   "cell_type": "code",
   "execution_count": 27,
   "id": "fa672291-b81a-4747-af32-c29261bf450b",
   "metadata": {},
   "outputs": [
    {
     "data": {
      "text/plain": [
       "{'abc': {'key': 123}}"
      ]
     },
     "execution_count": 27,
     "metadata": {},
     "output_type": "execute_result"
    }
   ],
   "source": [
    "d10"
   ]
  },
  {
   "cell_type": "code",
   "execution_count": 1,
   "id": "0d242e55-f5eb-452d-8c53-06f45b559027",
   "metadata": {},
   "outputs": [],
   "source": [
    "d11={'Batch_name':['Data_science_masters','Web_Dev','java'] , 'Start_date':(28,14,21) , 'Mentor_name' : {'krish','sudhanshu','hitesh','navin'}}"
   ]
  },
  {
   "cell_type": "code",
   "execution_count": 34,
   "id": "249b4083-081c-4432-ab80-c8e885742236",
   "metadata": {},
   "outputs": [
    {
     "data": {
      "text/plain": [
       "{'Batch_name': ['Data_science_masters', 'Web_Dev', 'java'],\n",
       " 'Start_date': (28, 14, 21),\n",
       " 'Mentor_name': {'hitesh', 'krish', 'navin', 'sudhanshu'}}"
      ]
     },
     "execution_count": 34,
     "metadata": {},
     "output_type": "execute_result"
    }
   ],
   "source": [
    "d11"
   ]
  },
  {
   "cell_type": "code",
   "execution_count": 2,
   "id": "f8bd9a95-78da-40b2-b213-ba9b67e252d6",
   "metadata": {},
   "outputs": [],
   "source": [
    "# ADDING A NEW KEY AND VALUE IN A OLD LIST \n",
    "d11[\"timing\"] = (8,8,8)"
   ]
  },
  {
   "cell_type": "code",
   "execution_count": 44,
   "id": "d002e5cf-c3a9-46b8-b034-68e08108f566",
   "metadata": {},
   "outputs": [
    {
     "data": {
      "text/plain": [
       "{'Batch_name': ['Data_science_masters', 'Web_Dev', 'java'],\n",
       " 'Start_date': (28, 14, 21),\n",
       " 'Mentor_name': {'hitesh', 'krish', 'navin', 'sudhanshu'},\n",
       " 'timing': (8, 8, 8)}"
      ]
     },
     "execution_count": 44,
     "metadata": {},
     "output_type": "execute_result"
    }
   ],
   "source": [
    "d11"
   ]
  },
  {
   "cell_type": "code",
   "execution_count": 5,
   "id": "8759793f-fdae-4c77-978f-5fb25df0efa3",
   "metadata": {},
   "outputs": [
    {
     "data": {
      "text/plain": [
       "['Data_science_masters', 'Web_Dev', 'java']"
      ]
     },
     "execution_count": 5,
     "metadata": {},
     "output_type": "execute_result"
    }
   ],
   "source": [
    "#we can extract an index pair through the name of a key\n",
    "d11[\"Batch_name\"]"
   ]
  },
  {
   "cell_type": "code",
   "execution_count": 4,
   "id": "c4d8f9ff-842e-4818-91aa-5aa3dabb62cd",
   "metadata": {},
   "outputs": [
    {
     "data": {
      "text/plain": [
       "{'hitesh', 'krish', 'navin', 'sudhanshu'}"
      ]
     },
     "execution_count": 4,
     "metadata": {},
     "output_type": "execute_result"
    }
   ],
   "source": [
    "d11['Mentor_name']"
   ]
  },
  {
   "cell_type": "code",
   "execution_count": 7,
   "id": "d19ebd3b-0dfa-4df1-ac60-097749d5bcf8",
   "metadata": {},
   "outputs": [],
   "source": [
    "d11['Name'] ='Sudhanshu'"
   ]
  },
  {
   "cell_type": "code",
   "execution_count": 8,
   "id": "4cfd211d-6062-45a6-b11a-c832f2643444",
   "metadata": {},
   "outputs": [
    {
     "data": {
      "text/plain": [
       "{'Batch_name': ['Data_science_masters', 'Web_Dev', 'java'],\n",
       " 'Start_date': (28, 14, 21),\n",
       " 'Mentor_name': {'hitesh', 'krish', 'navin', 'sudhanshu'},\n",
       " 'timing': (8, 8, 8),\n",
       " 'Name': 'Sudhanshu'}"
      ]
     },
     "execution_count": 8,
     "metadata": {},
     "output_type": "execute_result"
    }
   ],
   "source": [
    "d11"
   ]
  },
  {
   "cell_type": "code",
   "execution_count": 9,
   "id": "2e660e3a-e83c-417f-86a4-367de7fc655a",
   "metadata": {},
   "outputs": [
    {
     "data": {
      "text/plain": [
       "'Sudhanshu'"
      ]
     },
     "execution_count": 9,
     "metadata": {},
     "output_type": "execute_result"
    }
   ],
   "source": [
    "d11['Name']"
   ]
  },
  {
   "cell_type": "code",
   "execution_count": 10,
   "id": "5dd70229-96e4-4d06-8044-464143aba7b0",
   "metadata": {},
   "outputs": [
    {
     "data": {
      "text/plain": [
       "'SUDHANSHU'"
      ]
     },
     "execution_count": 10,
     "metadata": {},
     "output_type": "execute_result"
    }
   ],
   "source": [
    "d11['Name'].upper()"
   ]
  },
  {
   "cell_type": "code",
   "execution_count": 17,
   "id": "92bdd81b-75b4-4a8d-b131-e1e36153cd3f",
   "metadata": {},
   "outputs": [
    {
     "data": {
      "text/plain": [
       "{'key': 123}"
      ]
     },
     "execution_count": 17,
     "metadata": {},
     "output_type": "execute_result"
    }
   ],
   "source": [
    "d10['abc']"
   ]
  },
  {
   "cell_type": "code",
   "execution_count": 16,
   "id": "011c88a5-e919-479f-9fb6-f4ec8b57aaa3",
   "metadata": {},
   "outputs": [
    {
     "data": {
      "text/plain": [
       "dict"
      ]
     },
     "execution_count": 16,
     "metadata": {},
     "output_type": "execute_result"
    }
   ],
   "source": [
    "type(d10['abc'])"
   ]
  },
  {
   "cell_type": "code",
   "execution_count": 18,
   "id": "d09f3944-4c8c-4afe-9207-53a1c74fe209",
   "metadata": {},
   "outputs": [
    {
     "data": {
      "text/plain": [
       "123"
      ]
     },
     "execution_count": 18,
     "metadata": {},
     "output_type": "execute_result"
    }
   ],
   "source": [
    "d10['abc']['key']"
   ]
  },
  {
   "cell_type": "code",
   "execution_count": 19,
   "id": "66a690a3-02ac-4fbe-b125-a76c6cf44470",
   "metadata": {},
   "outputs": [
    {
     "data": {
      "text/plain": [
       "{'Batch_name': ['Data_science_masters', 'Web_Dev', 'java'],\n",
       " 'Start_date': (28, 14, 21),\n",
       " 'Mentor_name': {'hitesh', 'krish', 'navin', 'sudhanshu'},\n",
       " 'timing': (8, 8, 8),\n",
       " 'Name': 'Sudhanshu'}"
      ]
     },
     "execution_count": 19,
     "metadata": {},
     "output_type": "execute_result"
    }
   ],
   "source": [
    "d11"
   ]
  },
  {
   "cell_type": "code",
   "execution_count": 21,
   "id": "1af49787-e8fc-4ec6-b014-10ea83c8dc35",
   "metadata": {},
   "outputs": [],
   "source": [
    "d10['key1']='abc'"
   ]
  },
  {
   "cell_type": "code",
   "execution_count": 23,
   "id": "09f8a583-67cd-47ed-ab82-7023850c7292",
   "metadata": {},
   "outputs": [
    {
     "data": {
      "text/plain": [
       "{'abc': {'key': 123}, 'key1': 'abc'}"
      ]
     },
     "execution_count": 23,
     "metadata": {},
     "output_type": "execute_result"
    }
   ],
   "source": [
    "d10"
   ]
  },
  {
   "cell_type": "code",
   "execution_count": 24,
   "id": "7f1db563-90a4-41db-bd4b-1c546a657e93",
   "metadata": {},
   "outputs": [],
   "source": [
    "del d10['key1']"
   ]
  },
  {
   "cell_type": "code",
   "execution_count": 25,
   "id": "a1ad8a83-4ef9-4d49-b22c-0d1dd487c351",
   "metadata": {},
   "outputs": [
    {
     "data": {
      "text/plain": [
       "{'abc': {'key': 123}}"
      ]
     },
     "execution_count": 25,
     "metadata": {},
     "output_type": "execute_result"
    }
   ],
   "source": [
    "d10"
   ]
  },
  {
   "cell_type": "code",
   "execution_count": 27,
   "id": "acbfdc17-5107-45ff-a25b-a78d5ce8de71",
   "metadata": {},
   "outputs": [],
   "source": [
    "d10.clear()"
   ]
  },
  {
   "cell_type": "code",
   "execution_count": 28,
   "id": "d2b87ab5-7443-42d7-9d5b-362a5408e3f2",
   "metadata": {},
   "outputs": [
    {
     "data": {
      "text/plain": [
       "5"
      ]
     },
     "execution_count": 28,
     "metadata": {},
     "output_type": "execute_result"
    }
   ],
   "source": [
    "len(d11)"
   ]
  },
  {
   "cell_type": "code",
   "execution_count": 29,
   "id": "c121182d-1778-4ff9-bc4d-23729c4755ca",
   "metadata": {},
   "outputs": [
    {
     "data": {
      "text/plain": [
       "dict_keys(['Batch_name', 'Start_date', 'Mentor_name', 'timing', 'Name'])"
      ]
     },
     "execution_count": 29,
     "metadata": {},
     "output_type": "execute_result"
    }
   ],
   "source": [
    "d11.keys()"
   ]
  },
  {
   "cell_type": "code",
   "execution_count": 30,
   "id": "52ce1072-cdf7-4e45-add9-ab3b1aa5821b",
   "metadata": {},
   "outputs": [
    {
     "data": {
      "text/plain": [
       "dict_values([['Data_science_masters', 'Web_Dev', 'java'], (28, 14, 21), {'sudhanshu', 'navin', 'krish', 'hitesh'}, (8, 8, 8), 'Sudhanshu'])"
      ]
     },
     "execution_count": 30,
     "metadata": {},
     "output_type": "execute_result"
    }
   ],
   "source": [
    "d11.values()"
   ]
  },
  {
   "cell_type": "code",
   "execution_count": 31,
   "id": "5ef47aff-74ca-471c-a09e-464e01ed0152",
   "metadata": {},
   "outputs": [],
   "source": [
    "l=list(d11.values())"
   ]
  },
  {
   "cell_type": "code",
   "execution_count": 32,
   "id": "fb521e6f-c371-4e6c-80fe-f0e874061caa",
   "metadata": {},
   "outputs": [
    {
     "data": {
      "text/plain": [
       "[['Data_science_masters', 'Web_Dev', 'java'],\n",
       " (28, 14, 21),\n",
       " {'hitesh', 'krish', 'navin', 'sudhanshu'},\n",
       " (8, 8, 8),\n",
       " 'Sudhanshu']"
      ]
     },
     "execution_count": 32,
     "metadata": {},
     "output_type": "execute_result"
    }
   ],
   "source": [
    "l"
   ]
  },
  {
   "cell_type": "code",
   "execution_count": 34,
   "id": "e7b90622-5511-4c95-885a-4265afcc8be2",
   "metadata": {},
   "outputs": [
    {
     "data": {
      "text/plain": [
       "dict_items([('Batch_name', ['Data_science_masters', 'Web_Dev', 'java']), ('Start_date', (28, 14, 21)), ('Mentor_name', {'sudhanshu', 'navin', 'krish', 'hitesh'}), ('timing', (8, 8, 8)), ('Name', 'Sudhanshu')])"
      ]
     },
     "execution_count": 34,
     "metadata": {},
     "output_type": "execute_result"
    }
   ],
   "source": [
    "d11.items() ## list and inside list there are tuples"
   ]
  },
  {
   "cell_type": "code",
   "execution_count": 35,
   "id": "56421c27-8f6a-4b7a-9d88-423e8d14d1e9",
   "metadata": {},
   "outputs": [],
   "source": [
    "d12=d11.copy() ## DEEP COPY"
   ]
  },
  {
   "cell_type": "code",
   "execution_count": 36,
   "id": "22e745f1-aecb-4ad9-832a-8d6b69fe1065",
   "metadata": {},
   "outputs": [
    {
     "data": {
      "text/plain": [
       "{'Batch_name': ['Data_science_masters', 'Web_Dev', 'java'],\n",
       " 'Start_date': (28, 14, 21),\n",
       " 'Mentor_name': {'hitesh', 'krish', 'navin', 'sudhanshu'},\n",
       " 'timing': (8, 8, 8),\n",
       " 'Name': 'Sudhanshu'}"
      ]
     },
     "execution_count": 36,
     "metadata": {},
     "output_type": "execute_result"
    }
   ],
   "source": [
    "d12"
   ]
  },
  {
   "cell_type": "code",
   "execution_count": 37,
   "id": "2809264b-656e-4c21-a030-df7aa8ee91e4",
   "metadata": {},
   "outputs": [],
   "source": [
    "del d11['Name']"
   ]
  },
  {
   "cell_type": "code",
   "execution_count": 38,
   "id": "5056a791-decf-4e23-96bf-6191066728a9",
   "metadata": {},
   "outputs": [
    {
     "data": {
      "text/plain": [
       "{'Batch_name': ['Data_science_masters', 'Web_Dev', 'java'],\n",
       " 'Start_date': (28, 14, 21),\n",
       " 'Mentor_name': {'hitesh', 'krish', 'navin', 'sudhanshu'},\n",
       " 'timing': (8, 8, 8)}"
      ]
     },
     "execution_count": 38,
     "metadata": {},
     "output_type": "execute_result"
    }
   ],
   "source": [
    "d11"
   ]
  },
  {
   "cell_type": "code",
   "execution_count": 39,
   "id": "43a32888-2319-4f5a-8cc0-9af98e253e3a",
   "metadata": {},
   "outputs": [
    {
     "data": {
      "text/plain": [
       "{'Batch_name': ['Data_science_masters', 'Web_Dev', 'java'],\n",
       " 'Start_date': (28, 14, 21),\n",
       " 'Mentor_name': {'hitesh', 'krish', 'navin', 'sudhanshu'},\n",
       " 'timing': (8, 8, 8),\n",
       " 'Name': 'Sudhanshu'}"
      ]
     },
     "execution_count": 39,
     "metadata": {},
     "output_type": "execute_result"
    }
   ],
   "source": [
    "d12"
   ]
  },
  {
   "cell_type": "code",
   "execution_count": 40,
   "id": "1de1bf5b-446c-4759-8c4d-bb6b355fea87",
   "metadata": {},
   "outputs": [],
   "source": [
    "d13=d12## SWALLOW COPYY"
   ]
  },
  {
   "cell_type": "code",
   "execution_count": 41,
   "id": "9e3e6f0e-9119-4871-8266-609bb2573dc4",
   "metadata": {},
   "outputs": [
    {
     "data": {
      "text/plain": [
       "{'Batch_name': ['Data_science_masters', 'Web_Dev', 'java'],\n",
       " 'Start_date': (28, 14, 21),\n",
       " 'Mentor_name': {'hitesh', 'krish', 'navin', 'sudhanshu'},\n",
       " 'timing': (8, 8, 8),\n",
       " 'Name': 'Sudhanshu'}"
      ]
     },
     "execution_count": 41,
     "metadata": {},
     "output_type": "execute_result"
    }
   ],
   "source": [
    "d13"
   ]
  },
  {
   "cell_type": "code",
   "execution_count": 42,
   "id": "0d14f205-fe2d-4a2e-9aab-3b1d32a0138d",
   "metadata": {},
   "outputs": [],
   "source": [
    "del d12['Name'] "
   ]
  },
  {
   "cell_type": "code",
   "execution_count": null,
   "id": "8eacfde9-b69d-4469-96d7-dba4f270889b",
   "metadata": {},
   "outputs": [],
   "source": [
    "#   HERE WE DELETED THE NAME INDEX FROM D12 BUT WILL ALSO GET DELETED FROM D13 BECAUSE OF THE SWALLO COPY METHOD"
   ]
  },
  {
   "cell_type": "code",
   "execution_count": 43,
   "id": "96deac1f-20cc-4eb1-8a15-866485a8c6f9",
   "metadata": {},
   "outputs": [
    {
     "data": {
      "text/plain": [
       "{'Batch_name': ['Data_science_masters', 'Web_Dev', 'java'],\n",
       " 'Start_date': (28, 14, 21),\n",
       " 'Mentor_name': {'hitesh', 'krish', 'navin', 'sudhanshu'},\n",
       " 'timing': (8, 8, 8)}"
      ]
     },
     "execution_count": 43,
     "metadata": {},
     "output_type": "execute_result"
    }
   ],
   "source": [
    "d13"
   ]
  },
  {
   "cell_type": "code",
   "execution_count": 44,
   "id": "b1d77236-72a5-49b2-b5ed-b243f693f7bf",
   "metadata": {},
   "outputs": [
    {
     "data": {
      "text/plain": [
       "{'Batch_name': ['Data_science_masters', 'Web_Dev', 'java'],\n",
       " 'Start_date': (28, 14, 21),\n",
       " 'Mentor_name': {'hitesh', 'krish', 'navin', 'sudhanshu'},\n",
       " 'timing': (8, 8, 8)}"
      ]
     },
     "execution_count": 44,
     "metadata": {},
     "output_type": "execute_result"
    }
   ],
   "source": [
    "d11"
   ]
  },
  {
   "cell_type": "code",
   "execution_count": 50,
   "id": "eede809a-1a55-402b-9ad3-155c9f26c417",
   "metadata": {},
   "outputs": [
    {
     "data": {
      "text/plain": [
       "(8, 8, 8)"
      ]
     },
     "execution_count": 50,
     "metadata": {},
     "output_type": "execute_result"
    }
   ],
   "source": [
    "d11.pop('timing')"
   ]
  },
  {
   "cell_type": "code",
   "execution_count": 51,
   "id": "d58a61f3-430b-4248-9114-4be6ea84811e",
   "metadata": {},
   "outputs": [
    {
     "data": {
      "text/plain": [
       "{'Start_date': (28, 14, 21),\n",
       " 'Mentor_name': {'hitesh', 'krish', 'navin', 'sudhanshu'}}"
      ]
     },
     "execution_count": 51,
     "metadata": {},
     "output_type": "execute_result"
    }
   ],
   "source": [
    "d11"
   ]
  },
  {
   "cell_type": "code",
   "execution_count": 56,
   "id": "6c6e703c-691b-42f2-a863-ee74e044ae23",
   "metadata": {},
   "outputs": [
    {
     "data": {
      "text/plain": [
       "{1: ('a', 'b', 'c'), 2: ('a', 'b', 'c'), 3: ('a', 'b', 'c')}"
      ]
     },
     "execution_count": 56,
     "metadata": {},
     "output_type": "execute_result"
    }
   ],
   "source": [
    "d19={}\n",
    "d19.fromkeys((1,2,3) , ('a','b','c'))## i used tuples here you can use any iterables like list set etc"
   ]
  },
  {
   "cell_type": "code",
   "execution_count": 2,
   "id": "a1ad2805-c891-400d-9b69-4bde02e0c69d",
   "metadata": {},
   "outputs": [],
   "source": [
    "d20={'key1':'value1' , 'key2':'value2'}\n",
    "d21={'key3':'value3' , 'key4':'value4'}"
   ]
  },
  {
   "cell_type": "code",
   "execution_count": 60,
   "id": "d199a387-2e10-4a7c-802b-9646b872429f",
   "metadata": {},
   "outputs": [],
   "source": [
    "t1=(d20,d21)"
   ]
  },
  {
   "cell_type": "code",
   "execution_count": 61,
   "id": "f523c017-9ec8-41f4-ad32-28d751626513",
   "metadata": {},
   "outputs": [
    {
     "data": {
      "text/plain": [
       "({'key1': 'value1', 'key2': 'value2'}, {'key3': 'value3', 'key4': 'value4'})"
      ]
     },
     "execution_count": 61,
     "metadata": {},
     "output_type": "execute_result"
    }
   ],
   "source": [
    "t1"
   ]
  },
  {
   "cell_type": "code",
   "execution_count": 62,
   "id": "d6fd7bc2-bd7c-400b-8876-f90603787413",
   "metadata": {},
   "outputs": [],
   "source": [
    "d20.update(d21) ## will add d21 to d20"
   ]
  },
  {
   "cell_type": "code",
   "execution_count": 63,
   "id": "69d875bb-3a65-4855-833d-8909dfebe21d",
   "metadata": {},
   "outputs": [
    {
     "data": {
      "text/plain": [
       "{'key1': 'value1', 'key2': 'value2', 'key3': 'value3', 'key4': 'value4'}"
      ]
     },
     "execution_count": 63,
     "metadata": {},
     "output_type": "execute_result"
    }
   ],
   "source": [
    "d20"
   ]
  },
  {
   "cell_type": "code",
   "execution_count": 64,
   "id": "620dc8e5-05ea-4568-8e19-505a07e455f2",
   "metadata": {},
   "outputs": [],
   "source": [
    "d20.get('unknownkey') # get function never gives error"
   ]
  },
  {
   "cell_type": "code",
   "execution_count": 66,
   "id": "853dd2d9-f746-46e8-a607-08f7e6e5c49a",
   "metadata": {},
   "outputs": [
    {
     "ename": "KeyError",
     "evalue": "'unknownkey'",
     "output_type": "error",
     "traceback": [
      "\u001b[0;31m---------------------------------------------------------------------------\u001b[0m",
      "\u001b[0;31mKeyError\u001b[0m                                  Traceback (most recent call last)",
      "Cell \u001b[0;32mIn[66], line 1\u001b[0m\n\u001b[0;32m----> 1\u001b[0m \u001b[43md20\u001b[49m\u001b[43m[\u001b[49m\u001b[38;5;124;43m'\u001b[39;49m\u001b[38;5;124;43munknownkey\u001b[39;49m\u001b[38;5;124;43m'\u001b[39;49m\u001b[43m]\u001b[49m\n",
      "\u001b[0;31mKeyError\u001b[0m: 'unknownkey'"
     ]
    }
   ],
   "source": [
    "d20['unknownkey']"
   ]
  },
  {
   "cell_type": "markdown",
   "id": "3f017c1d-1087-4085-8d94-87589b674c57",
   "metadata": {},
   "source": [
    "d20.get('key1')"
   ]
  },
  {
   "cell_type": "markdown",
   "id": "a2027233-0b08-46b9-b3fd-ef65f1eaa37a",
   "metadata": {},
   "source": [
    "# DICTIONARY COMPREHENSION"
   ]
  },
  {
   "cell_type": "code",
   "execution_count": 69,
   "id": "e2115163-53e6-4b6a-b475-3e318da6dce3",
   "metadata": {},
   "outputs": [
    {
     "data": {
      "text/plain": [
       "{1: 1, 2: 4, 3: 9, 4: 16, 5: 25, 6: 36, 7: 49, 8: 64, 9: 81, 10: 100}"
      ]
     },
     "execution_count": 69,
     "metadata": {},
     "output_type": "execute_result"
    }
   ],
   "source": [
    "{i:i*i for i in range(1,11) }"
   ]
  },
  {
   "cell_type": "code",
   "execution_count": null,
   "id": "815558f7-9106-4210-a65f-b19411e19d9c",
   "metadata": {},
   "outputs": [],
   "source": []
  },
  {
   "cell_type": "code",
   "execution_count": 5,
   "id": "672d4952-caab-4176-9c70-bb5770a4c5c3",
   "metadata": {},
   "outputs": [],
   "source": [
    "import math\n",
    "d22={i : math.log10(i) for i in range(1,11)}"
   ]
  },
  {
   "cell_type": "code",
   "execution_count": 3,
   "id": "693c8fa1-047e-494a-88e0-45dc018c3e8f",
   "metadata": {},
   "outputs": [
    {
     "data": {
      "text/plain": [
       "False"
      ]
     },
     "execution_count": 3,
     "metadata": {},
     "output_type": "execute_result"
    }
   ],
   "source": [
    "'Batch_name' in d21"
   ]
  },
  {
   "cell_type": "code",
   "execution_count": 6,
   "id": "9286f250-f55a-4b30-b2c6-6bce71da96a5",
   "metadata": {},
   "outputs": [
    {
     "data": {
      "text/plain": [
       "dict_keys([1, 2, 3, 4, 5, 6, 7, 8, 9, 10])"
      ]
     },
     "execution_count": 6,
     "metadata": {},
     "output_type": "execute_result"
    }
   ],
   "source": [
    "d22.keys()"
   ]
  },
  {
   "cell_type": "code",
   "execution_count": 10,
   "id": "2fd60ca7-791d-40b2-b16b-31154209fc71",
   "metadata": {},
   "outputs": [
    {
     "name": "stdout",
     "output_type": "stream",
     "text": [
      "0.3010299956639812\n",
      "0.6020599913279624\n",
      "0.7781512503836436\n",
      "0.9030899869919435\n",
      "1.0\n"
     ]
    }
   ],
   "source": [
    "for i in d22.keys():\n",
    "    if i%2==0:\n",
    "        print(d22[i])"
   ]
  },
  {
   "cell_type": "code",
   "execution_count": null,
   "id": "e2109e3f-f22b-472f-a476-5223b5315563",
   "metadata": {},
   "outputs": [],
   "source": []
  }
 ],
 "metadata": {
  "kernelspec": {
   "display_name": "Python 3 (ipykernel)",
   "language": "python",
   "name": "python3"
  },
  "language_info": {
   "codemirror_mode": {
    "name": "ipython",
    "version": 3
   },
   "file_extension": ".py",
   "mimetype": "text/x-python",
   "name": "python",
   "nbconvert_exporter": "python",
   "pygments_lexer": "ipython3",
   "version": "3.10.8"
  }
 },
 "nbformat": 4,
 "nbformat_minor": 5
}
