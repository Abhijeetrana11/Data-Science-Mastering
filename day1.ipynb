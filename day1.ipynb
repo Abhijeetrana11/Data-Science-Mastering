{
 "cells": [
  {
   "cell_type": "code",
   "execution_count": 1,
   "id": "543590ce-68fb-4838-ad38-18767b86e4e9",
   "metadata": {},
   "outputs": [],
   "source": [
    "a=10"
   ]
  },
  {
   "cell_type": "code",
   "execution_count": 2,
   "id": "bd7b3330-9ed2-4750-91c7-258ccc7bdeb2",
   "metadata": {},
   "outputs": [
    {
     "name": "stdout",
     "output_type": "stream",
     "text": [
      "10\n"
     ]
    }
   ],
   "source": [
    "print(a)\n"
   ]
  },
  {
   "cell_type": "code",
   "execution_count": null,
   "id": "b44b0302-c9bc-4351-8289-0b564fa7cf57",
   "metadata": {},
   "outputs": [],
   "source": [
    "a=10"
   ]
  },
  {
   "cell_type": "code",
   "execution_count": null,
   "id": "5ed22de7-6ce7-4b0d-868f-b68da63d72af",
   "metadata": {},
   "outputs": [
    {
     "data": {
      "text/plain": [
       "10"
      ]
     },
     "execution_count": 4,
     "metadata": {},
     "output_type": "execute_result"
    }
   ],
   "source": []
  },
  {
   "cell_type": "markdown",
   "id": "772189a9-90e3-4c77-afa0-9791ed7e3b5e",
   "metadata": {
    "tags": []
   },
   "source": [
    "## My name is abhijeet "
   ]
  },
  {
   "cell_type": "code",
   "execution_count": 5,
   "id": "2f371791-585e-4ece-975e-9fe153f28d8b",
   "metadata": {},
   "outputs": [
    {
     "ename": "NameError",
     "evalue": "name 'ab2' is not defined",
     "output_type": "error",
     "traceback": [
      "\u001b[0;31m---------------------------------------------------------------------------\u001b[0m",
      "\u001b[0;31mNameError\u001b[0m                                 Traceback (most recent call last)",
      "Cell \u001b[0;32mIn[5], line 1\u001b[0m\n\u001b[0;32m----> 1\u001b[0m name \u001b[38;5;241m=\u001b[39m \u001b[43mab2\u001b[49m\n",
      "\u001b[0;31mNameError\u001b[0m: name 'ab2' is not defined"
     ]
    }
   ],
   "source": [
    "name = ab2"
   ]
  },
  {
   "cell_type": "code",
   "execution_count": 3,
   "id": "a765f2dc-b6d6-4cc0-b841-92dace49a076",
   "metadata": {},
   "outputs": [
    {
     "data": {
      "text/plain": [
       "int"
      ]
     },
     "execution_count": 3,
     "metadata": {},
     "output_type": "execute_result"
    }
   ],
   "source": [
    "type(name)\n"
   ]
  },
  {
   "cell_type": "code",
   "execution_count": 8,
   "id": "7ae58805-3513-424e-aba2-fad37cdcc989",
   "metadata": {},
   "outputs": [],
   "source": [
    "decimal_num=69.34"
   ]
  },
  {
   "cell_type": "code",
   "execution_count": 9,
   "id": "7b84bb14-d390-4358-82b7-53399e09d9bb",
   "metadata": {},
   "outputs": [
    {
     "data": {
      "text/plain": [
       "69.34"
      ]
     },
     "execution_count": 9,
     "metadata": {},
     "output_type": "execute_result"
    }
   ],
   "source": [
    "decimal_num"
   ]
  },
  {
   "cell_type": "code",
   "execution_count": 10,
   "id": "6c98eef2-24a1-4620-ae3f-40219ea7a926",
   "metadata": {},
   "outputs": [
    {
     "data": {
      "text/plain": [
       "float"
      ]
     },
     "execution_count": 10,
     "metadata": {},
     "output_type": "execute_result"
    }
   ],
   "source": [
    "type(decimal_num)"
   ]
  },
  {
   "cell_type": "code",
   "execution_count": 11,
   "id": "05ac472c-4786-4884-9733-75751aac1237",
   "metadata": {},
   "outputs": [],
   "source": [
    "num1=34\n"
   ]
  },
  {
   "cell_type": "code",
   "execution_count": 14,
   "id": "c38c27cf-659f-4119-b6f0-59833f921d17",
   "metadata": {},
   "outputs": [],
   "source": [
    "#variables are case sensitive\n",
    "company ='abc'\n",
    "Company='defg'"
   ]
  },
  {
   "cell_type": "code",
   "execution_count": 15,
   "id": "4f484d80-4337-4b32-b865-2b8e0dea1784",
   "metadata": {},
   "outputs": [
    {
     "data": {
      "text/plain": [
       "True"
      ]
     },
     "execution_count": 15,
     "metadata": {},
     "output_type": "execute_result"
    }
   ],
   "source": [
    "True"
   ]
  },
  {
   "cell_type": "code",
   "execution_count": 16,
   "id": "624d6bb4-6ea2-43f0-89d9-9cb14f635399",
   "metadata": {},
   "outputs": [
    {
     "data": {
      "text/plain": [
       "False"
      ]
     },
     "execution_count": 16,
     "metadata": {},
     "output_type": "execute_result"
    }
   ],
   "source": [
    "True and False"
   ]
  },
  {
   "cell_type": "code",
   "execution_count": 17,
   "id": "c632c3ed-979f-4cc1-952d-80b8542e3a7a",
   "metadata": {},
   "outputs": [
    {
     "data": {
      "text/plain": [
       "True"
      ]
     },
     "execution_count": 17,
     "metadata": {},
     "output_type": "execute_result"
    }
   ],
   "source": [
    "True or False"
   ]
  },
  {
   "cell_type": "code",
   "execution_count": 18,
   "id": "716d44c9-8cbc-4d20-b44c-adceb1276759",
   "metadata": {},
   "outputs": [
    {
     "data": {
      "text/plain": [
       "False"
      ]
     },
     "execution_count": 18,
     "metadata": {},
     "output_type": "execute_result"
    }
   ],
   "source": [
    "bool(0)"
   ]
  },
  {
   "cell_type": "code",
   "execution_count": 21,
   "id": "40507e1f-7f38-445f-ace3-4bca6af7be51",
   "metadata": {},
   "outputs": [],
   "source": [
    "a=1"
   ]
  },
  {
   "cell_type": "code",
   "execution_count": 22,
   "id": "e2bdffac-08b2-40a5-a39c-94a176256f33",
   "metadata": {},
   "outputs": [
    {
     "name": "stdout",
     "output_type": "stream",
     "text": [
      "True hai\n"
     ]
    }
   ],
   "source": [
    "if bool(a)==True:\n",
    "    print(\"True hai\")"
   ]
  },
  {
   "cell_type": "code",
   "execution_count": 25,
   "id": "03afde19-f0d9-41cc-9a56-24e97642785d",
   "metadata": {},
   "outputs": [
    {
     "data": {
      "text/plain": [
       "'23'"
      ]
     },
     "execution_count": 25,
     "metadata": {},
     "output_type": "execute_result"
    }
   ],
   "source": [
    "str('23')"
   ]
  },
  {
   "cell_type": "code",
   "execution_count": 27,
   "id": "65d3aabe-ddbd-4509-aff4-1034397e5d6a",
   "metadata": {},
   "outputs": [
    {
     "data": {
      "text/plain": [
       "type"
      ]
     },
     "execution_count": 27,
     "metadata": {},
     "output_type": "execute_result"
    }
   ],
   "source": [
    "type(str)"
   ]
  },
  {
   "cell_type": "code",
   "execution_count": 29,
   "id": "74866315-a692-41e6-98f8-62929e8a9c5e",
   "metadata": {},
   "outputs": [],
   "source": [
    "### Dynamic Typing ie the compiler on the run time can change its data type"
   ]
  },
  {
   "cell_type": "code",
   "execution_count": 30,
   "id": "06dfaa25-9c5f-4c2d-be3c-bdfe46661466",
   "metadata": {},
   "outputs": [
    {
     "data": {
      "text/plain": [
       "int"
      ]
     },
     "execution_count": 30,
     "metadata": {},
     "output_type": "execute_result"
    }
   ],
   "source": [
    "a=12\n",
    "type(a)"
   ]
  },
  {
   "cell_type": "code",
   "execution_count": 34,
   "id": "1ce37f07-d5d4-4c58-b0e0-8ae5ead1b47e",
   "metadata": {},
   "outputs": [
    {
     "data": {
      "text/plain": [
       "str"
      ]
     },
     "execution_count": 34,
     "metadata": {},
     "output_type": "execute_result"
    }
   ],
   "source": [
    "a=12\n",
    "type(a)\n",
    "a=\"var\"\n",
    "type(a)"
   ]
  },
  {
   "cell_type": "code",
   "execution_count": 35,
   "id": "400af20d-37b3-445d-a032-faf58f001161",
   "metadata": {},
   "outputs": [
    {
     "data": {
      "text/plain": [
       "1"
      ]
     },
     "execution_count": 35,
     "metadata": {},
     "output_type": "execute_result"
    }
   ],
   "source": [
    "int(1.34)"
   ]
  },
  {
   "cell_type": "code",
   "execution_count": 37,
   "id": "6f5e2366-5616-4e94-9c7e-b3e6c3f3f864",
   "metadata": {},
   "outputs": [
    {
     "data": {
      "text/plain": [
       "'11'"
      ]
     },
     "execution_count": 37,
     "metadata": {},
     "output_type": "execute_result"
    }
   ],
   "source": [
    "\"1\"+\"1\"\n"
   ]
  },
  {
   "cell_type": "code",
   "execution_count": 38,
   "id": "4b64fd52-8a33-4559-9975-89f9578f9fe3",
   "metadata": {},
   "outputs": [
    {
     "data": {
      "text/plain": [
       "'1+1'"
      ]
     },
     "execution_count": 38,
     "metadata": {},
     "output_type": "execute_result"
    }
   ],
   "source": [
    "\"1+1\""
   ]
  },
  {
   "cell_type": "code",
   "execution_count": null,
   "id": "3cfa3eeb-0581-4f4b-ac4b-0d6f10268c9b",
   "metadata": {},
   "outputs": [],
   "source": []
  }
 ],
 "metadata": {
  "kernelspec": {
   "display_name": "Python 3 (ipykernel)",
   "language": "python",
   "name": "python3"
  },
  "language_info": {
   "codemirror_mode": {
    "name": "ipython",
    "version": 3
   },
   "file_extension": ".py",
   "mimetype": "text/x-python",
   "name": "python",
   "nbconvert_exporter": "python",
   "pygments_lexer": "ipython3",
   "version": "3.10.8"
  }
 },
 "nbformat": 4,
 "nbformat_minor": 5
}
