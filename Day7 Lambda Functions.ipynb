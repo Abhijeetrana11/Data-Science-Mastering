{
 "cells": [
  {
   "cell_type": "code",
   "execution_count": 1,
   "id": "46542792-ef91-467d-86b5-3880c837b8ce",
   "metadata": {},
   "outputs": [],
   "source": [
    "n,p=3,2\n",
    "def test(n,p):\n",
    "    return n**p"
   ]
  },
  {
   "cell_type": "code",
   "execution_count": 2,
   "id": "311ce83d-173d-40d2-9a4f-fbdd8dcca961",
   "metadata": {},
   "outputs": [
    {
     "data": {
      "text/plain": [
       "9"
      ]
     },
     "execution_count": 2,
     "metadata": {},
     "output_type": "execute_result"
    }
   ],
   "source": [
    "test(n,p)"
   ]
  },
  {
   "cell_type": "code",
   "execution_count": 6,
   "id": "fe81f4ff-45a3-4a06-b04f-dae34a455d5b",
   "metadata": {},
   "outputs": [],
   "source": [
    "a= lambda n,p : n**p"
   ]
  },
  {
   "cell_type": "code",
   "execution_count": 9,
   "id": "c4827934-0297-48c1-a0b7-4bd8edb9283d",
   "metadata": {},
   "outputs": [
    {
     "data": {
      "text/plain": [
       "125"
      ]
     },
     "execution_count": 9,
     "metadata": {},
     "output_type": "execute_result"
    }
   ],
   "source": [
    "a(5,3)"
   ]
  },
  {
   "cell_type": "code",
   "execution_count": 10,
   "id": "013ee71c-ce18-4d4b-b30f-9dfee51cbbd3",
   "metadata": {},
   "outputs": [],
   "source": [
    "add=lambda x,y :x+y"
   ]
  },
  {
   "cell_type": "code",
   "execution_count": 12,
   "id": "def9b90c-503a-4995-a5b7-c22b2c175986",
   "metadata": {},
   "outputs": [
    {
     "data": {
      "text/plain": [
       "9"
      ]
     },
     "execution_count": 12,
     "metadata": {},
     "output_type": "execute_result"
    }
   ],
   "source": [
    "add(4,5)"
   ]
  },
  {
   "cell_type": "code",
   "execution_count": 13,
   "id": "7503f228-49ff-4815-aa49-d565e4233453",
   "metadata": {},
   "outputs": [],
   "source": [
    "c_to_f=lambda c : (9/5)*c +32"
   ]
  },
  {
   "cell_type": "code",
   "execution_count": 14,
   "id": "0396814f-5d2a-462c-afa7-346a78059035",
   "metadata": {},
   "outputs": [
    {
     "data": {
      "text/plain": [
       "93.2"
      ]
     },
     "execution_count": 14,
     "metadata": {},
     "output_type": "execute_result"
    }
   ],
   "source": [
    "c_to_f(34)"
   ]
  },
  {
   "cell_type": "code",
   "execution_count": 10,
   "id": "1fc7966a-2122-4f66-9692-4dacb1beb0fb",
   "metadata": {},
   "outputs": [],
   "source": [
    "find_max= lambda x,y : x if x>y else y"
   ]
  },
  {
   "cell_type": "code",
   "execution_count": 14,
   "id": "8edb3ef6-ea2c-4427-8917-4c608f44c254",
   "metadata": {},
   "outputs": [
    {
     "data": {
      "text/plain": [
       "4"
      ]
     },
     "execution_count": 14,
     "metadata": {},
     "output_type": "execute_result"
    }
   ],
   "source": [
    "find_max(3.99999999999999999,4)"
   ]
  },
  {
   "cell_type": "code",
   "execution_count": 15,
   "id": "1bfb0d92-e2c5-4861-af37-e8ac57889e92",
   "metadata": {},
   "outputs": [],
   "source": [
    "s='pwskills'"
   ]
  },
  {
   "cell_type": "code",
   "execution_count": 16,
   "id": "e8e4c514-f3e2-4fee-a62a-8cb3fed7eb80",
   "metadata": {},
   "outputs": [],
   "source": [
    "len_of=lambda s : len(s)"
   ]
  },
  {
   "cell_type": "code",
   "execution_count": 17,
   "id": "8e4cc89b-c5e8-4122-a5cd-15f43b66fbf0",
   "metadata": {},
   "outputs": [
    {
     "data": {
      "text/plain": [
       "8"
      ]
     },
     "execution_count": 17,
     "metadata": {},
     "output_type": "execute_result"
    }
   ],
   "source": [
    "len_of(s)"
   ]
  },
  {
   "cell_type": "code",
   "execution_count": null,
   "id": "bb565cb4-fc15-4062-b705-03677afabb3a",
   "metadata": {},
   "outputs": [],
   "source": []
  }
 ],
 "metadata": {
  "kernelspec": {
   "display_name": "Python 3 (ipykernel)",
   "language": "python",
   "name": "python3"
  },
  "language_info": {
   "codemirror_mode": {
    "name": "ipython",
    "version": 3
   },
   "file_extension": ".py",
   "mimetype": "text/x-python",
   "name": "python",
   "nbconvert_exporter": "python",
   "pygments_lexer": "ipython3",
   "version": "3.10.8"
  }
 },
 "nbformat": 4,
 "nbformat_minor": 5
}
