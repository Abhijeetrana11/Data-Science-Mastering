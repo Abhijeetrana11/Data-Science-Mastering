{
 "cells": [
  {
   "cell_type": "markdown",
   "id": "5c5a39fb-0409-4cba-8773-aa9bc07ee442",
   "metadata": {},
   "source": [
    "# "
   ]
  },
  {
   "cell_type": "code",
   "execution_count": 1,
   "id": "a8280560-8889-463d-ae2d-d85c2c11ff0c",
   "metadata": {},
   "outputs": [],
   "source": [
    "a=1"
   ]
  },
  {
   "cell_type": "code",
   "execution_count": 3,
   "id": "2d7c0cbc-9874-43c6-b649-a31ccde7b54f",
   "metadata": {},
   "outputs": [
    {
     "name": "stdout",
     "output_type": "stream",
     "text": [
      "<class 'int'>\n"
     ]
    }
   ],
   "source": [
    "print(type(a))"
   ]
  },
  {
   "cell_type": "code",
   "execution_count": 4,
   "id": "4b2e82a5-4da8-4683-b6a9-0eb2671a76ef",
   "metadata": {},
   "outputs": [
    {
     "ename": "SyntaxError",
     "evalue": "incomplete input (1236307212.py, line 2)",
     "output_type": "error",
     "traceback": [
      "\u001b[0;36m  Cell \u001b[0;32mIn[4], line 2\u001b[0;36m\u001b[0m\n\u001b[0;31m    \u001b[0m\n\u001b[0m    ^\u001b[0m\n\u001b[0;31mSyntaxError\u001b[0m\u001b[0;31m:\u001b[0m incomplete input\n"
     ]
    }
   ],
   "source": [
    "class test:\n",
    "    "
   ]
  },
  {
   "cell_type": "code",
   "execution_count": 5,
   "id": "701a3154-6c47-4dee-bd8d-538fb02097cd",
   "metadata": {},
   "outputs": [],
   "source": [
    "class test:\n",
    "    pass\n",
    "            "
   ]
  },
  {
   "cell_type": "code",
   "execution_count": 9,
   "id": "a038da19-785a-402b-bdb5-71b4f308881d",
   "metadata": {},
   "outputs": [],
   "source": [
    "# object of the class test\n",
    "a=test()"
   ]
  },
  {
   "cell_type": "code",
   "execution_count": 10,
   "id": "50189a6c-d95a-4edb-87df-531cf254483b",
   "metadata": {},
   "outputs": [
    {
     "name": "stdout",
     "output_type": "stream",
     "text": [
      "<class '__main__.test'>\n"
     ]
    }
   ],
   "source": [
    "print(type(a))"
   ]
  },
  {
   "cell_type": "code",
   "execution_count": 18,
   "id": "64168d3b-d0c0-4d2a-898d-32fc6e72bcc8",
   "metadata": {},
   "outputs": [],
   "source": [
    "class pwskills:\n",
    "    def welcome_message(self):\n",
    "        print(\"Welcome to PWSKILLS\")"
   ]
  },
  {
   "cell_type": "code",
   "execution_count": 19,
   "id": "1d473fd8-21fc-4259-bfa0-bf1b146c297d",
   "metadata": {},
   "outputs": [],
   "source": [
    "rohan=pwskills()"
   ]
  },
  {
   "cell_type": "code",
   "execution_count": 20,
   "id": "bdab18b8-778c-4a16-9727-819a359c7926",
   "metadata": {},
   "outputs": [
    {
     "name": "stdout",
     "output_type": "stream",
     "text": [
      "Welcome to PWSKILLS\n"
     ]
    }
   ],
   "source": [
    "rohan.welcome_message()"
   ]
  },
  {
   "cell_type": "code",
   "execution_count": 21,
   "id": "80cf5a4e-b273-4a0e-bb5e-970c94b2347a",
   "metadata": {},
   "outputs": [],
   "source": [
    "sohan=pwskills()"
   ]
  },
  {
   "cell_type": "code",
   "execution_count": 22,
   "id": "a989459f-fe85-4e24-8051-d0cd8e65aef1",
   "metadata": {},
   "outputs": [
    {
     "name": "stdout",
     "output_type": "stream",
     "text": [
      "Welcome to PWSKILLS\n"
     ]
    }
   ],
   "source": [
    "sohan.welcome_message()"
   ]
  },
  {
   "cell_type": "code",
   "execution_count": 45,
   "id": "14328b6f-4ee1-4e5d-b142-6d1827674b89",
   "metadata": {},
   "outputs": [],
   "source": [
    "class test:\n",
    "    a=1\n",
    "    def change_a(self,b):\n",
    "        print(b)\n",
    "        self.a=b"
   ]
  },
  {
   "cell_type": "code",
   "execution_count": 46,
   "id": "a7c14bf1-b7eb-406e-9527-cf70b4cfc92d",
   "metadata": {},
   "outputs": [],
   "source": [
    "rohan=test()"
   ]
  },
  {
   "cell_type": "code",
   "execution_count": 39,
   "id": "a1485d0e-e45c-4ed5-9eca-609c4aaaf959",
   "metadata": {},
   "outputs": [],
   "source": [
    "rohan.a\n",
    "b=3"
   ]
  },
  {
   "cell_type": "code",
   "execution_count": 48,
   "id": "0c86721c-8e2a-409e-b40c-2aba6daf3788",
   "metadata": {},
   "outputs": [
    {
     "name": "stdout",
     "output_type": "stream",
     "text": [
      "3\n"
     ]
    }
   ],
   "source": [
    "rohan.change_a(b)"
   ]
  },
  {
   "cell_type": "code",
   "execution_count": 49,
   "id": "1af13fdd-6de6-4e30-b33d-4e0b4711a39f",
   "metadata": {},
   "outputs": [
    {
     "data": {
      "text/plain": [
       "3"
      ]
     },
     "execution_count": 49,
     "metadata": {},
     "output_type": "execute_result"
    }
   ],
   "source": [
    "rohan.a\n"
   ]
  },
  {
   "cell_type": "code",
   "execution_count": 64,
   "id": "98d125a1-a99b-48a8-b6f9-d7ec53fd3c7a",
   "metadata": {},
   "outputs": [],
   "source": [
    "class pwskills1:\n",
    "    def __init__(self,ph_num,email_id,stuent_id):\n",
    "        self.ph_num=ph_num\n",
    "        self.email_id=email_id\n",
    "        self.stuent_id=stuent_id\n",
    "        \n",
    "    def resturn_student_details(self):\n",
    "        return self.ph_num , self.email_id , self.stuent_id"
   ]
  },
  {
   "cell_type": "code",
   "execution_count": 65,
   "id": "d4617f08-e1b3-4591-afbf-e90dafdbc712",
   "metadata": {},
   "outputs": [],
   "source": [
    "abhi=pwskills1(8224069333,'abhi@gmail.com','0105al211006')"
   ]
  },
  {
   "cell_type": "code",
   "execution_count": 66,
   "id": "d8081b74-e682-4684-b0d6-903fb672121e",
   "metadata": {},
   "outputs": [
    {
     "data": {
      "text/plain": [
       "(8224069333, 'abhi@gmail.com', '0105al211006')"
      ]
     },
     "execution_count": 66,
     "metadata": {},
     "output_type": "execute_result"
    }
   ],
   "source": [
    "abhi.resturn_student_details()"
   ]
  },
  {
   "cell_type": "code",
   "execution_count": 67,
   "id": "d25f35b6-814a-40a1-904e-ac01031c6ce0",
   "metadata": {},
   "outputs": [
    {
     "data": {
      "text/plain": [
       "8224069333"
      ]
     },
     "execution_count": 67,
     "metadata": {},
     "output_type": "execute_result"
    }
   ],
   "source": [
    "abhi.ph_num"
   ]
  },
  {
   "cell_type": "code",
   "execution_count": 68,
   "id": "9ffb63fd-c22a-4453-a7b1-e937acc92dfd",
   "metadata": {},
   "outputs": [
    {
     "data": {
      "text/plain": [
       "'0105al211006'"
      ]
     },
     "execution_count": 68,
     "metadata": {},
     "output_type": "execute_result"
    }
   ],
   "source": [
    "abhi.stuent_id"
   ]
  },
  {
   "cell_type": "code",
   "execution_count": 74,
   "id": "910bc30d-d50d-4d97-8f30-5f80204f6687",
   "metadata": {},
   "outputs": [],
   "source": [
    "class pwskills2:\n",
    "    def __init__(rana,ph_num,email_id,stuent_id):\n",
    "        rana.ph_num=ph_num\n",
    "        rana.email_id=email_id\n",
    "        rana.stuent_id=stuent_id\n",
    "        \n",
    "    def resturn_student_details(rana):\n",
    "        return rana.ph_num , rana.email_id , rana.stuent_id"
   ]
  },
  {
   "cell_type": "code",
   "execution_count": null,
   "id": "435bfe4e-f7ac-48e0-8be8-82dce4f3631a",
   "metadata": {},
   "outputs": [],
   "source": []
  },
  {
   "cell_type": "code",
   "execution_count": 75,
   "id": "1c740291-fbca-44a2-b100-f3d6c49dba38",
   "metadata": {},
   "outputs": [],
   "source": [
    "ram=pwskills2(8224069333,'abhi@gmail.com','0105al211006')"
   ]
  },
  {
   "cell_type": "code",
   "execution_count": 76,
   "id": "5a4c1fe8-684e-417b-a0c3-85d182386fc3",
   "metadata": {},
   "outputs": [
    {
     "data": {
      "text/plain": [
       "(8224069333, 'abhi@gmail.com', '0105al211006')"
      ]
     },
     "execution_count": 76,
     "metadata": {},
     "output_type": "execute_result"
    }
   ],
   "source": [
    "ram.resturn_student_details()"
   ]
  },
  {
   "cell_type": "code",
   "execution_count": 78,
   "id": "e0d91cfb-e54a-4d22-9a5c-3af9dfaa0052",
   "metadata": {},
   "outputs": [],
   "source": [
    "class pwskills3:\n",
    "    def __init__(rana,ph_num,email_id,stuent_id):\n",
    "        rana.ph_num1=ph_num\n",
    "        rana.email_id=email_id\n",
    "        rana.stuent_id=stuent_id\n",
    "        \n",
    "    def resturn_student_details(rana):\n",
    "        return rana.ph_num1 , rana.email_id , rana.stuent_id"
   ]
  },
  {
   "cell_type": "code",
   "execution_count": 79,
   "id": "cdf6b2ee-c2fd-47f9-aa41-6e6e2185ceb1",
   "metadata": {},
   "outputs": [],
   "source": [
    "hey=pwskills3(1,2,3)"
   ]
  },
  {
   "cell_type": "code",
   "execution_count": 81,
   "id": "cbafb2ea-f85c-43e2-8c9e-e33a5db95442",
   "metadata": {},
   "outputs": [
    {
     "data": {
      "text/plain": [
       "1"
      ]
     },
     "execution_count": 81,
     "metadata": {},
     "output_type": "execute_result"
    }
   ],
   "source": [
    "hey.ph_num1 # not ph_num"
   ]
  },
  {
   "cell_type": "code",
   "execution_count": null,
   "id": "228559b5-6e40-41fd-9160-4c1a26c029cd",
   "metadata": {},
   "outputs": [],
   "source": []
  }
 ],
 "metadata": {
  "kernelspec": {
   "display_name": "Python 3 (ipykernel)",
   "language": "python",
   "name": "python3"
  },
  "language_info": {
   "codemirror_mode": {
    "name": "ipython",
    "version": 3
   },
   "file_extension": ".py",
   "mimetype": "text/x-python",
   "name": "python",
   "nbconvert_exporter": "python",
   "pygments_lexer": "ipython3",
   "version": "3.10.8"
  }
 },
 "nbformat": 4,
 "nbformat_minor": 5
}
