{
 "cells": [
  {
   "cell_type": "code",
   "execution_count": 1,
   "id": "cd5b9a33-c10d-4487-88d5-a50f84107e8c",
   "metadata": {},
   "outputs": [],
   "source": [
    "name=\"Data science masters\""
   ]
  },
  {
   "cell_type": "code",
   "execution_count": 2,
   "id": "3bab4154-c885-41a8-b04c-2689723ea47a",
   "metadata": {},
   "outputs": [
    {
     "data": {
      "text/plain": [
       "'dATA SCIENCE MASTERS'"
      ]
     },
     "execution_count": 2,
     "metadata": {},
     "output_type": "execute_result"
    }
   ],
   "source": [
    "name.swapcase()"
   ]
  },
  {
   "cell_type": "code",
   "execution_count": 3,
   "id": "e5e36ef1-3176-4589-a8c8-8a3b7f8165f0",
   "metadata": {},
   "outputs": [
    {
     "data": {
      "text/plain": [
       "'Data Science Masters'"
      ]
     },
     "execution_count": 3,
     "metadata": {},
     "output_type": "execute_result"
    }
   ],
   "source": [
    "name.title()"
   ]
  },
  {
   "cell_type": "code",
   "execution_count": 5,
   "id": "31f634c2-84ac-4523-bbb0-2b58e499324d",
   "metadata": {},
   "outputs": [
    {
     "data": {
      "text/plain": [
       "'Data science masters'"
      ]
     },
     "execution_count": 5,
     "metadata": {},
     "output_type": "execute_result"
    }
   ],
   "source": [
    "name.capitalize()"
   ]
  },
  {
   "cell_type": "code",
   "execution_count": 6,
   "id": "92cfd3ee-bebd-40b2-a155-3676b93f3f4e",
   "metadata": {},
   "outputs": [
    {
     "data": {
      "text/plain": [
       "'sretsam ecneics ataD'"
      ]
     },
     "execution_count": 6,
     "metadata": {},
     "output_type": "execute_result"
    }
   ],
   "source": [
    "name[::-1]"
   ]
  },
  {
   "cell_type": "code",
   "execution_count": 9,
   "id": "801e7927-035d-414b-a940-eb8cc767066a",
   "metadata": {},
   "outputs": [],
   "source": [
    "name=\"ABHIJEET\""
   ]
  },
  {
   "cell_type": "code",
   "execution_count": 11,
   "id": "2cb4865f-bd74-46ed-abc4-8ba4d4fd597b",
   "metadata": {},
   "outputs": [
    {
     "data": {
      "text/plain": [
       "'T_E_E_J_I_H_B_A'"
      ]
     },
     "execution_count": 11,
     "metadata": {},
     "output_type": "execute_result"
    }
   ],
   "source": [
    "\"_\".join(reversed(name))"
   ]
  },
  {
   "cell_type": "code",
   "execution_count": 12,
   "id": "1208559f-ecf5-4dfa-b708-20a47d0c9e65",
   "metadata": {},
   "outputs": [
    {
     "data": {
      "text/plain": [
       "'A__B__H__I__J__E__E__T__ __S__I__N__G__H__ __R__A__N__A'"
      ]
     },
     "execution_count": 12,
     "metadata": {},
     "output_type": "execute_result"
    }
   ],
   "source": [
    "\"__\".join(\"ABHIJEET SINGH RANA\")"
   ]
  },
  {
   "cell_type": "code",
   "execution_count": 13,
   "id": "0c7f812e-4f33-4a79-ac60-fd27ed8e5671",
   "metadata": {},
   "outputs": [
    {
     "data": {
      "text/plain": [
       "'A__N__A__R__ __H__G__N__I__S__ __T__E__E__J__I__H__B__A'"
      ]
     },
     "execution_count": 13,
     "metadata": {},
     "output_type": "execute_result"
    }
   ],
   "source": [
    "\"__\".join(reversed(\"ABHIJEET SINGH RANA\"))"
   ]
  },
  {
   "cell_type": "code",
   "execution_count": 15,
   "id": "d9b0fc60-837e-42dd-ba4a-f8b696c3199c",
   "metadata": {},
   "outputs": [
    {
     "data": {
      "text/plain": [
       "['t', 'e', 'e', 'j', 'i', 'h', 'b', 'a']"
      ]
     },
     "execution_count": 15,
     "metadata": {},
     "output_type": "execute_result"
    }
   ],
   "source": [
    "list(reversed(\"abhijeet\"))"
   ]
  },
  {
   "cell_type": "code",
   "execution_count": 16,
   "id": "d18ab577-0202-4329-a864-8c42492e8628",
   "metadata": {},
   "outputs": [],
   "source": [
    "str1=\"My NAME IS ABHIJEET SINGH RANA\""
   ]
  },
  {
   "cell_type": "code",
   "execution_count": 17,
   "id": "335fba27-0f97-4dbd-81a5-ddcaf446e426",
   "metadata": {},
   "outputs": [
    {
     "data": {
      "text/plain": [
       "'M_y_ _N_A_M_E_ _I_S_ _A_B_H_I_J_E_E_T_ _S_I_N_G_H_ _R_A_N_A'"
      ]
     },
     "execution_count": 17,
     "metadata": {},
     "output_type": "execute_result"
    }
   ],
   "source": [
    "\"_\".join(str1)"
   ]
  },
  {
   "cell_type": "code",
   "execution_count": 18,
   "id": "56aafd07-6762-4ea6-9c9d-a4e4648886d8",
   "metadata": {},
   "outputs": [
    {
     "name": "stdout",
     "output_type": "stream",
     "text": [
      "a b h i j e e t "
     ]
    }
   ],
   "source": [
    "name=\"teejihba\"\n",
    "for i in list(reversed(name)):\n",
    "    print(i,end=\" \")"
   ]
  },
  {
   "cell_type": "markdown",
   "id": "a43a076b-6094-4a05-8c7c-288ca9157d4a",
   "metadata": {},
   "source": [
    "# Removing characters from the end of the string"
   ]
  },
  {
   "cell_type": "code",
   "execution_count": 19,
   "id": "faa5b047-aa8b-4282-9437-ab68edcbdf1b",
   "metadata": {},
   "outputs": [],
   "source": [
    "string_a=\" pwskills \"\n",
    "# lets say i want to remove the space"
   ]
  },
  {
   "cell_type": "code",
   "execution_count": 20,
   "id": "38dbbe8c-2758-4847-ae8e-0a115b695a67",
   "metadata": {},
   "outputs": [
    {
     "data": {
      "text/plain": [
       "'pwskills'"
      ]
     },
     "execution_count": 20,
     "metadata": {},
     "output_type": "execute_result"
    }
   ],
   "source": [
    "string_a.strip(\" \")"
   ]
  },
  {
   "cell_type": "code",
   "execution_count": 23,
   "id": "45b9e2a6-8b19-48ea-bf7e-cfc7b263ca2e",
   "metadata": {},
   "outputs": [
    {
     "data": {
      "text/plain": [
       "'pwskills '"
      ]
     },
     "execution_count": 23,
     "metadata": {},
     "output_type": "execute_result"
    }
   ],
   "source": [
    "string_a.lstrip(\" \")"
   ]
  },
  {
   "cell_type": "code",
   "execution_count": 24,
   "id": "2f7665ac-1fc7-42c3-b844-6f368a913da4",
   "metadata": {},
   "outputs": [
    {
     "data": {
      "text/plain": [
       "' pwskills'"
      ]
     },
     "execution_count": 24,
     "metadata": {},
     "output_type": "execute_result"
    }
   ],
   "source": [
    "string_a.rstrip(\" \")"
   ]
  },
  {
   "cell_type": "code",
   "execution_count": 26,
   "id": "2e9e8209-6fd1-4768-bfa7-a18f37225f42",
   "metadata": {},
   "outputs": [
    {
     "data": {
      "text/plain": [
       "'Greetings from PWSkills'"
      ]
     },
     "execution_count": 26,
     "metadata": {},
     "output_type": "execute_result"
    }
   ],
   "source": [
    "string_n=\"Greetings to PWSkills\"\n",
    "string_n.replace(\"to\",\"from\")"
   ]
  },
  {
   "cell_type": "code",
   "execution_count": 27,
   "id": "76b73ce9-f6a1-42ec-909f-8f8c2dc41e14",
   "metadata": {},
   "outputs": [
    {
     "data": {
      "text/plain": [
       "'hello world'"
      ]
     },
     "execution_count": 27,
     "metadata": {},
     "output_type": "execute_result"
    }
   ],
   "source": [
    "\"hello world\""
   ]
  },
  {
   "cell_type": "code",
   "execution_count": 37,
   "id": "5d4332e2-b290-44c4-b62c-dbc65025a41b",
   "metadata": {},
   "outputs": [
    {
     "data": {
      "text/plain": [
       "'hello \\tworld'"
      ]
     },
     "execution_count": 37,
     "metadata": {},
     "output_type": "execute_result"
    }
   ],
   "source": [
    "\"hello \\tworld\""
   ]
  },
  {
   "cell_type": "code",
   "execution_count": 38,
   "id": "794e6f5e-0c43-4ce1-af40-c46830eff392",
   "metadata": {},
   "outputs": [
    {
     "data": {
      "text/plain": [
       "'hello   world'"
      ]
     },
     "execution_count": 38,
     "metadata": {},
     "output_type": "execute_result"
    }
   ],
   "source": [
    "\"hello \\tworld\".expandtabs()"
   ]
  },
  {
   "cell_type": "code",
   "execution_count": 39,
   "id": "ee03853d-3f46-4532-86d0-71a8cc2b850b",
   "metadata": {},
   "outputs": [],
   "source": [
    "str1=\"Welcome to PW skills. Welcome to ata cience masters\""
   ]
  },
  {
   "cell_type": "code",
   "execution_count": 43,
   "id": "1b651973-653d-4007-9ded-ee720b00cac5",
   "metadata": {},
   "outputs": [],
   "source": [
    "str2=str1.replace(\"ata\",\"data\")\n"
   ]
  },
  {
   "cell_type": "code",
   "execution_count": 45,
   "id": "70ddbd7d-eba0-4de5-8a64-7e29273a3c2e",
   "metadata": {},
   "outputs": [
    {
     "data": {
      "text/plain": [
       "'Welcome to PW skills. Welcome to data science masters'"
      ]
     },
     "execution_count": 45,
     "metadata": {},
     "output_type": "execute_result"
    }
   ],
   "source": [
    "str2.replace(\"cience\",\"science\") # or we can do by the following method too"
   ]
  },
  {
   "cell_type": "code",
   "execution_count": 46,
   "id": "15f27dd4-e3f8-435b-be5f-87ab2857ab12",
   "metadata": {},
   "outputs": [
    {
     "data": {
      "text/plain": [
       "'Welcome to PW skills. Welcome to data science masters'"
      ]
     },
     "execution_count": 46,
     "metadata": {},
     "output_type": "execute_result"
    }
   ],
   "source": [
    "str1.replace(\"ata\",\"data\").replace(\"cience\",\"science\")"
   ]
  },
  {
   "cell_type": "code",
   "execution_count": 47,
   "id": "12e508d3-be1f-454c-9daa-8a948311c5da",
   "metadata": {},
   "outputs": [],
   "source": [
    "# How to check whether the string is in upper case or not"
   ]
  },
  {
   "cell_type": "code",
   "execution_count": 48,
   "id": "46632c0e-0290-44eb-8d1a-875ab3c76e1c",
   "metadata": {},
   "outputs": [],
   "source": [
    "str1=\"KRISH\""
   ]
  },
  {
   "cell_type": "code",
   "execution_count": 49,
   "id": "528a4738-a477-454d-ac3b-e28f6928a973",
   "metadata": {},
   "outputs": [
    {
     "data": {
      "text/plain": [
       "True"
      ]
     },
     "execution_count": 49,
     "metadata": {},
     "output_type": "execute_result"
    }
   ],
   "source": [
    "str1.isupper()"
   ]
  },
  {
   "cell_type": "code",
   "execution_count": 50,
   "id": "e8687b90-b4f3-4391-bf59-5aa0b427a499",
   "metadata": {},
   "outputs": [
    {
     "data": {
      "text/plain": [
       "False"
      ]
     },
     "execution_count": 50,
     "metadata": {},
     "output_type": "execute_result"
    }
   ],
   "source": [
    "str1.islower()"
   ]
  },
  {
   "cell_type": "code",
   "execution_count": 52,
   "id": "035f2e31-39f1-4ef8-8910-15f613d9d8de",
   "metadata": {},
   "outputs": [
    {
     "data": {
      "text/plain": [
       "False"
      ]
     },
     "execution_count": 52,
     "metadata": {},
     "output_type": "execute_result"
    }
   ],
   "source": [
    "str1.isspace()"
   ]
  },
  {
   "cell_type": "code",
   "execution_count": 53,
   "id": "eba160c1-e00d-45ce-b9b8-e58a6489a028",
   "metadata": {},
   "outputs": [],
   "source": [
    "str2=\"pwskills\""
   ]
  },
  {
   "cell_type": "code",
   "execution_count": 54,
   "id": "ff25df4c-d6fa-4df1-b44d-3c38d8af239a",
   "metadata": {},
   "outputs": [
    {
     "data": {
      "text/plain": [
       "True"
      ]
     },
     "execution_count": 54,
     "metadata": {},
     "output_type": "execute_result"
    }
   ],
   "source": [
    "str2.endswith(\"s\")"
   ]
  },
  {
   "cell_type": "code",
   "execution_count": 55,
   "id": "827cf8a0-ce69-4e81-a6c4-b0e4cfcd6ca4",
   "metadata": {},
   "outputs": [
    {
     "data": {
      "text/plain": [
       "True"
      ]
     },
     "execution_count": 55,
     "metadata": {},
     "output_type": "execute_result"
    }
   ],
   "source": [
    "str2.startswith(\"p\")"
   ]
  },
  {
   "cell_type": "code",
   "execution_count": 57,
   "id": "bfd72dbf-2d78-45ac-8303-350f9f387715",
   "metadata": {},
   "outputs": [
    {
     "data": {
      "text/plain": [
       "True"
      ]
     },
     "execution_count": 57,
     "metadata": {},
     "output_type": "execute_result"
    }
   ],
   "source": [
    "# check if all the characters in a string arte alphanumeric\n",
    "a=\"abcd1234\"\n",
    "a.isalnum()"
   ]
  },
  {
   "cell_type": "code",
   "execution_count": 58,
   "id": "e27986e3-9d86-4a7b-ae54-e0fbd358807f",
   "metadata": {},
   "outputs": [
    {
     "name": "stdout",
     "output_type": "stream",
     "text": [
      "8\n"
     ]
    }
   ],
   "source": [
    "# to count the number of characters in a string\n",
    "count=0;\n",
    "for i in a:\n",
    "    count=count+1\n",
    "print(count)"
   ]
  },
  {
   "cell_type": "code",
   "execution_count": 59,
   "id": "89ac9be0-1b7b-40b2-93c1-6f3b8963da35",
   "metadata": {},
   "outputs": [
    {
     "data": {
      "text/plain": [
       "8"
      ]
     },
     "execution_count": 59,
     "metadata": {},
     "output_type": "execute_result"
    }
   ],
   "source": [
    "len(a)"
   ]
  },
  {
   "cell_type": "code",
   "execution_count": 60,
   "id": "9415187d-90ab-4f7b-9072-476dd5e77ea5",
   "metadata": {},
   "outputs": [
    {
     "data": {
      "text/plain": [
       "range(0, 8)"
      ]
     },
     "execution_count": 60,
     "metadata": {},
     "output_type": "execute_result"
    }
   ],
   "source": [
    "range(len(a))"
   ]
  },
  {
   "cell_type": "code",
   "execution_count": 61,
   "id": "41083671-1ec6-480f-b50b-5be6ef91d5ef",
   "metadata": {},
   "outputs": [
    {
     "name": "stdout",
     "output_type": "stream",
     "text": [
      "a\n",
      "b\n",
      "c\n",
      "d\n",
      "1\n",
      "2\n",
      "3\n",
      "4\n"
     ]
    }
   ],
   "source": [
    "for i in range(len(a)):\n",
    "    print(a[i])"
   ]
  },
  {
   "cell_type": "code",
   "execution_count": 62,
   "id": "c1f66106-db82-434c-8db6-47b5792879e2",
   "metadata": {},
   "outputs": [
    {
     "name": "stdout",
     "output_type": "stream",
     "text": [
      "abcd1234\n",
      "abcd1234\n",
      "abcd1234\n",
      "abcd1234\n",
      "abcd1234\n",
      "abcd1234\n",
      "abcd1234\n",
      "abcd1234\n"
     ]
    }
   ],
   "source": [
    "# or\n",
    "for i in a:\n",
    "    print(a)"
   ]
  },
  {
   "cell_type": "code",
   "execution_count": 66,
   "id": "911f78e5-2775-481c-b52b-53e9723da01c",
   "metadata": {},
   "outputs": [
    {
     "name": "stdout",
     "output_type": "stream",
     "text": [
      "4\n",
      "3\n",
      "2\n",
      "1\n",
      "d\n",
      "c\n",
      "b\n",
      "a\n"
     ]
    }
   ],
   "source": [
    "# use index to iterate string in reverse order\n",
    "for i in range(len(a)):\n",
    "    print(a[len(a)-i-1])"
   ]
  },
  {
   "cell_type": "code",
   "execution_count": 70,
   "id": "4e336017-2486-4833-8162-a3ed30020c0b",
   "metadata": {},
   "outputs": [
    {
     "name": "stdout",
     "output_type": "stream",
     "text": [
      "P  is not a vowel\n",
      "W  is not a vowel\n",
      "s  is not a vowel\n",
      "k  is not a vowel\n",
      "i  is a vowel\n",
      "l  is not a vowel\n",
      "l  is not a vowel\n",
      "s  is not a vowel\n"
     ]
    }
   ],
   "source": [
    "Name=\"PWskills\"\n",
    "vowels=\"AaEeIiOoUu\"\n",
    "for i in range(len(Name)):\n",
    "    ch=Name[i]\n",
    "    if ch in vowels:\n",
    "        print(ch,\" is a vowel\")\n",
    "    else:\n",
    "        print(ch,\" is not a vowel\")"
   ]
  },
  {
   "cell_type": "markdown",
   "id": "b2670627-7f6a-4b74-8534-60002506126d",
   "metadata": {},
   "source": [
    "## LIST"
   ]
  },
  {
   "cell_type": "code",
   "execution_count": 71,
   "id": "cc85db13-fabf-46e6-bc19-04a23ed75c8d",
   "metadata": {},
   "outputs": [
    {
     "data": {
      "text/plain": [
       "list"
      ]
     },
     "execution_count": 71,
     "metadata": {},
     "output_type": "execute_result"
    }
   ],
   "source": [
    "type([])"
   ]
  },
  {
   "cell_type": "code",
   "execution_count": 72,
   "id": "66b2647a-c213-4610-867a-eda35b64a5dd",
   "metadata": {},
   "outputs": [],
   "source": [
    "lst1=[\"apple\",\"mango\",\"orange\",\"banana\"]"
   ]
  },
  {
   "cell_type": "code",
   "execution_count": 73,
   "id": "94f5cc6f-b5d9-499b-8492-4b15b59bb0ff",
   "metadata": {},
   "outputs": [
    {
     "data": {
      "text/plain": [
       "'KRISH'"
      ]
     },
     "execution_count": 73,
     "metadata": {},
     "output_type": "execute_result"
    }
   ],
   "source": [
    "str1"
   ]
  },
  {
   "cell_type": "code",
   "execution_count": 74,
   "id": "f9e235e5-280f-4d1d-9908-10f72c3f200e",
   "metadata": {},
   "outputs": [
    {
     "data": {
      "text/plain": [
       "['K', 'R', 'I', 'S', 'H']"
      ]
     },
     "execution_count": 74,
     "metadata": {},
     "output_type": "execute_result"
    }
   ],
   "source": [
    "list(str1)"
   ]
  },
  {
   "cell_type": "code",
   "execution_count": 76,
   "id": "ffd577f8-984b-41a5-bdc0-553191c41e27",
   "metadata": {},
   "outputs": [],
   "source": [
    "str2=\"PW skills Data Science Masters\""
   ]
  },
  {
   "cell_type": "code",
   "execution_count": 80,
   "id": "8f354756-6375-45ce-850c-067c6e28fdad",
   "metadata": {},
   "outputs": [],
   "source": [
    "lst1=(str2.split(\" \"))"
   ]
  },
  {
   "cell_type": "code",
   "execution_count": 81,
   "id": "7897b6e4-eabf-4f1d-b222-227db2042bba",
   "metadata": {},
   "outputs": [
    {
     "data": {
      "text/plain": [
       "['PW', 'skills', 'Data', 'Science', 'Masters']"
      ]
     },
     "execution_count": 81,
     "metadata": {},
     "output_type": "execute_result"
    }
   ],
   "source": [
    "lst1"
   ]
  },
  {
   "cell_type": "code",
   "execution_count": 82,
   "id": "aa359362-ead2-408f-89cb-e7bd65dfd38f",
   "metadata": {},
   "outputs": [
    {
     "data": {
      "text/plain": [
       "['Masters', 'Data', 'PW']"
      ]
     },
     "execution_count": 82,
     "metadata": {},
     "output_type": "execute_result"
    }
   ],
   "source": [
    "lst1[::-2]"
   ]
  },
  {
   "cell_type": "code",
   "execution_count": 84,
   "id": "a44b1097-a0d0-487d-b00f-c40f40cd7641",
   "metadata": {},
   "outputs": [
    {
     "data": {
      "text/plain": [
       "['skills']"
      ]
     },
     "execution_count": 84,
     "metadata": {},
     "output_type": "execute_result"
    }
   ],
   "source": [
    "lst1[-4::-2]"
   ]
  },
  {
   "cell_type": "code",
   "execution_count": 85,
   "id": "6d27068c-2b50-429d-878b-e27b1847afbe",
   "metadata": {},
   "outputs": [
    {
     "data": {
      "text/plain": [
       "['PW']"
      ]
     },
     "execution_count": 85,
     "metadata": {},
     "output_type": "execute_result"
    }
   ],
   "source": [
    "lst1[-5::-2]"
   ]
  },
  {
   "cell_type": "code",
   "execution_count": 86,
   "id": "c1ac14c6-e46d-4db5-8cb7-7121be68df17",
   "metadata": {},
   "outputs": [],
   "source": [
    "## concatination operation"
   ]
  },
  {
   "cell_type": "code",
   "execution_count": 87,
   "id": "0a3dcedc-73c5-49ea-a199-3449931e9d6a",
   "metadata": {},
   "outputs": [
    {
     "data": {
      "text/plain": [
       "['PW', 'skills', 'Data', 'Science', 'Masters', 'new element', 5]"
      ]
     },
     "execution_count": 87,
     "metadata": {},
     "output_type": "execute_result"
    }
   ],
   "source": [
    "lst1 + ['new element',5]"
   ]
  },
  {
   "cell_type": "code",
   "execution_count": 88,
   "id": "3498d7ff-798b-49bd-931c-ec69d375a33d",
   "metadata": {},
   "outputs": [
    {
     "data": {
      "text/plain": [
       "['PW', 'skills', 'Data', 'Science', 'Masters', ['new element', 5]]"
      ]
     },
     "execution_count": 88,
     "metadata": {},
     "output_type": "execute_result"
    }
   ],
   "source": [
    "lst1 + [['new element',5]]"
   ]
  },
  {
   "cell_type": "code",
   "execution_count": 90,
   "id": "d2a4cb81-2343-48f6-bcc9-c01266667d03",
   "metadata": {},
   "outputs": [
    {
     "data": {
      "text/plain": [
       "'M'"
      ]
     },
     "execution_count": 90,
     "metadata": {},
     "output_type": "execute_result"
    }
   ],
   "source": [
    "lst1[-1][0]"
   ]
  },
  {
   "cell_type": "code",
   "execution_count": 91,
   "id": "c8aa97b3-47a5-4fd2-a8b8-2fd1ea3b9f1f",
   "metadata": {},
   "outputs": [
    {
     "data": {
      "text/plain": [
       "['PW',\n",
       " 'skills',\n",
       " 'Data',\n",
       " 'Science',\n",
       " 'Masters',\n",
       " 'PW',\n",
       " 'skills',\n",
       " 'Data',\n",
       " 'Science',\n",
       " 'Masters']"
      ]
     },
     "execution_count": 91,
     "metadata": {},
     "output_type": "execute_result"
    }
   ],
   "source": [
    "lst1 * 2"
   ]
  },
  {
   "cell_type": "code",
   "execution_count": 95,
   "id": "b9fb8654-0826-460f-a1d5-d07e5f672f20",
   "metadata": {},
   "outputs": [
    {
     "name": "stdout",
     "output_type": "stream",
     "text": [
      "True\n"
     ]
    }
   ],
   "source": [
    "present=False\n",
    "for i in lst1:\n",
    "    if i==\"Science\":\n",
    "        present=True\n",
    "        break\n",
    "print(present)"
   ]
  },
  {
   "cell_type": "code",
   "execution_count": 96,
   "id": "f4a78ae6-2dfa-4b82-9107-bed91d7a4a8c",
   "metadata": {},
   "outputs": [
    {
     "name": "stdout",
     "output_type": "stream",
     "text": [
      "Zebra\n"
     ]
    }
   ],
   "source": [
    "lst1=[\"Lion\",\"Monkey\",\"Zebra\",\"Donkey\"]\n",
    "lst2=[1,69,34,72,11]\n",
    "print(max(lst1))"
   ]
  },
  {
   "cell_type": "code",
   "execution_count": 97,
   "id": "432799d8-b484-40c0-a3e6-728be3187dc2",
   "metadata": {},
   "outputs": [
    {
     "name": "stdout",
     "output_type": "stream",
     "text": [
      "72\n"
     ]
    }
   ],
   "source": [
    "print(max(lst2))"
   ]
  },
  {
   "cell_type": "code",
   "execution_count": 98,
   "id": "c35f41dc-6bc0-4c79-85d1-bcb15bde3a2c",
   "metadata": {},
   "outputs": [
    {
     "name": "stdout",
     "output_type": "stream",
     "text": [
      "Donkey\n"
     ]
    }
   ],
   "source": [
    "print(min(lst1))"
   ]
  },
  {
   "cell_type": "code",
   "execution_count": 99,
   "id": "ae6ce708-baa6-4b78-961f-bc4a33871e0b",
   "metadata": {},
   "outputs": [],
   "source": [
    "## Append is an inplace opetation used to update a list"
   ]
  },
  {
   "cell_type": "code",
   "execution_count": 100,
   "id": "2340fcce-805b-4b3d-8245-7c3ecc987431",
   "metadata": {},
   "outputs": [],
   "source": [
    "lst1.append(\"Yeti\")"
   ]
  },
  {
   "cell_type": "code",
   "execution_count": 101,
   "id": "4cec66a7-6b4d-4af6-871b-1686b0f870ba",
   "metadata": {},
   "outputs": [
    {
     "data": {
      "text/plain": [
       "['Lion', 'Monkey', 'Zebra', 'Donkey', 'Yeti']"
      ]
     },
     "execution_count": 101,
     "metadata": {},
     "output_type": "execute_result"
    }
   ],
   "source": [
    "lst1"
   ]
  },
  {
   "cell_type": "code",
   "execution_count": 102,
   "id": "1ea82f1d-0b69-4dbc-bdb5-00373b09d3ad",
   "metadata": {},
   "outputs": [],
   "source": [
    "lst2.append([1,2,3,4])"
   ]
  },
  {
   "cell_type": "code",
   "execution_count": 103,
   "id": "47f4d65d-6537-463a-942a-327981bba627",
   "metadata": {},
   "outputs": [
    {
     "data": {
      "text/plain": [
       "[1, 69, 34, 72, 11, [1, 2, 3, 4]]"
      ]
     },
     "execution_count": 103,
     "metadata": {},
     "output_type": "execute_result"
    }
   ],
   "source": [
    "lst2"
   ]
  },
  {
   "cell_type": "code",
   "execution_count": 105,
   "id": "70973b24-fd84-45eb-9102-f0c1d99cdd73",
   "metadata": {},
   "outputs": [
    {
     "data": {
      "text/plain": [
       "'Yeti'"
      ]
     },
     "execution_count": 105,
     "metadata": {},
     "output_type": "execute_result"
    }
   ],
   "source": [
    "lst1.pop()"
   ]
  },
  {
   "cell_type": "code",
   "execution_count": 106,
   "id": "621f2a00-7057-4952-9b38-9a84b71a2249",
   "metadata": {},
   "outputs": [
    {
     "data": {
      "text/plain": [
       "['Lion', 'Monkey', 'Zebra', 'Donkey']"
      ]
     },
     "execution_count": 106,
     "metadata": {},
     "output_type": "execute_result"
    }
   ],
   "source": [
    "lst1"
   ]
  },
  {
   "cell_type": "code",
   "execution_count": 107,
   "id": "192cdec2-6e2d-4b19-a48f-18d06d707b5b",
   "metadata": {},
   "outputs": [
    {
     "data": {
      "text/plain": [
       "'Monkey'"
      ]
     },
     "execution_count": 107,
     "metadata": {},
     "output_type": "execute_result"
    }
   ],
   "source": [
    "lst1.pop(1)"
   ]
  },
  {
   "cell_type": "code",
   "execution_count": 108,
   "id": "baad2fdb-4821-4933-b9b5-a3046d28340a",
   "metadata": {},
   "outputs": [
    {
     "data": {
      "text/plain": [
       "['Lion', 'Zebra', 'Donkey']"
      ]
     },
     "execution_count": 108,
     "metadata": {},
     "output_type": "execute_result"
    }
   ],
   "source": [
    "lst1"
   ]
  },
  {
   "cell_type": "code",
   "execution_count": 110,
   "id": "d673d4a5-65bc-44c9-bb61-a9cbdea6d5c4",
   "metadata": {},
   "outputs": [],
   "source": [
    "removed_element=lst1.pop()"
   ]
  },
  {
   "cell_type": "code",
   "execution_count": 112,
   "id": "8b6a56e2-de1a-4332-bc35-3f417321a8d0",
   "metadata": {},
   "outputs": [
    {
     "data": {
      "text/plain": [
       "'Donkey'"
      ]
     },
     "execution_count": 112,
     "metadata": {},
     "output_type": "execute_result"
    }
   ],
   "source": [
    "removed_element"
   ]
  },
  {
   "cell_type": "code",
   "execution_count": 114,
   "id": "8030a4a7-a212-4536-bc1f-f9f62b94d15e",
   "metadata": {},
   "outputs": [],
   "source": [
    "new_lst=['e','d','c','b','a']"
   ]
  },
  {
   "cell_type": "code",
   "execution_count": 115,
   "id": "1542450a-fb62-4fd6-b097-83994bfadccc",
   "metadata": {},
   "outputs": [
    {
     "data": {
      "text/plain": [
       "['a', 'b', 'c', 'd', 'e']"
      ]
     },
     "execution_count": 115,
     "metadata": {},
     "output_type": "execute_result"
    }
   ],
   "source": [
    "new_lst[::-1]"
   ]
  },
  {
   "cell_type": "code",
   "execution_count": 120,
   "id": "d5a5f500-4d8e-4693-8e81-371baceb85b0",
   "metadata": {},
   "outputs": [
    {
     "data": {
      "text/plain": [
       "['e', 'd', 'c', 'b', 'a']"
      ]
     },
     "execution_count": 120,
     "metadata": {},
     "output_type": "execute_result"
    }
   ],
   "source": [
    "new_lst"
   ]
  },
  {
   "cell_type": "code",
   "execution_count": 124,
   "id": "205207df-6f0c-4363-8376-3affbdc0233e",
   "metadata": {},
   "outputs": [],
   "source": [
    "#  it is an inplace operation that means the list is also getting updated\n",
    "new_lst.reverse()"
   ]
  },
  {
   "cell_type": "code",
   "execution_count": 123,
   "id": "8c1095f7-61fd-49bc-8cae-07f0af1d6c7c",
   "metadata": {},
   "outputs": [
    {
     "data": {
      "text/plain": [
       "['a', 'b', 'c', 'd', 'e']"
      ]
     },
     "execution_count": 123,
     "metadata": {},
     "output_type": "execute_result"
    }
   ],
   "source": [
    "new_lst"
   ]
  },
  {
   "cell_type": "code",
   "execution_count": 125,
   "id": "eadd0354-dede-4f86-97e9-0292d9e26661",
   "metadata": {},
   "outputs": [],
   "source": [
    "lst3=['a','h','j','k','f']"
   ]
  },
  {
   "cell_type": "code",
   "execution_count": 128,
   "id": "1ac69256-992c-4c65-9373-ca91e497cfa5",
   "metadata": {},
   "outputs": [],
   "source": [
    "lst3.sort() # by default it sorts in ascendig order"
   ]
  },
  {
   "cell_type": "code",
   "execution_count": 129,
   "id": "9ed25ec1-cb4e-471d-818e-da122f9010cd",
   "metadata": {},
   "outputs": [
    {
     "data": {
      "text/plain": [
       "['a', 'f', 'h', 'j', 'k']"
      ]
     },
     "execution_count": 129,
     "metadata": {},
     "output_type": "execute_result"
    }
   ],
   "source": [
    "lst3"
   ]
  },
  {
   "cell_type": "code",
   "execution_count": 132,
   "id": "9aaf1a3a-d5c7-4fcd-98bf-e247ba252421",
   "metadata": {},
   "outputs": [],
   "source": [
    "lst3.sort(reverse=True)"
   ]
  },
  {
   "cell_type": "code",
   "execution_count": 133,
   "id": "055c6334-d741-441a-9f95-85ae053aabfe",
   "metadata": {},
   "outputs": [
    {
     "data": {
      "text/plain": [
       "['k', 'j', 'h', 'f', 'a']"
      ]
     },
     "execution_count": 133,
     "metadata": {},
     "output_type": "execute_result"
    }
   ],
   "source": [
    "lst3"
   ]
  },
  {
   "cell_type": "code",
   "execution_count": 134,
   "id": "72b3664f-eb15-4811-9703-f1d7f83267d7",
   "metadata": {},
   "outputs": [],
   "source": [
    "## NESTED LIST"
   ]
  },
  {
   "cell_type": "code",
   "execution_count": 3,
   "id": "cf16f1bc-6e32-43c4-b68c-4c159dbf59b8",
   "metadata": {},
   "outputs": [],
   "source": [
    "lst1=[1,2,3]\n",
    "lst2=[4,5,6]\n",
    "lst3=[7,8,9]"
   ]
  },
  {
   "cell_type": "code",
   "execution_count": 4,
   "id": "85d77941-2113-4095-9ed5-4d4a074d9cfe",
   "metadata": {},
   "outputs": [],
   "source": [
    "matrix=[lst1,lst2,lst3]"
   ]
  },
  {
   "cell_type": "code",
   "execution_count": 5,
   "id": "4171356d-34ad-4b5b-a40c-8fd166362e12",
   "metadata": {},
   "outputs": [
    {
     "data": {
      "text/plain": [
       "[[1, 2, 3], [4, 5, 6], [7, 8, 9]]"
      ]
     },
     "execution_count": 5,
     "metadata": {},
     "output_type": "execute_result"
    }
   ],
   "source": [
    "matrix"
   ]
  },
  {
   "cell_type": "code",
   "execution_count": 139,
   "id": "87b7cbb8-49fb-4ef6-b3c1-36dafc4c7964",
   "metadata": {},
   "outputs": [
    {
     "data": {
      "text/plain": [
       "6"
      ]
     },
     "execution_count": 139,
     "metadata": {},
     "output_type": "execute_result"
    }
   ],
   "source": [
    "matrix[1][2]"
   ]
  },
  {
   "cell_type": "code",
   "execution_count": 7,
   "id": "4f26ba3f-f2d1-41ef-a51f-5b4e9248eddf",
   "metadata": {},
   "outputs": [
    {
     "data": {
      "text/plain": [
       "[8, 9]"
      ]
     },
     "execution_count": 7,
     "metadata": {},
     "output_type": "execute_result"
    }
   ],
   "source": [
    "matrix[2][1:]"
   ]
  },
  {
   "cell_type": "code",
   "execution_count": 10,
   "id": "28242c09-92d3-4aed-8743-1c7a1e66cc6e",
   "metadata": {},
   "outputs": [
    {
     "data": {
      "text/plain": [
       "[4, 5, 6]"
      ]
     },
     "execution_count": 10,
     "metadata": {},
     "output_type": "execute_result"
    }
   ],
   "source": [
    "matrix[1:][0]"
   ]
  },
  {
   "cell_type": "code",
   "execution_count": 12,
   "id": "c196ecb2-640e-4780-9d01-173ad433b5f0",
   "metadata": {},
   "outputs": [
    {
     "name": "stdout",
     "output_type": "stream",
     "text": [
      "1\n",
      "4\n",
      "7\n"
     ]
    }
   ],
   "source": [
    "for i in range(0,3):\n",
    "    print(matrix[i][0])"
   ]
  },
  {
   "cell_type": "code",
   "execution_count": 13,
   "id": "3abc810a-5d19-49b3-8e26-04a38ad48c58",
   "metadata": {},
   "outputs": [],
   "source": [
    "# List Comprehension"
   ]
  },
  {
   "cell_type": "code",
   "execution_count": 20,
   "id": "3620662c-14e6-40ac-835b-ff5ed7164759",
   "metadata": {},
   "outputs": [
    {
     "data": {
      "text/plain": [
       "['', 1, '', 3, '', 5, '', 7, '', 9, '', 11, '', 13, '', 15, '', 17, '', 19]"
      ]
     },
     "execution_count": 20,
     "metadata": {},
     "output_type": "execute_result"
    }
   ],
   "source": [
    "[i if i%2!=0  else \"\" for i in range(0,20)]"
   ]
  },
  {
   "cell_type": "code",
   "execution_count": 21,
   "id": "8ddaf2e0-a589-4f6d-988f-226c566251ee",
   "metadata": {},
   "outputs": [
    {
     "data": {
      "text/plain": [
       "[0,\n",
       " 'ODD',\n",
       " 2,\n",
       " 'ODD',\n",
       " 4,\n",
       " 'ODD',\n",
       " 6,\n",
       " 'ODD',\n",
       " 8,\n",
       " 'ODD',\n",
       " 10,\n",
       " 'ODD',\n",
       " 12,\n",
       " 'ODD',\n",
       " 14,\n",
       " 'ODD',\n",
       " 16,\n",
       " 'ODD',\n",
       " 18,\n",
       " 'ODD']"
      ]
     },
     "execution_count": 21,
     "metadata": {},
     "output_type": "execute_result"
    }
   ],
   "source": [
    "[i if i%2==0  else \"ODD\" for i in range(0,20)]"
   ]
  },
  {
   "cell_type": "code",
   "execution_count": 23,
   "id": "7eb9b9f5-2e27-4943-b966-69e4832a30c9",
   "metadata": {},
   "outputs": [
    {
     "name": "stdout",
     "output_type": "stream",
     "text": [
      "12   16\n"
     ]
    }
   ],
   "source": [
    "lst=[1,2,3,4,5,6,7]\n",
    "evensum=0\n",
    "oddsum=0\n",
    "for i in lst:\n",
    "    if i%2==0:\n",
    "        evensum=evensum+i\n",
    "    else:\n",
    "        oddsum=oddsum+i\n",
    "print(evensum,\" \",oddsum)"
   ]
  },
  {
   "cell_type": "code",
   "execution_count": 32,
   "id": "de1eca18-17bf-4712-80bd-665d14e36862",
   "metadata": {},
   "outputs": [
    {
     "data": {
      "text/plain": [
       "12"
      ]
     },
     "execution_count": 32,
     "metadata": {},
     "output_type": "execute_result"
    }
   ],
   "source": [
    "even_sum=sum([ num for num in lst if num%2==0])\n",
    "even_sum"
   ]
  },
  {
   "cell_type": "code",
   "execution_count": 33,
   "id": "3eae3155-abc1-46ac-a464-808b7a475f10",
   "metadata": {},
   "outputs": [
    {
     "data": {
      "text/plain": [
       "16"
      ]
     },
     "execution_count": 33,
     "metadata": {},
     "output_type": "execute_result"
    }
   ],
   "source": [
    "odd_sum=sum([ num for num in lst if num%2!=0])\n",
    "odd_sum"
   ]
  },
  {
   "cell_type": "code",
   "execution_count": 38,
   "id": "946e4f77-bce1-4ced-a790-12de1ebf2aa6",
   "metadata": {},
   "outputs": [
    {
     "data": {
      "text/plain": [
       "140"
      ]
     },
     "execution_count": 38,
     "metadata": {},
     "output_type": "execute_result"
    }
   ],
   "source": [
    "lst=[1,2,3,4,5,6,7]\n",
    "sum([pow(num,2) for num in lst])"
   ]
  },
  {
   "cell_type": "code",
   "execution_count": 40,
   "id": "1ea19e83-308f-477c-baba-e9d4108eaaee",
   "metadata": {},
   "outputs": [
    {
     "data": {
      "text/plain": [
       "[2, 3, 4, 5, 6, 7]"
      ]
     },
     "execution_count": 40,
     "metadata": {},
     "output_type": "execute_result"
    }
   ],
   "source": [
    "lst=[-1,2,3,4,5,6,7]\n",
    "[num for num in lst if num>0]"
   ]
  },
  {
   "cell_type": "code",
   "execution_count": 41,
   "id": "4a8817ad-2e75-4a35-a1d5-3c5a408c5f2a",
   "metadata": {},
   "outputs": [],
   "source": [
    "lst=['apple','mango','banana','orange']"
   ]
  },
  {
   "cell_type": "code",
   "execution_count": 42,
   "id": "7ecacd75-3dac-4103-93ff-e91c7e0054a8",
   "metadata": {},
   "outputs": [
    {
     "data": {
      "text/plain": [
       "'a'"
      ]
     },
     "execution_count": 42,
     "metadata": {},
     "output_type": "execute_result"
    }
   ],
   "source": [
    "lst[0][0]"
   ]
  },
  {
   "cell_type": "code",
   "execution_count": 48,
   "id": "dd83686f-de76-442e-b2f0-2d3043ef5cfd",
   "metadata": {},
   "outputs": [
    {
     "data": {
      "text/plain": [
       "['a', 'm', 'b', 'o']"
      ]
     },
     "execution_count": 48,
     "metadata": {},
     "output_type": "execute_result"
    }
   ],
   "source": [
    "[lst[num][0] for num in range(0,len(lst))]"
   ]
  },
  {
   "cell_type": "code",
   "execution_count": 49,
   "id": "b8fdd9e6-62ac-4bab-ac82-e38e0ba3d607",
   "metadata": {},
   "outputs": [
    {
     "data": {
      "text/plain": [
       "['a', 'm', 'b', 'o']"
      ]
     },
     "execution_count": 49,
     "metadata": {},
     "output_type": "execute_result"
    }
   ],
   "source": [
    "[sublst[0] for sublst in lst]"
   ]
  },
  {
   "cell_type": "code",
   "execution_count": 50,
   "id": "420bb884-7f18-447c-acb7-4698894ca1af",
   "metadata": {},
   "outputs": [
    {
     "data": {
      "text/plain": [
       "[73.4, 113.0, 93.2, 96.8, 73.4, 168.8]"
      ]
     },
     "execution_count": 50,
     "metadata": {},
     "output_type": "execute_result"
    }
   ],
   "source": [
    "lst=[23,45,34,36,23,76]\n",
    "[(9/5)*temp + 32 for temp in lst]"
   ]
  },
  {
   "cell_type": "code",
   "execution_count": 51,
   "id": "a34dad5a-1b9b-4af8-b4d9-1bf36f9ae6b1",
   "metadata": {},
   "outputs": [],
   "source": [
    "lst1=[1,2,3]\n",
    "lst2=[4,5,6]\n",
    "lst3=[7,8,9]\n",
    "matrix=[lst1,lst2,lst3]"
   ]
  },
  {
   "cell_type": "code",
   "execution_count": 66,
   "id": "de0aaec6-6694-4b33-8583-db7f0e30bfea",
   "metadata": {},
   "outputs": [
    {
     "data": {
      "text/plain": [
       "[1, 2, 3, 4, 5, 6, 7, 8, 9]"
      ]
     },
     "execution_count": 66,
     "metadata": {},
     "output_type": "execute_result"
    }
   ],
   "source": [
    "[ i for lstt in matrix for i in lstt]"
   ]
  },
  {
   "cell_type": "code",
   "execution_count": null,
   "id": "0a3b6946-b638-413d-be33-10dd1506a647",
   "metadata": {},
   "outputs": [],
   "source": []
  }
 ],
 "metadata": {
  "kernelspec": {
   "display_name": "Python 3 (ipykernel)",
   "language": "python",
   "name": "python3"
  },
  "language_info": {
   "codemirror_mode": {
    "name": "ipython",
    "version": 3
   },
   "file_extension": ".py",
   "mimetype": "text/x-python",
   "name": "python",
   "nbconvert_exporter": "python",
   "pygments_lexer": "ipython3",
   "version": "3.10.8"
  }
 },
 "nbformat": 4,
 "nbformat_minor": 5
}
