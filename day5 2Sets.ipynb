{
 "cells": [
  {
   "cell_type": "code",
   "execution_count": 1,
   "id": "bf907d66-4f21-4b5e-9bdb-b0dd01e3cc6b",
   "metadata": {},
   "outputs": [],
   "source": [
    "s={}"
   ]
  },
  {
   "cell_type": "code",
   "execution_count": 2,
   "id": "0891fa92-bc97-49fc-a175-8558bdce07ec",
   "metadata": {},
   "outputs": [
    {
     "data": {
      "text/plain": [
       "dict"
      ]
     },
     "execution_count": 2,
     "metadata": {},
     "output_type": "execute_result"
    }
   ],
   "source": [
    "type(s)"
   ]
  },
  {
   "cell_type": "code",
   "execution_count": 3,
   "id": "f17c9ee3-02e2-404a-94b9-455463aff5fe",
   "metadata": {},
   "outputs": [],
   "source": [
    "s1={1,2,3,4,5}"
   ]
  },
  {
   "cell_type": "code",
   "execution_count": 4,
   "id": "8b5ab4df-d0c8-4e2a-9ac2-1270b96bd875",
   "metadata": {},
   "outputs": [
    {
     "data": {
      "text/plain": [
       "set"
      ]
     },
     "execution_count": 4,
     "metadata": {},
     "output_type": "execute_result"
    }
   ],
   "source": [
    "type(s1)"
   ]
  },
  {
   "cell_type": "code",
   "execution_count": 5,
   "id": "c1802884-5029-497a-8dca-0b5b14c6dc55",
   "metadata": {},
   "outputs": [],
   "source": [
    "s2={2,2,3,4,5,3,4,6,8,6,85,85,5,6,9}"
   ]
  },
  {
   "cell_type": "code",
   "execution_count": 6,
   "id": "bf4f3efd-3c68-4be1-9113-1cbf976bddc9",
   "metadata": {},
   "outputs": [
    {
     "data": {
      "text/plain": [
       "{2, 3, 4, 5, 6, 8, 9, 85}"
      ]
     },
     "execution_count": 6,
     "metadata": {},
     "output_type": "execute_result"
    }
   ],
   "source": [
    "s2"
   ]
  },
  {
   "cell_type": "code",
   "execution_count": 9,
   "id": "245f7e15-d4e0-4f42-a518-754b01642cb6",
   "metadata": {},
   "outputs": [],
   "source": [
    "l=list(s2)"
   ]
  },
  {
   "cell_type": "code",
   "execution_count": 10,
   "id": "806ba57e-ee0f-4096-b27f-1da8b25ab996",
   "metadata": {},
   "outputs": [
    {
     "data": {
      "text/plain": [
       "set"
      ]
     },
     "execution_count": 10,
     "metadata": {},
     "output_type": "execute_result"
    }
   ],
   "source": [
    "type(s2)"
   ]
  },
  {
   "cell_type": "code",
   "execution_count": 11,
   "id": "18a5d6da-7196-4671-95bd-9ea9de31911b",
   "metadata": {},
   "outputs": [
    {
     "data": {
      "text/plain": [
       "list"
      ]
     },
     "execution_count": 11,
     "metadata": {},
     "output_type": "execute_result"
    }
   ],
   "source": [
    "type(l)"
   ]
  },
  {
   "cell_type": "code",
   "execution_count": 12,
   "id": "a84d0e45-8e2a-4362-8cd0-172e72b263a9",
   "metadata": {},
   "outputs": [
    {
     "ename": "TypeError",
     "evalue": "unhashable type: 'list'",
     "output_type": "error",
     "traceback": [
      "\u001b[0;31m---------------------------------------------------------------------------\u001b[0m",
      "\u001b[0;31mTypeError\u001b[0m                                 Traceback (most recent call last)",
      "Cell \u001b[0;32mIn[12], line 1\u001b[0m\n\u001b[0;32m----> 1\u001b[0m s4\u001b[38;5;241m=\u001b[39m{\u001b[38;5;241m1\u001b[39m,\u001b[38;5;241m2\u001b[39m,\u001b[38;5;241m3\u001b[39m,\u001b[38;5;241m4\u001b[39m,[\u001b[38;5;241m2\u001b[39m,\u001b[38;5;241m3\u001b[39m,\u001b[38;5;241m4\u001b[39m,\u001b[38;5;241m7\u001b[39m]}\n",
      "\u001b[0;31mTypeError\u001b[0m: unhashable type: 'list'"
     ]
    }
   ],
   "source": [
    "s4={1,2,3,4,[2,3,4,7]}"
   ]
  },
  {
   "cell_type": "code",
   "execution_count": 14,
   "id": "7d34a412-eccb-4744-b0d0-c35acb80d039",
   "metadata": {},
   "outputs": [],
   "source": [
    "s5={1,2,3,4,(5,3,48)}\n",
    "#  it is not allowing to store a list inside a set but allowing to store a tuple inside the lis and the reason is than list are mutable so the data can be changes which breaks the property of the sets"
   ]
  },
  {
   "cell_type": "code",
   "execution_count": 3,
   "id": "0124f339-7e84-49a6-94fc-d6cdc382e182",
   "metadata": {},
   "outputs": [],
   "source": [
    "s5={\"Abhi\",\"abhi\",1,2,3,4,4}"
   ]
  },
  {
   "cell_type": "code",
   "execution_count": 17,
   "id": "e37c0771-1149-4aff-8878-9be940e6b0d4",
   "metadata": {},
   "outputs": [
    {
     "data": {
      "text/plain": [
       "{1, 2, 3, 4, 'Abhi', 'abhi'}"
      ]
     },
     "execution_count": 17,
     "metadata": {},
     "output_type": "execute_result"
    }
   ],
   "source": [
    "s5"
   ]
  },
  {
   "cell_type": "code",
   "execution_count": 19,
   "id": "db19589b-fc71-4f94-8ec6-2e0564c890e9",
   "metadata": {},
   "outputs": [
    {
     "name": "stdout",
     "output_type": "stream",
     "text": [
      "Abhi\n",
      "1\n",
      "2\n",
      "3\n",
      "4\n",
      "abhi\n"
     ]
    }
   ],
   "source": [
    "for i in s5:\n",
    "    print(i)"
   ]
  },
  {
   "cell_type": "code",
   "execution_count": 6,
   "id": "e20b9e00-d05c-4134-9b04-c2ce05062c24",
   "metadata": {},
   "outputs": [],
   "source": [
    "s5.add(7)"
   ]
  },
  {
   "cell_type": "code",
   "execution_count": 7,
   "id": "ea5c98de-f93d-449e-be0f-e6b9f055095f",
   "metadata": {},
   "outputs": [
    {
     "data": {
      "text/plain": [
       "{1, 2, 3, 4, 7, 'Abhi', 'abhi'}"
      ]
     },
     "execution_count": 7,
     "metadata": {},
     "output_type": "execute_result"
    }
   ],
   "source": [
    "s5"
   ]
  },
  {
   "cell_type": "code",
   "execution_count": 9,
   "id": "6f1eefc1-9164-4b4b-a619-2883b62b84b0",
   "metadata": {},
   "outputs": [
    {
     "data": {
      "text/plain": [
       "7"
      ]
     },
     "execution_count": 9,
     "metadata": {},
     "output_type": "execute_result"
    }
   ],
   "source": [
    "len(s5)"
   ]
  },
  {
   "cell_type": "code",
   "execution_count": 10,
   "id": "25bad290-7092-4ce8-bdec-4afe5612fd29",
   "metadata": {},
   "outputs": [
    {
     "data": {
      "text/plain": [
       "1"
      ]
     },
     "execution_count": 10,
     "metadata": {},
     "output_type": "execute_result"
    }
   ],
   "source": [
    "s5.pop()"
   ]
  },
  {
   "cell_type": "code",
   "execution_count": 11,
   "id": "a4cd29d7-8ce9-4398-8340-7a0e99311de8",
   "metadata": {},
   "outputs": [
    {
     "data": {
      "text/plain": [
       "2"
      ]
     },
     "execution_count": 11,
     "metadata": {},
     "output_type": "execute_result"
    }
   ],
   "source": [
    "s5.pop()"
   ]
  },
  {
   "cell_type": "code",
   "execution_count": 12,
   "id": "cabfc75c-2b90-403e-adb6-0c1bfc4b1905",
   "metadata": {},
   "outputs": [
    {
     "data": {
      "text/plain": [
       "{3, 4, 7, 'Abhi', 'abhi'}"
      ]
     },
     "execution_count": 12,
     "metadata": {},
     "output_type": "execute_result"
    }
   ],
   "source": [
    "s5"
   ]
  },
  {
   "cell_type": "code",
   "execution_count": 14,
   "id": "6337d0c0-b36c-4633-923c-e7afa41852b6",
   "metadata": {},
   "outputs": [],
   "source": [
    "s5.clear() # empty the entire data"
   ]
  },
  {
   "cell_type": "code",
   "execution_count": 15,
   "id": "0a7adb50-c3df-4fba-8ed5-beba04038881",
   "metadata": {},
   "outputs": [
    {
     "data": {
      "text/plain": [
       "{4}"
      ]
     },
     "execution_count": 15,
     "metadata": {},
     "output_type": "execute_result"
    }
   ],
   "source": [
    "s8={1,2,3,4}\n",
    "s9={1,2,3,5}\n",
    "s8.difference(s9)"
   ]
  },
  {
   "cell_type": "code",
   "execution_count": 16,
   "id": "d365ba25-89ed-4c51-98b8-04cf08192919",
   "metadata": {},
   "outputs": [
    {
     "data": {
      "text/plain": [
       "{5}"
      ]
     },
     "execution_count": 16,
     "metadata": {},
     "output_type": "execute_result"
    }
   ],
   "source": [
    "s9.difference(s8)"
   ]
  },
  {
   "cell_type": "code",
   "execution_count": null,
   "id": "43052b82-0d2a-47c9-99bf-fa91b658bc6f",
   "metadata": {},
   "outputs": [],
   "source": []
  }
 ],
 "metadata": {
  "kernelspec": {
   "display_name": "Python 3 (ipykernel)",
   "language": "python",
   "name": "python3"
  },
  "language_info": {
   "codemirror_mode": {
    "name": "ipython",
    "version": 3
   },
   "file_extension": ".py",
   "mimetype": "text/x-python",
   "name": "python",
   "nbconvert_exporter": "python",
   "pygments_lexer": "ipython3",
   "version": "3.10.8"
  }
 },
 "nbformat": 4,
 "nbformat_minor": 5
}
