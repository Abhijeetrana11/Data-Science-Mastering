{
 "cells": [
  {
   "cell_type": "markdown",
   "id": "70331435-cf0e-4341-a430-09603ef0c07c",
   "metadata": {},
   "source": [
    "# Logical operators\n",
    "1. And\n",
    "2. or\n",
    "3. not"
   ]
  },
  {
   "cell_type": "code",
   "execution_count": 3,
   "id": "b45d85a6-853f-4d24-bcbd-d5f3b9739a0c",
   "metadata": {},
   "outputs": [
    {
     "name": "stdout",
     "output_type": "stream",
     "text": [
      "this is tata\n"
     ]
    }
   ],
   "source": [
    "salt=\"tata\"\n",
    "print(f\"this is {salt}\")"
   ]
  },
  {
   "cell_type": "code",
   "execution_count": 4,
   "id": "d2565d4d-f90b-4759-adb6-2a60639037df",
   "metadata": {},
   "outputs": [
    {
     "data": {
      "text/plain": [
       "False"
      ]
     },
     "execution_count": 4,
     "metadata": {},
     "output_type": "execute_result"
    }
   ],
   "source": [
    "bool(0)"
   ]
  },
  {
   "cell_type": "code",
   "execution_count": 5,
   "id": "e4c5263c-359f-44f7-b70a-c0f6c6e6a548",
   "metadata": {},
   "outputs": [
    {
     "data": {
      "text/plain": [
       "0"
      ]
     },
     "execution_count": 5,
     "metadata": {},
     "output_type": "execute_result"
    }
   ],
   "source": [
    "int(bool(0))"
   ]
  },
  {
   "cell_type": "code",
   "execution_count": 7,
   "id": "b9e493c4-1eff-4fb9-b9d7-056dedf032ac",
   "metadata": {},
   "outputs": [
    {
     "data": {
      "text/plain": [
       "True"
      ]
     },
     "execution_count": 7,
     "metadata": {},
     "output_type": "execute_result"
    }
   ],
   "source": [
    "not(False)"
   ]
  },
  {
   "cell_type": "code",
   "execution_count": 8,
   "id": "47caf102-62f2-4b5b-99e5-e2d10ab7f0b2",
   "metadata": {},
   "outputs": [
    {
     "data": {
      "text/plain": [
       "0"
      ]
     },
     "execution_count": 8,
     "metadata": {},
     "output_type": "execute_result"
    }
   ],
   "source": [
    "True*False"
   ]
  },
  {
   "cell_type": "code",
   "execution_count": 9,
   "id": "46fbead6-5ae5-4e0c-a00d-61e393f610f7",
   "metadata": {},
   "outputs": [
    {
     "data": {
      "text/plain": [
       "False"
      ]
     },
     "execution_count": 9,
     "metadata": {},
     "output_type": "execute_result"
    }
   ],
   "source": [
    "not(True)"
   ]
  },
  {
   "cell_type": "code",
   "execution_count": 10,
   "id": "03209b05-0d4b-48f5-88cc-dfe91896a877",
   "metadata": {},
   "outputs": [
    {
     "data": {
      "text/plain": [
       "False"
      ]
     },
     "execution_count": 10,
     "metadata": {},
     "output_type": "execute_result"
    }
   ],
   "source": [
    "(not(True))"
   ]
  },
  {
   "cell_type": "code",
   "execution_count": 11,
   "id": "e74cace6-42c9-4166-9998-f7d8180c388b",
   "metadata": {},
   "outputs": [
    {
     "data": {
      "text/plain": [
       "0"
      ]
     },
     "execution_count": 11,
     "metadata": {},
     "output_type": "execute_result"
    }
   ],
   "source": [
    "True* False"
   ]
  },
  {
   "cell_type": "code",
   "execution_count": 12,
   "id": "a382a038-9aee-4bec-ab7e-7329c86f744f",
   "metadata": {},
   "outputs": [
    {
     "data": {
      "text/plain": [
       "0"
      ]
     },
     "execution_count": 12,
     "metadata": {},
     "output_type": "execute_result"
    }
   ],
   "source": [
    "(not(True)) * False"
   ]
  },
  {
   "cell_type": "code",
   "execution_count": 19,
   "id": "e8ec054b-4369-4411-976e-557666279ae0",
   "metadata": {},
   "outputs": [
    {
     "data": {
      "text/plain": [
       "True"
      ]
     },
     "execution_count": 19,
     "metadata": {},
     "output_type": "execute_result"
    }
   ],
   "source": [
    "#Here the BODMAS rule is getting applied thats why multiply will be executed first then not\n",
    "not (False) * False"
   ]
  },
  {
   "cell_type": "code",
   "execution_count": 16,
   "id": "e4e0c3b2-9571-45fd-8c1b-605d29f27a69",
   "metadata": {},
   "outputs": [
    {
     "data": {
      "text/plain": [
       "True"
      ]
     },
     "execution_count": 16,
     "metadata": {},
     "output_type": "execute_result"
    }
   ],
   "source": [
    "not (False)"
   ]
  },
  {
   "cell_type": "code",
   "execution_count": 17,
   "id": "f75ba42c-8a6d-433a-8bfc-d01a8967a2ad",
   "metadata": {},
   "outputs": [
    {
     "data": {
      "text/plain": [
       "0"
      ]
     },
     "execution_count": 17,
     "metadata": {},
     "output_type": "execute_result"
    }
   ],
   "source": [
    "True* False"
   ]
  },
  {
   "cell_type": "code",
   "execution_count": 18,
   "id": "6c66247d-8c52-4deb-8b14-77e95d543106",
   "metadata": {},
   "outputs": [
    {
     "data": {
      "text/plain": [
       "0"
      ]
     },
     "execution_count": 18,
     "metadata": {},
     "output_type": "execute_result"
    }
   ],
   "source": [
    "(not (False)) * False"
   ]
  },
  {
   "cell_type": "code",
   "execution_count": 22,
   "id": "d9714a20-3bc2-4d14-adcd-b99587f5a879",
   "metadata": {},
   "outputs": [
    {
     "data": {
      "text/plain": [
       "True"
      ]
     },
     "execution_count": 22,
     "metadata": {},
     "output_type": "execute_result"
    }
   ],
   "source": [
    "#not is a boolean operation so it is always going to give you output in T or F\n",
    "not(0)"
   ]
  },
  {
   "cell_type": "code",
   "execution_count": 23,
   "id": "0700c1d5-cc34-44e7-98a5-a0aee40567e4",
   "metadata": {},
   "outputs": [],
   "source": [
    "lst_a=[1,2,3,4]\n",
    "lst_b=[1,2,3,4]\n",
    "\n",
    "    "
   ]
  },
  {
   "cell_type": "code",
   "execution_count": 24,
   "id": "25a85f97-f730-412c-86d9-6dd4ac55d1ba",
   "metadata": {},
   "outputs": [
    {
     "data": {
      "text/plain": [
       "139707809481792"
      ]
     },
     "execution_count": 24,
     "metadata": {},
     "output_type": "execute_result"
    }
   ],
   "source": [
    "id(lst_a)"
   ]
  },
  {
   "cell_type": "code",
   "execution_count": 26,
   "id": "9fff1489-0b35-4879-b495-2c24798771e7",
   "metadata": {},
   "outputs": [
    {
     "name": "stdout",
     "output_type": "stream",
     "text": [
      "139707809481792\n",
      "139708242717440\n"
     ]
    }
   ],
   "source": [
    "print(id(lst_a))\n",
    "print(id(lst_b))"
   ]
  },
  {
   "cell_type": "code",
   "execution_count": 28,
   "id": "c6616b3a-5ea5-4f0b-9ded-9b419da1050d",
   "metadata": {},
   "outputs": [
    {
     "data": {
      "text/plain": [
       "False"
      ]
     },
     "execution_count": 28,
     "metadata": {},
     "output_type": "execute_result"
    }
   ],
   "source": [
    "lst_a is lst_b"
   ]
  },
  {
   "cell_type": "code",
   "execution_count": 29,
   "id": "7b4f81d9-b2d0-4698-8480-2fa2fb3ca470",
   "metadata": {},
   "outputs": [
    {
     "name": "stdout",
     "output_type": "stream",
     "text": [
      "139707802998848\n",
      "139707802998848\n"
     ]
    }
   ],
   "source": [
    "lst_a=[1,2,3,4]\n",
    "lst_b=lst_a\n",
    "print(id(lst_a))\n",
    "print(id(lst_b))"
   ]
  },
  {
   "cell_type": "code",
   "execution_count": 30,
   "id": "49dede56-d87f-4435-9b43-f067a589e6f5",
   "metadata": {},
   "outputs": [
    {
     "data": {
      "text/plain": [
       "True"
      ]
     },
     "execution_count": 30,
     "metadata": {},
     "output_type": "execute_result"
    }
   ],
   "source": [
    "lst_a is lst_b"
   ]
  },
  {
   "cell_type": "code",
   "execution_count": 31,
   "id": "e9174f7d-58a4-46ee-9607-33bb71a3bb3c",
   "metadata": {},
   "outputs": [],
   "source": [
    "a=2\n",
    "b=2"
   ]
  },
  {
   "cell_type": "code",
   "execution_count": 32,
   "id": "ee3360be-ab9e-46fb-a87d-2fd02df90641",
   "metadata": {},
   "outputs": [
    {
     "name": "stdout",
     "output_type": "stream",
     "text": [
      "139708291531024\n",
      "139708291531024\n"
     ]
    }
   ],
   "source": [
    "print(id(a))\n",
    "print(id(b))"
   ]
  },
  {
   "cell_type": "code",
   "execution_count": 33,
   "id": "9ad293f5-f070-4bdc-bff2-3469c2728c59",
   "metadata": {},
   "outputs": [
    {
     "name": "stdout",
     "output_type": "stream",
     "text": [
      "139707809305584\n",
      "139707809305584\n"
     ]
    }
   ],
   "source": [
    "str1=\"Abhijeet\"\n",
    "str2=\"Abhijeet\"\n",
    "print(id(str1))\n",
    "print(id(str2))"
   ]
  },
  {
   "cell_type": "code",
   "execution_count": 34,
   "id": "9e190f71-e4d1-43c1-a998-c39c0622644e",
   "metadata": {},
   "outputs": [
    {
     "data": {
      "text/plain": [
       "[1, 2, 3, 4]"
      ]
     },
     "execution_count": 34,
     "metadata": {},
     "output_type": "execute_result"
    }
   ],
   "source": [
    "lst_a"
   ]
  },
  {
   "cell_type": "code",
   "execution_count": 35,
   "id": "74fe761b-31c5-401e-9277-e7ff241adcb0",
   "metadata": {},
   "outputs": [],
   "source": [
    "#String is immutable once you define a string you can replace a string but you cant only just replace one single character from a string"
   ]
  },
  {
   "cell_type": "code",
   "execution_count": 39,
   "id": "e75f33c2-78f3-491a-bde7-0c83ba9d155d",
   "metadata": {},
   "outputs": [
    {
     "data": {
      "text/plain": [
       "[13, 2, 3, 4]"
      ]
     },
     "execution_count": 39,
     "metadata": {},
     "output_type": "execute_result"
    }
   ],
   "source": [
    "# but a list is mutable\n",
    "# example\n",
    "lst_a[0]=13\n",
    "lst_a"
   ]
  },
  {
   "cell_type": "code",
   "execution_count": 44,
   "id": "2b8cc4d1-4a19-4b5a-b06c-cc0b1e786659",
   "metadata": {},
   "outputs": [
    {
     "ename": "TypeError",
     "evalue": "'str' object does not support item assignment",
     "output_type": "error",
     "traceback": [
      "\u001b[0;31m---------------------------------------------------------------------------\u001b[0m",
      "\u001b[0;31mTypeError\u001b[0m                                 Traceback (most recent call last)",
      "Cell \u001b[0;32mIn[44], line 3\u001b[0m\n\u001b[1;32m      1\u001b[0m \u001b[38;5;66;03m# but you cant do the dollowing\u001b[39;00m\n\u001b[1;32m      2\u001b[0m str1\u001b[38;5;241m=\u001b[39m\u001b[38;5;124m\"\u001b[39m\u001b[38;5;124mAbhijeet\u001b[39m\u001b[38;5;124m\"\u001b[39m\n\u001b[0;32m----> 3\u001b[0m \u001b[43mstr1\u001b[49m\u001b[43m[\u001b[49m\u001b[38;5;241;43m0\u001b[39;49m\u001b[43m]\u001b[49m\u001b[38;5;241m=\u001b[39m\u001b[38;5;124m\"\u001b[39m\u001b[38;5;124mb\u001b[39m\u001b[38;5;124m\"\u001b[39m\n",
      "\u001b[0;31mTypeError\u001b[0m: 'str' object does not support item assignment"
     ]
    }
   ],
   "source": [
    "# but you cant do the following\n",
    "str1=\"Abhijeet\"\n",
    "str1[0]=\"b\""
   ]
  },
  {
   "cell_type": "code",
   "execution_count": 45,
   "id": "88821aa4-8a01-4aff-8fb0-12e144562ed6",
   "metadata": {},
   "outputs": [
    {
     "data": {
      "text/plain": [
       "'Abhijeet'"
      ]
     },
     "execution_count": 45,
     "metadata": {},
     "output_type": "execute_result"
    }
   ],
   "source": [
    "str1"
   ]
  },
  {
   "cell_type": "code",
   "execution_count": 56,
   "id": "bf184fce-470f-4df8-94f5-fd63266bd2d5",
   "metadata": {},
   "outputs": [
    {
     "data": {
      "text/plain": [
       "0.24752475247524752"
      ]
     },
     "execution_count": 56,
     "metadata": {},
     "output_type": "execute_result"
    }
   ],
   "source": [
    "a=25\n",
    "b=101\n",
    "a/b"
   ]
  },
  {
   "cell_type": "code",
   "execution_count": 58,
   "id": "f6853f92-9731-4b5b-b80e-a4aacbdd3be2",
   "metadata": {},
   "outputs": [
    {
     "data": {
      "text/plain": [
       "0"
      ]
     },
     "execution_count": 58,
     "metadata": {},
     "output_type": "execute_result"
    }
   ],
   "source": [
    "# gives the integer part of division only\n",
    "a//b"
   ]
  },
  {
   "cell_type": "code",
   "execution_count": 60,
   "id": "5a372218-b9bc-43db-8c50-4d3fa5bd5db7",
   "metadata": {},
   "outputs": [
    {
     "data": {
      "text/plain": [
       "1"
      ]
     },
     "execution_count": 60,
     "metadata": {},
     "output_type": "execute_result"
    }
   ],
   "source": [
    "b%a"
   ]
  },
  {
   "cell_type": "markdown",
   "id": "4d3e60f7-f93b-430a-b2a0-172bc1a43ae8",
   "metadata": {},
   "source": [
    "# Binary numbers"
   ]
  },
  {
   "cell_type": "code",
   "execution_count": 61,
   "id": "0bc6b5df-b154-4caf-be73-6f77398c30ad",
   "metadata": {},
   "outputs": [
    {
     "data": {
      "text/plain": [
       "'0b1010'"
      ]
     },
     "execution_count": 61,
     "metadata": {},
     "output_type": "execute_result"
    }
   ],
   "source": [
    "var=10\n",
    "bin(10)"
   ]
  },
  {
   "cell_type": "markdown",
   "id": "ef4fb953-d847-4169-bec4-0e0a9a4734d4",
   "metadata": {},
   "source": [
    "# Strings"
   ]
  },
  {
   "cell_type": "code",
   "execution_count": 62,
   "id": "2f667f69-68f8-4c19-8bda-25c8860cb634",
   "metadata": {},
   "outputs": [],
   "source": [
    "\"\"\n",
    "''\n",
    "str1=\"Welcome to PW Skills\"\n"
   ]
  },
  {
   "cell_type": "code",
   "execution_count": 63,
   "id": "1cd73d10-0957-425f-84b8-f86f5b1f9332",
   "metadata": {},
   "outputs": [
    {
     "data": {
      "text/plain": [
       "'m'"
      ]
     },
     "execution_count": 63,
     "metadata": {},
     "output_type": "execute_result"
    }
   ],
   "source": [
    "str1[5]"
   ]
  },
  {
   "cell_type": "code",
   "execution_count": 65,
   "id": "a2fdcea4-51b0-42a6-8ed4-0091998a3579",
   "metadata": {},
   "outputs": [
    {
     "data": {
      "text/plain": [
       "'me to PW Skills'"
      ]
     },
     "execution_count": 65,
     "metadata": {},
     "output_type": "execute_result"
    }
   ],
   "source": [
    "str1[5:]"
   ]
  },
  {
   "cell_type": "code",
   "execution_count": 68,
   "id": "690220ba-a62e-4456-aca2-0cca891955f5",
   "metadata": {},
   "outputs": [
    {
     "data": {
      "text/plain": [
       "'me to '"
      ]
     },
     "execution_count": 68,
     "metadata": {},
     "output_type": "execute_result"
    }
   ],
   "source": [
    "# Slice Operation\n",
    "str1[5:11] #ie 5th index to 10th index"
   ]
  },
  {
   "cell_type": "code",
   "execution_count": 69,
   "id": "e6eacaa0-c545-4f80-a222-38ff26dfe3b4",
   "metadata": {},
   "outputs": [
    {
     "data": {
      "text/plain": [
       "'s'"
      ]
     },
     "execution_count": 69,
     "metadata": {},
     "output_type": "execute_result"
    }
   ],
   "source": [
    "# last character\n",
    "str1[-1]"
   ]
  },
  {
   "cell_type": "code",
   "execution_count": 71,
   "id": "2c8bcac0-c9bd-463c-bef4-b8f4baa5c428",
   "metadata": {},
   "outputs": [
    {
     "data": {
      "text/plain": [
       "'Skills'"
      ]
     },
     "execution_count": 71,
     "metadata": {},
     "output_type": "execute_result"
    }
   ],
   "source": [
    "str1[-6:]"
   ]
  },
  {
   "cell_type": "code",
   "execution_count": 73,
   "id": "16d07bd2-bb36-4b80-961a-84b4deb75c3a",
   "metadata": {},
   "outputs": [
    {
     "data": {
      "text/plain": [
       "'Welcome to PW Skill'"
      ]
     },
     "execution_count": 73,
     "metadata": {},
     "output_type": "execute_result"
    }
   ],
   "source": [
    "str1[:-1]\n",
    "# read everything except last character"
   ]
  },
  {
   "cell_type": "code",
   "execution_count": 75,
   "id": "2d9c9f15-7aad-4262-893b-1af4376c3897",
   "metadata": {},
   "outputs": [
    {
     "data": {
      "text/plain": [
       "'Welcome to PW Skills'"
      ]
     },
     "execution_count": 75,
     "metadata": {},
     "output_type": "execute_result"
    }
   ],
   "source": [
    "str1[:]"
   ]
  },
  {
   "cell_type": "code",
   "execution_count": 77,
   "id": "524b4099-283b-4322-8d81-6adf8d398044",
   "metadata": {},
   "outputs": [
    {
     "data": {
      "text/plain": [
       "'Welcome to PW Skills'"
      ]
     },
     "execution_count": 77,
     "metadata": {},
     "output_type": "execute_result"
    }
   ],
   "source": [
    "str1[::]"
   ]
  },
  {
   "cell_type": "code",
   "execution_count": 78,
   "id": "b330cc37-ea9e-4147-98f2-086db3f9ff02",
   "metadata": {},
   "outputs": [
    {
     "data": {
      "text/plain": [
       "'sllikS WP ot emocleW'"
      ]
     },
     "execution_count": 78,
     "metadata": {},
     "output_type": "execute_result"
    }
   ],
   "source": [
    "# String reverse\n",
    "str1[::-1]"
   ]
  },
  {
   "cell_type": "code",
   "execution_count": 79,
   "id": "0e51cccf-bfbf-4377-9672-27727ea5e2d8",
   "metadata": {},
   "outputs": [
    {
     "data": {
      "text/plain": [
       "'slk Po mce'"
      ]
     },
     "execution_count": 79,
     "metadata": {},
     "output_type": "execute_result"
    }
   ],
   "source": [
    "str1[::-2]"
   ]
  },
  {
   "cell_type": "code",
   "execution_count": 80,
   "id": "751384ad-5b41-41ba-884e-219207cb46f4",
   "metadata": {},
   "outputs": [
    {
     "data": {
      "text/plain": [
       "'Wloet WSil'"
      ]
     },
     "execution_count": 80,
     "metadata": {},
     "output_type": "execute_result"
    }
   ],
   "source": [
    "str1[::2]"
   ]
  },
  {
   "cell_type": "code",
   "execution_count": 1,
   "id": "4853144d-7430-498a-8ce1-3cb03ba024da",
   "metadata": {},
   "outputs": [],
   "source": [
    "name=\"Data Science Masters\""
   ]
  },
  {
   "cell_type": "code",
   "execution_count": 84,
   "id": "17ddfe31-ec64-4e05-abed-221e9fc96a1b",
   "metadata": {},
   "outputs": [
    {
     "data": {
      "text/plain": [
       "'Science'"
      ]
     },
     "execution_count": 84,
     "metadata": {},
     "output_type": "execute_result"
    }
   ],
   "source": [
    "name[5:12]"
   ]
  },
  {
   "cell_type": "code",
   "execution_count": 90,
   "id": "4e84bdf7-8c1d-42ae-b546-5df1fc28c7fe",
   "metadata": {},
   "outputs": [
    {
     "data": {
      "text/plain": [
       "'ecneicS'"
      ]
     },
     "execution_count": 90,
     "metadata": {},
     "output_type": "execute_result"
    }
   ],
   "source": [
    "name[11:4:-1]"
   ]
  },
  {
   "cell_type": "code",
   "execution_count": 2,
   "id": "d5b0866d-b7c9-486b-b017-4e71d13f3ec4",
   "metadata": {},
   "outputs": [],
   "source": [
    "name=name + \" Course\""
   ]
  },
  {
   "cell_type": "code",
   "execution_count": 3,
   "id": "09f13022-f733-4f28-967e-e4ab9296a3b6",
   "metadata": {},
   "outputs": [
    {
     "data": {
      "text/plain": [
       "'Data Science Masters Course'"
      ]
     },
     "execution_count": 3,
     "metadata": {},
     "output_type": "execute_result"
    }
   ],
   "source": [
    "name"
   ]
  },
  {
   "cell_type": "code",
   "execution_count": 7,
   "id": "5902c72d-3681-48bc-a2df-567ba8351be8",
   "metadata": {},
   "outputs": [
    {
     "data": {
      "text/plain": [
       "'esruoC sretsaM ecneicS ataD'"
      ]
     },
     "execution_count": 7,
     "metadata": {},
     "output_type": "execute_result"
    }
   ],
   "source": [
    "name[::-1]"
   ]
  },
  {
   "cell_type": "code",
   "execution_count": 4,
   "id": "acbd77a5-821e-4242-ac8c-ca90b824d47d",
   "metadata": {},
   "outputs": [
    {
     "data": {
      "text/plain": [
       "27"
      ]
     },
     "execution_count": 4,
     "metadata": {},
     "output_type": "execute_result"
    }
   ],
   "source": [
    "len(name)"
   ]
  },
  {
   "cell_type": "code",
   "execution_count": 7,
   "id": "8436ee23-33af-475b-9081-aadeb819324e",
   "metadata": {},
   "outputs": [
    {
     "data": {
      "text/plain": [
       "1"
      ]
     },
     "execution_count": 7,
     "metadata": {},
     "output_type": "execute_result"
    }
   ],
   "source": [
    "name.find(\"a\") # returns the first index where the particular element is present"
   ]
  },
  {
   "cell_type": "code",
   "execution_count": 8,
   "id": "817c47b2-52b1-4092-8352-b4d18c369e20",
   "metadata": {},
   "outputs": [
    {
     "data": {
      "text/plain": [
       "3"
      ]
     },
     "execution_count": 8,
     "metadata": {},
     "output_type": "execute_result"
    }
   ],
   "source": [
    "# find from and till\n",
    "name.find(\"a\",2,10)"
   ]
  },
  {
   "cell_type": "code",
   "execution_count": 10,
   "id": "861a6884-3b4f-45f8-8139-36c97b33694c",
   "metadata": {},
   "outputs": [
    {
     "data": {
      "text/plain": [
       "3"
      ]
     },
     "execution_count": 10,
     "metadata": {},
     "output_type": "execute_result"
    }
   ],
   "source": [
    "name.count(\"a\") # here a is present 3 times"
   ]
  },
  {
   "cell_type": "code",
   "execution_count": 12,
   "id": "7ae65924-b327-47e9-b368-7401b3a3228e",
   "metadata": {},
   "outputs": [
    {
     "data": {
      "text/plain": [
       "3"
      ]
     },
     "execution_count": 12,
     "metadata": {},
     "output_type": "execute_result"
    }
   ],
   "source": [
    "name.count(\" \")# here empty space is present 3 times"
   ]
  },
  {
   "cell_type": "markdown",
   "id": "b5bc21a6-142f-4aeb-9afa-ea945d1b973f",
   "metadata": {},
   "source": [
    "# String Split"
   ]
  },
  {
   "cell_type": "code",
   "execution_count": 13,
   "id": "0c206f5c-916c-48bb-a981-920797e4d652",
   "metadata": {},
   "outputs": [
    {
     "data": {
      "text/plain": [
       "['Data', 'Science', 'Masters', 'Course']"
      ]
     },
     "execution_count": 13,
     "metadata": {},
     "output_type": "execute_result"
    }
   ],
   "source": [
    "name.split(\" \")"
   ]
  },
  {
   "cell_type": "code",
   "execution_count": 15,
   "id": "c15daa32-9fd3-4e48-bad4-256a09ad4038",
   "metadata": {},
   "outputs": [
    {
     "data": {
      "text/plain": [
       "['Data ', 'cience Masters Course']"
      ]
     },
     "execution_count": 15,
     "metadata": {},
     "output_type": "execute_result"
    }
   ],
   "source": [
    "name.split(\"S\")"
   ]
  },
  {
   "cell_type": "code",
   "execution_count": 17,
   "id": "38cf81bf-3249-4602-900f-a0ac8297c8e0",
   "metadata": {},
   "outputs": [
    {
     "data": {
      "text/plain": [
       "('Data Science Ma', 's', 'ters Course')"
      ]
     },
     "execution_count": 17,
     "metadata": {},
     "output_type": "execute_result"
    }
   ],
   "source": [
    "name.partition(\"s\")"
   ]
  },
  {
   "cell_type": "markdown",
   "id": "c8f99287-bb12-4322-aed0-f1bf0ddd3680",
   "metadata": {},
   "source": [
    "# String Upper Case and Lower Case"
   ]
  },
  {
   "cell_type": "code",
   "execution_count": 18,
   "id": "2d77f6a4-034e-4d9d-b3d4-5fede159074c",
   "metadata": {},
   "outputs": [
    {
     "data": {
      "text/plain": [
       "'DATA SCIENCE MASTERS COURSE'"
      ]
     },
     "execution_count": 18,
     "metadata": {},
     "output_type": "execute_result"
    }
   ],
   "source": [
    "name.upper()"
   ]
  },
  {
   "cell_type": "code",
   "execution_count": 19,
   "id": "09c82b2a-1444-49a7-a8a0-87a57a40d8c1",
   "metadata": {},
   "outputs": [
    {
     "data": {
      "text/plain": [
       "'data science masters course'"
      ]
     },
     "execution_count": 19,
     "metadata": {},
     "output_type": "execute_result"
    }
   ],
   "source": [
    "name.lower()"
   ]
  },
  {
   "cell_type": "code",
   "execution_count": 20,
   "id": "58f04da9-ba38-420e-b97b-9c03aecea780",
   "metadata": {},
   "outputs": [
    {
     "data": {
      "text/plain": [
       "'dATA sCIENCE mASTERS cOURSE'"
      ]
     },
     "execution_count": 20,
     "metadata": {},
     "output_type": "execute_result"
    }
   ],
   "source": [
    "name.swapcase()"
   ]
  },
  {
   "cell_type": "code",
   "execution_count": 22,
   "id": "c1c3c5c5-1d01-4d16-9cf4-8f36ec0bfa64",
   "metadata": {},
   "outputs": [
    {
     "data": {
      "text/plain": [
       "'Data Science Masters Course'"
      ]
     },
     "execution_count": 22,
     "metadata": {},
     "output_type": "execute_result"
    }
   ],
   "source": [
    "name.title() # for everty word the first letter will be capital"
   ]
  },
  {
   "cell_type": "code",
   "execution_count": null,
   "id": "2e18c851-808b-42b1-a664-04cda011b87e",
   "metadata": {},
   "outputs": [],
   "source": []
  }
 ],
 "metadata": {
  "kernelspec": {
   "display_name": "Python 3 (ipykernel)",
   "language": "python",
   "name": "python3"
  },
  "language_info": {
   "codemirror_mode": {
    "name": "ipython",
    "version": 3
   },
   "file_extension": ".py",
   "mimetype": "text/x-python",
   "name": "python",
   "nbconvert_exporter": "python",
   "pygments_lexer": "ipython3",
   "version": "3.10.8"
  }
 },
 "nbformat": 4,
 "nbformat_minor": 5
}
