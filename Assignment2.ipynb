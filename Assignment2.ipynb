{
 "cells": [
  {
   "cell_type": "markdown",
   "id": "7d5b67f4-12a6-4b76-b472-64d2ab53b9b7",
   "metadata": {},
   "source": [
    "Q1. Which keyword is used to create a function? Create a function to return a list of odd numbers in the\n",
    "range of 1 to 25."
   ]
  },
  {
   "cell_type": "code",
   "execution_count": 9,
   "id": "71f88357-53c0-4259-a0a2-55261b69f343",
   "metadata": {},
   "outputs": [],
   "source": [
    "# def  keyword is used to create a function beforme the name of function\n",
    "def odd_num():\n",
    "    l=[]\n",
    "    for i in range(1,26):\n",
    "        if i%2==1:\n",
    "            l.append(i)\n",
    "    return l"
   ]
  },
  {
   "cell_type": "code",
   "execution_count": 10,
   "id": "553ac013-5196-4873-884b-a017eeafeb87",
   "metadata": {},
   "outputs": [
    {
     "data": {
      "text/plain": [
       "[1, 3, 5, 7, 9, 11, 13, 15, 17, 19, 21, 23, 25]"
      ]
     },
     "execution_count": 10,
     "metadata": {},
     "output_type": "execute_result"
    }
   ],
   "source": [
    "odd_num()"
   ]
  },
  {
   "cell_type": "markdown",
   "id": "53dc1f6d-daf1-4587-864d-b9f49f3c20f4",
   "metadata": {},
   "source": [
    "ANS2\n",
    "\n",
    "*args is used to give multiple number of inputs in a function in form of a tuple\n",
    "\n",
    "**kwargs is used to give multiple number of inputs in form of keys and values in type of dictionary"
   ]
  },
  {
   "cell_type": "code",
   "execution_count": 12,
   "id": "9e3ef06e-e955-49d5-bb59-c75f9a6291ba",
   "metadata": {},
   "outputs": [
    {
     "data": {
      "text/plain": [
       "(1, 2, 3, 'Abhi', 4.5)"
      ]
     },
     "execution_count": 12,
     "metadata": {},
     "output_type": "execute_result"
    }
   ],
   "source": [
    "def test1(*args):\n",
    "    return args\n",
    "test1(1,2,3,\"Abhi\",4.5)"
   ]
  },
  {
   "cell_type": "code",
   "execution_count": 14,
   "id": "099a8b28-b655-430f-8421-a1df5949868b",
   "metadata": {},
   "outputs": [
    {
     "data": {
      "text/plain": [
       "{'a': 22, 'b': 33, 'c': 'abhi', 'd': 11.3}"
      ]
     },
     "execution_count": 14,
     "metadata": {},
     "output_type": "execute_result"
    }
   ],
   "source": [
    "def test2(**kwargs):\n",
    "    return kwargs\n",
    "test2(a=22,b=33,c='abhi',d=11.3)"
   ]
  },
  {
   "cell_type": "markdown",
   "id": "72bd322b-29c4-409c-93f8-76d525490ddc",
   "metadata": {},
   "source": [
    "ANS 3\n",
    "    Iterator in Python is an object that is used to iterate over iterable objects like lists, tuples, dicts, and sets. \n",
    "    \n",
    "    The iterator object is initialized using the iter() method.\n",
    "    \n",
    "    It uses the next() method for iteration."
   ]
  },
  {
   "cell_type": "code",
   "execution_count": 4,
   "id": "063b98c8-5326-41fc-8ff8-b43c9de6beaa",
   "metadata": {},
   "outputs": [
    {
     "name": "stdout",
     "output_type": "stream",
     "text": [
      "2\n",
      "4\n",
      "6\n",
      "8\n",
      "10\n"
     ]
    }
   ],
   "source": [
    "l1= [2, 4, 6, 8, 10, 12, 14, 16,  18, 20]\n",
    "num_iterator=iter(l1)\n",
    "print(next(num_iterator))\n",
    "print(next(num_iterator))\n",
    "print(next(num_iterator))\n",
    "print(next(num_iterator))\n",
    "print(next(num_iterator))"
   ]
  },
  {
   "cell_type": "markdown",
   "id": "ae71ee57-2b63-427c-b936-b402d1e4e057",
   "metadata": {},
   "source": [
    "Ans4\n",
    "\n",
    " A generator-function is defined like a normal function, but whenever it needs to generate a value, it does so with the yield keyword rather than return.\n",
    " \n",
    " If the body of a def contains yield, the function automatically becomes a generator function"
   ]
  },
  {
   "cell_type": "code",
   "execution_count": 5,
   "id": "cb9dce66-9eaa-48b0-9bc2-f973720c68af",
   "metadata": {},
   "outputs": [],
   "source": [
    "def fib(n):\n",
    "    a,b=0,1\n",
    "    for i in range(n):\n",
    "        yield a\n",
    "        a,b = b,a+b"
   ]
  },
  {
   "cell_type": "code",
   "execution_count": 6,
   "id": "1400c381-9025-45e3-87e8-290e1fe86649",
   "metadata": {},
   "outputs": [
    {
     "data": {
      "text/plain": [
       "<generator object fib at 0x7fe7074b99a0>"
      ]
     },
     "execution_count": 6,
     "metadata": {},
     "output_type": "execute_result"
    }
   ],
   "source": [
    "fib(11)"
   ]
  },
  {
   "cell_type": "code",
   "execution_count": 7,
   "id": "ef7be212-74f2-4338-8bed-897dd87e0f01",
   "metadata": {},
   "outputs": [
    {
     "name": "stdout",
     "output_type": "stream",
     "text": [
      "0\n",
      "1\n",
      "1\n",
      "2\n",
      "3\n",
      "5\n",
      "8\n",
      "13\n",
      "21\n",
      "34\n",
      "55\n"
     ]
    }
   ],
   "source": [
    "for i in fib(11):\n",
    "    print(i)"
   ]
  },
  {
   "cell_type": "code",
   "execution_count": 8,
   "id": "590f0da4-7d0a-4338-bc8a-d8049aaac822",
   "metadata": {},
   "outputs": [],
   "source": [
    "def primes():\n",
    "    \n",
    "    yield 2\n",
    "    for num in range(3, 1000, 2):\n",
    "        is_prime = True\n",
    "        for div in range(3, int(num**0.5)+1, 2):\n",
    "            if num % div == 0:\n",
    "                is_prime = False\n",
    "                break\n",
    "        if is_prime:\n",
    "            yield num"
   ]
  },
  {
   "cell_type": "code",
   "execution_count": 15,
   "id": "4fbaaea5-57e4-40b3-9306-dfa52c6ceedc",
   "metadata": {},
   "outputs": [],
   "source": [
    "p=primes()\n",
    "prime_itr=iter(p)"
   ]
  },
  {
   "cell_type": "code",
   "execution_count": 16,
   "id": "5f1be6bd-47ff-40c9-a3f4-1b2fe2b8b90c",
   "metadata": {},
   "outputs": [
    {
     "name": "stdout",
     "output_type": "stream",
     "text": [
      "2\n",
      "3\n",
      "5\n",
      "7\n",
      "11\n",
      "13\n",
      "17\n",
      "19\n",
      "23\n",
      "29\n",
      "31\n",
      "37\n",
      "41\n",
      "43\n",
      "47\n",
      "53\n",
      "59\n",
      "61\n",
      "67\n",
      "71\n"
     ]
    }
   ],
   "source": [
    "for i in range(0,20):\n",
    "    print(next(prime_itr))"
   ]
  },
  {
   "cell_type": "code",
   "execution_count": null,
   "id": "4450d27c-9f40-49c0-bdec-91aa462c1b81",
   "metadata": {},
   "outputs": [],
   "source": []
  }
 ],
 "metadata": {
  "kernelspec": {
   "display_name": "Python 3 (ipykernel)",
   "language": "python",
   "name": "python3"
  },
  "language_info": {
   "codemirror_mode": {
    "name": "ipython",
    "version": 3
   },
   "file_extension": ".py",
   "mimetype": "text/x-python",
   "name": "python",
   "nbconvert_exporter": "python",
   "pygments_lexer": "ipython3",
   "version": "3.10.8"
  }
 },
 "nbformat": 4,
 "nbformat_minor": 5
}
