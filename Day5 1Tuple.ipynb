{
 "cells": [
  {
   "cell_type": "code",
   "execution_count": 1,
   "id": "2bbdf6aa-5e0d-496d-b7d6-59c68d87b813",
   "metadata": {},
   "outputs": [],
   "source": [
    "t=()"
   ]
  },
  {
   "cell_type": "code",
   "execution_count": 2,
   "id": "1f1354ef-6fbd-4b86-9ae9-3f2ca30eb324",
   "metadata": {},
   "outputs": [
    {
     "data": {
      "text/plain": [
       "tuple"
      ]
     },
     "execution_count": 2,
     "metadata": {},
     "output_type": "execute_result"
    }
   ],
   "source": [
    "type(t)"
   ]
  },
  {
   "cell_type": "code",
   "execution_count": 5,
   "id": "68a080ee-4636-4874-b947-61d035ba1c41",
   "metadata": {},
   "outputs": [],
   "source": [
    "t1=(34,45.5,\"Abhi\",True)"
   ]
  },
  {
   "cell_type": "code",
   "execution_count": 4,
   "id": "e231a12a-ae90-47d3-b591-1ce26bca1499",
   "metadata": {},
   "outputs": [
    {
     "data": {
      "text/plain": [
       "tuple"
      ]
     },
     "execution_count": 4,
     "metadata": {},
     "output_type": "execute_result"
    }
   ],
   "source": [
    "type(t1)"
   ]
  },
  {
   "cell_type": "code",
   "execution_count": 5,
   "id": "92cc714e-6de8-4043-94c2-324b2533ef6d",
   "metadata": {},
   "outputs": [
    {
     "data": {
      "text/plain": [
       "34"
      ]
     },
     "execution_count": 5,
     "metadata": {},
     "output_type": "execute_result"
    }
   ],
   "source": [
    "t1[0]"
   ]
  },
  {
   "cell_type": "code",
   "execution_count": 6,
   "id": "0a439f5d-9299-48ca-b98b-f6ec665c787c",
   "metadata": {},
   "outputs": [
    {
     "data": {
      "text/plain": [
       "'Abhi'"
      ]
     },
     "execution_count": 6,
     "metadata": {},
     "output_type": "execute_result"
    }
   ],
   "source": [
    "t1[2]"
   ]
  },
  {
   "cell_type": "code",
   "execution_count": 8,
   "id": "c341790e-8d16-45a3-93ca-0d90bfa241af",
   "metadata": {},
   "outputs": [
    {
     "data": {
      "text/plain": [
       "(True, 'Abhi', 45.5, 34)"
      ]
     },
     "execution_count": 8,
     "metadata": {},
     "output_type": "execute_result"
    }
   ],
   "source": [
    "t1[::-1] ## reverse order"
   ]
  },
  {
   "cell_type": "code",
   "execution_count": 9,
   "id": "4c252c2e-d7cd-4734-97a0-bd40d4d3252e",
   "metadata": {},
   "outputs": [],
   "source": [
    "# storing t1 in reversed orddr\n",
    "t1=t1[::-1]"
   ]
  },
  {
   "cell_type": "code",
   "execution_count": 10,
   "id": "fd159ba9-d086-4f27-bd27-9031a81c664d",
   "metadata": {},
   "outputs": [
    {
     "data": {
      "text/plain": [
       "(True, 'Abhi', 45.5, 34)"
      ]
     },
     "execution_count": 10,
     "metadata": {},
     "output_type": "execute_result"
    }
   ],
   "source": [
    "t1"
   ]
  },
  {
   "cell_type": "code",
   "execution_count": 11,
   "id": "03b8fa94-e099-4a52-960c-5061683d033b",
   "metadata": {},
   "outputs": [
    {
     "data": {
      "text/plain": [
       "(True, 'Abhi')"
      ]
     },
     "execution_count": 11,
     "metadata": {},
     "output_type": "execute_result"
    }
   ],
   "source": [
    "t1[0:2]"
   ]
  },
  {
   "cell_type": "code",
   "execution_count": 15,
   "id": "b46e74ce-bdef-49a4-be8c-c11fe840f286",
   "metadata": {},
   "outputs": [
    {
     "data": {
      "text/plain": [
       "0"
      ]
     },
     "execution_count": 15,
     "metadata": {},
     "output_type": "execute_result"
    }
   ],
   "source": [
    "t1.count(4)"
   ]
  },
  {
   "cell_type": "code",
   "execution_count": 16,
   "id": "a63c4f4e-c391-4450-bc1b-93d5a8419a04",
   "metadata": {},
   "outputs": [
    {
     "data": {
      "text/plain": [
       "1"
      ]
     },
     "execution_count": 16,
     "metadata": {},
     "output_type": "execute_result"
    }
   ],
   "source": [
    "t1.count(34)"
   ]
  },
  {
   "cell_type": "code",
   "execution_count": 17,
   "id": "a88f0476-17d0-4f6c-9a18-e36f9de6b34a",
   "metadata": {},
   "outputs": [
    {
     "data": {
      "text/plain": [
       "0"
      ]
     },
     "execution_count": 17,
     "metadata": {},
     "output_type": "execute_result"
    }
   ],
   "source": [
    "t1.count(\"abc\")"
   ]
  },
  {
   "cell_type": "code",
   "execution_count": 19,
   "id": "cb51d326-5be8-40c4-a138-7659d1027629",
   "metadata": {},
   "outputs": [
    {
     "data": {
      "text/plain": [
       "2"
      ]
     },
     "execution_count": 19,
     "metadata": {},
     "output_type": "execute_result"
    }
   ],
   "source": [
    "# telling be the index number of 45.5\n",
    "t1.index(45.5)"
   ]
  },
  {
   "cell_type": "code",
   "execution_count": 20,
   "id": "973e2c19-a77b-447e-834e-05b30fbdad73",
   "metadata": {},
   "outputs": [
    {
     "data": {
      "text/plain": [
       "1"
      ]
     },
     "execution_count": 20,
     "metadata": {},
     "output_type": "execute_result"
    }
   ],
   "source": [
    "t1.index(\"Abhi\")"
   ]
  },
  {
   "cell_type": "code",
   "execution_count": 12,
   "id": "50587309-f01c-478a-96a6-95518bcae5d2",
   "metadata": {},
   "outputs": [],
   "source": [
    "t2=(1,34,45.5,\"Abhi\",True)"
   ]
  },
  {
   "cell_type": "code",
   "execution_count": 23,
   "id": "cfd0642f-5e4d-4ba4-9005-fc3f4f6164d6",
   "metadata": {},
   "outputs": [
    {
     "data": {
      "text/plain": [
       "2"
      ]
     },
     "execution_count": 23,
     "metadata": {},
     "output_type": "execute_result"
    }
   ],
   "source": [
    "t2.count(1) ## here true is also counted as one"
   ]
  },
  {
   "cell_type": "code",
   "execution_count": 25,
   "id": "2ee60df9-edda-4d39-82ad-24359c5918b7",
   "metadata": {},
   "outputs": [
    {
     "data": {
      "text/plain": [
       "0"
      ]
     },
     "execution_count": 25,
     "metadata": {},
     "output_type": "execute_result"
    }
   ],
   "source": [
    "t1.index(True) # here true is indexed internally as one"
   ]
  },
  {
   "cell_type": "markdown",
   "id": "151d5dc7-eb4a-4afa-a843-13b2dbce0faa",
   "metadata": {},
   "source": [
    "## List is mutable but tuple is immutable"
   ]
  },
  {
   "cell_type": "code",
   "execution_count": 2,
   "id": "bb835611-f5f4-433b-8ab5-ed67b954b66d",
   "metadata": {},
   "outputs": [
    {
     "ename": "NameError",
     "evalue": "name 't1' is not defined",
     "output_type": "error",
     "traceback": [
      "\u001b[0;31m---------------------------------------------------------------------------\u001b[0m",
      "\u001b[0;31mNameError\u001b[0m                                 Traceback (most recent call last)",
      "Cell \u001b[0;32mIn[2], line 1\u001b[0m\n\u001b[0;32m----> 1\u001b[0m \u001b[43mt1\u001b[49m[\u001b[38;5;241m0\u001b[39m]\u001b[38;5;241m=\u001b[39m\u001b[38;5;241m345\u001b[39m\n",
      "\u001b[0;31mNameError\u001b[0m: name 't1' is not defined"
     ]
    }
   ],
   "source": [
    "t1[0]=345 # it will shpw an error"
   ]
  },
  {
   "cell_type": "code",
   "execution_count": 3,
   "id": "5dbe4c8d-10bf-412c-9513-a5fc4a286602",
   "metadata": {},
   "outputs": [],
   "source": [
    "# basically item assignment is different and the concept of mutability is differernt"
   ]
  },
  {
   "cell_type": "code",
   "execution_count": 11,
   "id": "747da35d-a110-462e-aa32-f3c84d58e538",
   "metadata": {},
   "outputs": [
    {
     "name": "stdout",
     "output_type": "stream",
     "text": [
      "34 <class 'int'>\n",
      "45.5 <class 'float'>\n",
      "Abhi <class 'str'>\n",
      "True <class 'bool'>\n"
     ]
    }
   ],
   "source": [
    "for i in t1:\n",
    "    print(i,type(i))"
   ]
  },
  {
   "cell_type": "markdown",
   "id": "b835ccf9-f795-480c-b5ed-e55a2b2013c3",
   "metadata": {
    "jp-MarkdownHeadingCollapsed": true,
    "tags": []
   },
   "source": []
  },
  {
   "cell_type": "code",
   "execution_count": 13,
   "id": "76bbef55-c216-4219-9ac2-49d914ca4d69",
   "metadata": {},
   "outputs": [
    {
     "data": {
      "text/plain": [
       "(1,\n",
       " 34,\n",
       " 45.5,\n",
       " 'Abhi',\n",
       " True,\n",
       " 1,\n",
       " 34,\n",
       " 45.5,\n",
       " 'Abhi',\n",
       " True,\n",
       " 1,\n",
       " 34,\n",
       " 45.5,\n",
       " 'Abhi',\n",
       " True)"
      ]
     },
     "execution_count": 13,
     "metadata": {},
     "output_type": "execute_result"
    }
   ],
   "source": [
    "t2*3"
   ]
  },
  {
   "cell_type": "code",
   "execution_count": 15,
   "id": "afb8a0d9-0530-41c2-9145-89f49fc5bfe5",
   "metadata": {},
   "outputs": [],
   "source": [
    "t3=(2,3,4,55,65,45,78)"
   ]
  },
  {
   "cell_type": "code",
   "execution_count": 17,
   "id": "d38a46c7-2b16-40f3-a985-caac08537bbe",
   "metadata": {},
   "outputs": [
    {
     "data": {
      "text/plain": [
       "78"
      ]
     },
     "execution_count": 17,
     "metadata": {},
     "output_type": "execute_result"
    }
   ],
   "source": [
    "max(t3)"
   ]
  },
  {
   "cell_type": "code",
   "execution_count": 18,
   "id": "ff6ff298-bccb-4b3f-8594-a8c9f7d2779e",
   "metadata": {},
   "outputs": [],
   "source": [
    "t1=(1,3,5,6)\n",
    "t2=(2,4,6,8)\n",
    "t3=(t1,t2)"
   ]
  },
  {
   "cell_type": "code",
   "execution_count": 19,
   "id": "e431614a-126d-4f63-ab9f-dfd45db8c637",
   "metadata": {},
   "outputs": [
    {
     "data": {
      "text/plain": [
       "((1, 3, 5, 6), (2, 4, 6, 8))"
      ]
     },
     "execution_count": 19,
     "metadata": {},
     "output_type": "execute_result"
    }
   ],
   "source": [
    "t3"
   ]
  },
  {
   "cell_type": "code",
   "execution_count": null,
   "id": "c3ad0032-ce51-44c9-9af0-a642f1cbb5a7",
   "metadata": {},
   "outputs": [],
   "source": [
    "t3[1][3]"
   ]
  },
  {
   "cell_type": "markdown",
   "id": "b8433b4c-a6e2-4600-a256-f80bab3c9ca1",
   "metadata": {},
   "source": [
    "## let us create a list and tuple inside a tuple"
   ]
  },
  {
   "cell_type": "code",
   "execution_count": 21,
   "id": "a0c0e575-de6f-4166-a9cd-98bb4ad5d1c8",
   "metadata": {},
   "outputs": [],
   "source": [
    "t4=((1,2,3,4),[22,33,44])"
   ]
  },
  {
   "cell_type": "code",
   "execution_count": 22,
   "id": "385eb573-97cf-40ea-9149-c31198b657e0",
   "metadata": {},
   "outputs": [
    {
     "data": {
      "text/plain": [
       "((1, 2, 3, 4), [22, 33, 44])"
      ]
     },
     "execution_count": 22,
     "metadata": {},
     "output_type": "execute_result"
    }
   ],
   "source": [
    "t4"
   ]
  },
  {
   "cell_type": "code",
   "execution_count": 23,
   "id": "5d0f1032-1e84-44e6-9096-11a277d1f81f",
   "metadata": {},
   "outputs": [],
   "source": [
    "# delete a tuple\n",
    "del t4"
   ]
  },
  {
   "cell_type": "code",
   "execution_count": 25,
   "id": "f3e5b5e7-1fdb-4e61-93d5-47b8a4f8df52",
   "metadata": {},
   "outputs": [
    {
     "ename": "NameError",
     "evalue": "name 't4' is not defined",
     "output_type": "error",
     "traceback": [
      "\u001b[0;31m---------------------------------------------------------------------------\u001b[0m",
      "\u001b[0;31mNameError\u001b[0m                                 Traceback (most recent call last)",
      "Cell \u001b[0;32mIn[25], line 1\u001b[0m\n\u001b[0;32m----> 1\u001b[0m \u001b[43mt4\u001b[49m \u001b[38;5;66;03m# now t4 has been delated\u001b[39;00m\n",
      "\u001b[0;31mNameError\u001b[0m: name 't4' is not defined"
     ]
    }
   ],
   "source": [
    "t4 # now t4 has been delated"
   ]
  },
  {
   "cell_type": "code",
   "execution_count": 26,
   "id": "7265c581-ed26-4d47-8ac7-721c73aeb888",
   "metadata": {},
   "outputs": [
    {
     "data": {
      "text/plain": [
       "4"
      ]
     },
     "execution_count": 26,
     "metadata": {},
     "output_type": "execute_result"
    }
   ],
   "source": [
    "len(t1)"
   ]
  },
  {
   "cell_type": "code",
   "execution_count": 29,
   "id": "b4ecc160-22b5-495a-bc73-e01a549092bb",
   "metadata": {},
   "outputs": [
    {
     "data": {
      "text/plain": [
       "False"
      ]
     },
     "execution_count": 29,
     "metadata": {},
     "output_type": "execute_result"
    }
   ],
   "source": [
    "\"Abhi\" in t1"
   ]
  },
  {
   "cell_type": "code",
   "execution_count": 30,
   "id": "0fdd42e1-33da-4ac5-9b58-5438f7b23ee5",
   "metadata": {},
   "outputs": [
    {
     "data": {
      "text/plain": [
       "True"
      ]
     },
     "execution_count": 30,
     "metadata": {},
     "output_type": "execute_result"
    }
   ],
   "source": [
    "6 in t1"
   ]
  },
  {
   "cell_type": "code",
   "execution_count": null,
   "id": "5f160839-12f5-46ce-bb21-06bb6304711c",
   "metadata": {},
   "outputs": [],
   "source": []
  }
 ],
 "metadata": {
  "kernelspec": {
   "display_name": "Python 3 (ipykernel)",
   "language": "python",
   "name": "python3"
  },
  "language_info": {
   "codemirror_mode": {
    "name": "ipython",
    "version": 3
   },
   "file_extension": ".py",
   "mimetype": "text/x-python",
   "name": "python",
   "nbconvert_exporter": "python",
   "pygments_lexer": "ipython3",
   "version": "3.10.8"
  }
 },
 "nbformat": 4,
 "nbformat_minor": 5
}
