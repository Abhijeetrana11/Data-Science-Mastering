{
 "cells": [
  {
   "cell_type": "code",
   "execution_count": 1,
   "id": "c36e8a7f-fe77-426f-a67c-d5c703f178fd",
   "metadata": {},
   "outputs": [
    {
     "name": "stdout",
     "output_type": "stream",
     "text": [
      "this is an outcome\n"
     ]
    }
   ],
   "source": [
    "print(\"this is an outcome\")"
   ]
  },
  {
   "cell_type": "code",
   "execution_count": 2,
   "id": "f9137d13-03be-4857-be69-6b062815ffb3",
   "metadata": {},
   "outputs": [],
   "source": [
    "def test():\n",
    "    print(\"this is a function\")"
   ]
  },
  {
   "cell_type": "code",
   "execution_count": 3,
   "id": "0f284edd-c629-4d3a-9877-938b15eafc5b",
   "metadata": {},
   "outputs": [
    {
     "name": "stdout",
     "output_type": "stream",
     "text": [
      "this is a function\n"
     ]
    }
   ],
   "source": [
    "test()"
   ]
  },
  {
   "cell_type": "code",
   "execution_count": 4,
   "id": "1b4227b2-d0ea-4a00-a009-645303122f73",
   "metadata": {},
   "outputs": [
    {
     "ename": "SyntaxError",
     "evalue": "incomplete input (2690612609.py, line 2)",
     "output_type": "error",
     "traceback": [
      "\u001b[0;36m  Cell \u001b[0;32mIn[4], line 2\u001b[0;36m\u001b[0m\n\u001b[0;31m    \u001b[0m\n\u001b[0m    ^\u001b[0m\n\u001b[0;31mSyntaxError\u001b[0m\u001b[0;31m:\u001b[0m incomplete input\n"
     ]
    }
   ],
   "source": [
    "def test():\n",
    "    "
   ]
  },
  {
   "cell_type": "code",
   "execution_count": 5,
   "id": "c0b239ec-0503-451d-adc9-ffbb6d4c961b",
   "metadata": {},
   "outputs": [],
   "source": [
    "def test():\n",
    "    pass"
   ]
  },
  {
   "cell_type": "code",
   "execution_count": 6,
   "id": "b528bab7-4a87-42ba-bae0-6761c31f0f8e",
   "metadata": {},
   "outputs": [],
   "source": [
    "test()"
   ]
  },
  {
   "cell_type": "code",
   "execution_count": 1,
   "id": "e78be419-85d6-44fb-9152-3d85590667f3",
   "metadata": {},
   "outputs": [],
   "source": [
    "def test1():\n",
    "    print(\"This is my very first program\")"
   ]
  },
  {
   "cell_type": "code",
   "execution_count": 2,
   "id": "f4e26a1c-4551-4984-b20b-1b6735313fe0",
   "metadata": {},
   "outputs": [
    {
     "name": "stdout",
     "output_type": "stream",
     "text": [
      "This is my very first program\n"
     ]
    }
   ],
   "source": [
    "test1()"
   ]
  },
  {
   "cell_type": "code",
   "execution_count": 4,
   "id": "214e9a51-54af-409c-8d7b-60a7dcc5d03d",
   "metadata": {},
   "outputs": [
    {
     "name": "stdout",
     "output_type": "stream",
     "text": [
      "This is my very first program\n"
     ]
    },
    {
     "ename": "TypeError",
     "evalue": "unsupported operand type(s) for +: 'NoneType' and 'str'",
     "output_type": "error",
     "traceback": [
      "\u001b[0;31m---------------------------------------------------------------------------\u001b[0m",
      "\u001b[0;31mTypeError\u001b[0m                                 Traceback (most recent call last)",
      "Cell \u001b[0;32mIn[4], line 1\u001b[0m\n\u001b[0;32m----> 1\u001b[0m \u001b[43mtest1\u001b[49m\u001b[43m(\u001b[49m\u001b[43m)\u001b[49m\u001b[38;5;241;43m+\u001b[39;49m\u001b[38;5;124;43m'\u001b[39;49m\u001b[38;5;124;43mAbhi\u001b[39;49m\u001b[38;5;124;43m'\u001b[39;49m\n",
      "\u001b[0;31mTypeError\u001b[0m: unsupported operand type(s) for +: 'NoneType' and 'str'"
     ]
    }
   ],
   "source": [
    "test1()+'Abhi'"
   ]
  },
  {
   "cell_type": "code",
   "execution_count": 5,
   "id": "22bc4ea7-d2b4-4bfe-b117-2531d7169f55",
   "metadata": {},
   "outputs": [],
   "source": [
    "# Print always return a none type by default"
   ]
  },
  {
   "cell_type": "code",
   "execution_count": 7,
   "id": "44210f59-d6fd-4a33-bea9-2dbb31432a86",
   "metadata": {},
   "outputs": [],
   "source": [
    "def test2():\n",
    "    return \"hey i am returning string \""
   ]
  },
  {
   "cell_type": "code",
   "execution_count": 8,
   "id": "038b6ad5-58ec-4fb5-bcda-e88b9c0f29dd",
   "metadata": {},
   "outputs": [
    {
     "data": {
      "text/plain": [
       "'hey i am returning string Abhi'"
      ]
     },
     "execution_count": 8,
     "metadata": {},
     "output_type": "execute_result"
    }
   ],
   "source": [
    "test2() + \"Abhi\""
   ]
  },
  {
   "cell_type": "code",
   "execution_count": 11,
   "id": "8e287595-cd13-4282-a7a9-c80c75302e89",
   "metadata": {},
   "outputs": [],
   "source": [
    "def test3():\n",
    "    return 1,4,\"Abhi\",34.56"
   ]
  },
  {
   "cell_type": "code",
   "execution_count": 12,
   "id": "4d06eb76-f014-4495-8906-9fcbf39ae85d",
   "metadata": {},
   "outputs": [
    {
     "data": {
      "text/plain": [
       "(1, 4, 'Abhi', 34.56)"
      ]
     },
     "execution_count": 12,
     "metadata": {},
     "output_type": "execute_result"
    }
   ],
   "source": [
    "test3()"
   ]
  },
  {
   "cell_type": "code",
   "execution_count": 13,
   "id": "934ae1be-c8a8-4b93-ab08-da1911615f2c",
   "metadata": {},
   "outputs": [
    {
     "data": {
      "text/plain": [
       "(1, 2, 3, 4, 5)"
      ]
     },
     "execution_count": 13,
     "metadata": {},
     "output_type": "execute_result"
    }
   ],
   "source": [
    "a=1,2,3,4,5\n",
    "a"
   ]
  },
  {
   "cell_type": "code",
   "execution_count": 14,
   "id": "d54588ab-6b3a-47e3-baee-e7077cf6d6c4",
   "metadata": {},
   "outputs": [],
   "source": [
    "a,b,c,d=1,22,34.56,True"
   ]
  },
  {
   "cell_type": "code",
   "execution_count": 15,
   "id": "ec718f37-a29b-4f85-8e21-710a3d2ed6e2",
   "metadata": {},
   "outputs": [
    {
     "data": {
      "text/plain": [
       "1"
      ]
     },
     "execution_count": 15,
     "metadata": {},
     "output_type": "execute_result"
    }
   ],
   "source": [
    "a"
   ]
  },
  {
   "cell_type": "code",
   "execution_count": 16,
   "id": "e66dca84-1ec5-410d-96aa-04d7f5562401",
   "metadata": {},
   "outputs": [
    {
     "data": {
      "text/plain": [
       "22"
      ]
     },
     "execution_count": 16,
     "metadata": {},
     "output_type": "execute_result"
    }
   ],
   "source": [
    "b"
   ]
  },
  {
   "cell_type": "code",
   "execution_count": 17,
   "id": "125298ab-c174-4ce7-8f9b-9324c0a68a13",
   "metadata": {},
   "outputs": [
    {
     "data": {
      "text/plain": [
       "34.56"
      ]
     },
     "execution_count": 17,
     "metadata": {},
     "output_type": "execute_result"
    }
   ],
   "source": [
    "c"
   ]
  },
  {
   "cell_type": "code",
   "execution_count": 18,
   "id": "89caa17c-be2c-4151-a267-3cb2d204e9a5",
   "metadata": {},
   "outputs": [
    {
     "data": {
      "text/plain": [
       "True"
      ]
     },
     "execution_count": 18,
     "metadata": {},
     "output_type": "execute_result"
    }
   ],
   "source": [
    "d"
   ]
  },
  {
   "cell_type": "code",
   "execution_count": 20,
   "id": "ff0e2305-aa03-4b86-88db-d41c8cddfddb",
   "metadata": {},
   "outputs": [
    {
     "data": {
      "text/plain": [
       "(1, 4, 'Abhi', 34.56)"
      ]
     },
     "execution_count": 20,
     "metadata": {},
     "output_type": "execute_result"
    }
   ],
   "source": [
    "test3() # it will return in the for of tuples"
   ]
  },
  {
   "cell_type": "code",
   "execution_count": 21,
   "id": "cbf0456d-4fe6-4e85-b991-83a624a82df4",
   "metadata": {},
   "outputs": [
    {
     "data": {
      "text/plain": [
       "'Abhi'"
      ]
     },
     "execution_count": 21,
     "metadata": {},
     "output_type": "execute_result"
    }
   ],
   "source": [
    "test3()[2]"
   ]
  },
  {
   "cell_type": "code",
   "execution_count": 22,
   "id": "30c15051-b121-40b9-ad93-9007fc17d3f5",
   "metadata": {},
   "outputs": [],
   "source": [
    "a,b,c,d=test3()"
   ]
  },
  {
   "cell_type": "code",
   "execution_count": 24,
   "id": "9c40f8e7-83cf-44f5-bb0d-a402a5914bbb",
   "metadata": {},
   "outputs": [],
   "source": [
    "def test4():\n",
    "    a=3*4+5\n",
    "    return a"
   ]
  },
  {
   "cell_type": "code",
   "execution_count": 25,
   "id": "6709bf87-019a-44a4-89cd-23e9c0cb951e",
   "metadata": {},
   "outputs": [],
   "source": [
    "b=test4()"
   ]
  },
  {
   "cell_type": "code",
   "execution_count": 26,
   "id": "a840645a-ce3e-484a-a66e-7a9bbad657fa",
   "metadata": {},
   "outputs": [
    {
     "data": {
      "text/plain": [
       "17"
      ]
     },
     "execution_count": 26,
     "metadata": {},
     "output_type": "execute_result"
    }
   ],
   "source": [
    "b"
   ]
  },
  {
   "cell_type": "code",
   "execution_count": 27,
   "id": "c043c7bf-a234-4c81-901f-f92007d8bcd7",
   "metadata": {},
   "outputs": [
    {
     "data": {
      "text/plain": [
       "int"
      ]
     },
     "execution_count": 27,
     "metadata": {},
     "output_type": "execute_result"
    }
   ],
   "source": [
    "type(test4())"
   ]
  },
  {
   "cell_type": "code",
   "execution_count": 29,
   "id": "1bd21d1a-0148-46f3-8c9a-b18043ef63be",
   "metadata": {},
   "outputs": [],
   "source": [
    "def test5(a,b):\n",
    "    c=a+b\n",
    "    return c"
   ]
  },
  {
   "cell_type": "code",
   "execution_count": 30,
   "id": "469a5881-f700-448f-b2e6-a4948cc51b5e",
   "metadata": {},
   "outputs": [
    {
     "data": {
      "text/plain": [
       "10"
      ]
     },
     "execution_count": 30,
     "metadata": {},
     "output_type": "execute_result"
    }
   ],
   "source": [
    "test5(6,4)"
   ]
  },
  {
   "cell_type": "code",
   "execution_count": 32,
   "id": "37bf38e5-eae1-4763-865f-03c53e7181ef",
   "metadata": {},
   "outputs": [
    {
     "data": {
      "text/plain": [
       "12.2"
      ]
     },
     "execution_count": 32,
     "metadata": {},
     "output_type": "execute_result"
    }
   ],
   "source": [
    "test5(11,1.2)"
   ]
  },
  {
   "cell_type": "code",
   "execution_count": 33,
   "id": "3dbf39c5-7788-4231-8fbe-d9de96c31c18",
   "metadata": {},
   "outputs": [
    {
     "data": {
      "text/plain": [
       "'AbhiRana'"
      ]
     },
     "execution_count": 33,
     "metadata": {},
     "output_type": "execute_result"
    }
   ],
   "source": [
    "test5(\"Abhi\",\"Rana\")"
   ]
  },
  {
   "cell_type": "code",
   "execution_count": 34,
   "id": "89551045-d5d5-4ce0-b6be-d19dbc261a0f",
   "metadata": {},
   "outputs": [
    {
     "data": {
      "text/plain": [
       "[1, 2, 3, 4, 4, 5, 6, 7]"
      ]
     },
     "execution_count": 34,
     "metadata": {},
     "output_type": "execute_result"
    }
   ],
   "source": [
    "test5([1,2,3,4],[4,5,6,7])"
   ]
  },
  {
   "cell_type": "code",
   "execution_count": 35,
   "id": "0df0661f-cbbd-4753-a16c-28ba07daabd4",
   "metadata": {},
   "outputs": [
    {
     "data": {
      "text/plain": [
       "'AbhiRana'"
      ]
     },
     "execution_count": 35,
     "metadata": {},
     "output_type": "execute_result"
    }
   ],
   "source": [
    "test5(b='Rana', a='Abhi')"
   ]
  },
  {
   "cell_type": "code",
   "execution_count": 1,
   "id": "03c54a15-68c4-489f-bcb1-b3c83e5b3b3d",
   "metadata": {},
   "outputs": [],
   "source": [
    "# Create a function which takes list as input and returns only numbers in a list\n",
    "def num_list(l):\n",
    "    ans=[]\n",
    "    for i in l:\n",
    "        if type(i)==int or type(i)== float:\n",
    "            ans.append(i)\n",
    "    return ans"
   ]
  },
  {
   "cell_type": "code",
   "execution_count": 2,
   "id": "eab5dda6-de69-4536-85f2-d75849378639",
   "metadata": {},
   "outputs": [],
   "source": [
    "l1=[22,33,44,5.5,'ans']\n",
    "l2=num_list(l1)"
   ]
  },
  {
   "cell_type": "code",
   "execution_count": 10,
   "id": "80c4545e-984a-492c-b5bb-cd14cb89c614",
   "metadata": {},
   "outputs": [
    {
     "data": {
      "text/plain": [
       "[22, 33, 44]"
      ]
     },
     "execution_count": 10,
     "metadata": {},
     "output_type": "execute_result"
    }
   ],
   "source": [
    "l2"
   ]
  },
  {
   "cell_type": "code",
   "execution_count": 3,
   "id": "8ff2f008-0343-46a1-b215-5449381b1ee0",
   "metadata": {},
   "outputs": [
    {
     "data": {
      "text/plain": [
       "[22, 33, 44, 5.5]"
      ]
     },
     "execution_count": 3,
     "metadata": {},
     "output_type": "execute_result"
    }
   ],
   "source": [
    "num_list(l1)"
   ]
  },
  {
   "cell_type": "code",
   "execution_count": 4,
   "id": "809c9923-f5af-4990-a9ba-3f096aee86cc",
   "metadata": {},
   "outputs": [
    {
     "data": {
      "text/plain": [
       "[22, 33, 44, 5.5]"
      ]
     },
     "execution_count": 4,
     "metadata": {},
     "output_type": "execute_result"
    }
   ],
   "source": [
    "num_list(l1)"
   ]
  },
  {
   "cell_type": "code",
   "execution_count": 2,
   "id": "831d8da7-ed56-4502-82f8-3e8786be8165",
   "metadata": {},
   "outputs": [],
   "source": [
    "l=[1,2,3,4,5,'abhi','r',[1,2,3,4,44]]"
   ]
  },
  {
   "cell_type": "code",
   "execution_count": 6,
   "id": "8b6ff704-1c8e-4fdf-bb77-fd5a91efc9a0",
   "metadata": {},
   "outputs": [
    {
     "data": {
      "text/plain": [
       "[1, 2, 3, 4, 5, 'abhi', 'r', [1, 2, 3, 4, 44]]"
      ]
     },
     "execution_count": 6,
     "metadata": {},
     "output_type": "execute_result"
    }
   ],
   "source": [
    "l"
   ]
  },
  {
   "cell_type": "code",
   "execution_count": 14,
   "id": "ef3fe88b-addb-4a0e-9f54-da06833bf1d8",
   "metadata": {},
   "outputs": [],
   "source": [
    "def test5(l):\n",
    "    n=[]\n",
    "    for i in l:\n",
    "        if type(i)==list:\n",
    "            for j in i:\n",
    "                if type(j)==int or  type(i)== float:\n",
    "                    n.append(j)\n",
    "        else:\n",
    "            if type(i)==int or type(i)== float:\n",
    "                n.append(i)\n",
    "    return n"
   ]
  },
  {
   "cell_type": "code",
   "execution_count": 15,
   "id": "898d3701-50e9-44a9-8f83-9ec7472f38a7",
   "metadata": {},
   "outputs": [
    {
     "data": {
      "text/plain": [
       "[1, 2, 3, 4, 5, 1, 2, 3, 4, 44]"
      ]
     },
     "execution_count": 15,
     "metadata": {},
     "output_type": "execute_result"
    }
   ],
   "source": [
    "test5(l)"
   ]
  },
  {
   "cell_type": "code",
   "execution_count": 19,
   "id": "4c9084e8-a070-4b16-ab6c-69d59266e027",
   "metadata": {},
   "outputs": [
    {
     "data": {
      "text/plain": [
       "((1, 2, 3, 3), [], 11, 22, 33, 1, 2, 4, 5, 2)"
      ]
     },
     "execution_count": 19,
     "metadata": {},
     "output_type": "execute_result"
    }
   ],
   "source": [
    "def test(*args):\n",
    "    return args\n",
    "test((1,2,3,3),[],11,22,33,1,2,4,5,2)"
   ]
  },
  {
   "cell_type": "code",
   "execution_count": 22,
   "id": "6c817f21-cd76-42fc-abe4-51fafaa3c83d",
   "metadata": {},
   "outputs": [],
   "source": [
    "def test2(*abhi):\n",
    "    return abhi"
   ]
  },
  {
   "cell_type": "code",
   "execution_count": 26,
   "id": "717430ad-fbea-4ae8-b2eb-c5ec7b6c1aea",
   "metadata": {},
   "outputs": [
    {
     "data": {
      "text/plain": [
       "({22: 34},)"
      ]
     },
     "execution_count": 26,
     "metadata": {},
     "output_type": "execute_result"
    }
   ],
   "source": [
    "test2({22:34})"
   ]
  },
  {
   "cell_type": "code",
   "execution_count": 1,
   "id": "ae320331-94e4-49e7-be9a-a799dab02f58",
   "metadata": {},
   "outputs": [],
   "source": [
    "def test2(*args):\n",
    "    return args"
   ]
  },
  {
   "cell_type": "code",
   "execution_count": 3,
   "id": "ebb00d2c-f1aa-4953-bf94-5aa1802c0aa3",
   "metadata": {},
   "outputs": [
    {
     "data": {
      "text/plain": [
       "([1, 2, 3, 4, 5, 'abhi', 'r', [1, 2, 3, 4, 44]],)"
      ]
     },
     "execution_count": 3,
     "metadata": {},
     "output_type": "execute_result"
    }
   ],
   "source": [
    "test2(l)"
   ]
  },
  {
   "cell_type": "code",
   "execution_count": 4,
   "id": "f2eeb8c1-deb9-4ac7-a35a-8e81264f0138",
   "metadata": {},
   "outputs": [],
   "source": [
    "# but i only want list not listS inside the tuple "
   ]
  },
  {
   "cell_type": "code",
   "execution_count": 10,
   "id": "f0ed1dd8-7636-4891-89ac-943100bc39a1",
   "metadata": {},
   "outputs": [],
   "source": [
    "def test2(*args):\n",
    "    l2=[]\n",
    "    for i in args:\n",
    "        if type(i) == list:\n",
    "            l2.append(i)\n",
    "    return l2\n",
    "        \n"
   ]
  },
  {
   "cell_type": "code",
   "execution_count": 11,
   "id": "563874de-01ca-41a1-8f75-5c93f20e3dd7",
   "metadata": {},
   "outputs": [
    {
     "data": {
      "text/plain": [
       "[[1, 2, 33, 4]]"
      ]
     },
     "execution_count": 11,
     "metadata": {},
     "output_type": "execute_result"
    }
   ],
   "source": [
    "test2([1,2,33,4],'abhi',(11,22,55))"
   ]
  },
  {
   "cell_type": "markdown",
   "id": "b9933224-e778-48c7-aeac-e9234d08107f",
   "metadata": {},
   "source": [
    "## KEY VALUE ARGUMENTS **"
   ]
  },
  {
   "cell_type": "code",
   "execution_count": 14,
   "id": "7f93bee2-4860-43fe-8b5b-6095c3faca9d",
   "metadata": {},
   "outputs": [],
   "source": [
    "def test5(**kwargs):\n",
    "    return kwargs"
   ]
  },
  {
   "cell_type": "code",
   "execution_count": 15,
   "id": "c28ba257-7499-41d4-863d-699002076030",
   "metadata": {},
   "outputs": [
    {
     "data": {
      "text/plain": [
       "dict"
      ]
     },
     "execution_count": 15,
     "metadata": {},
     "output_type": "execute_result"
    }
   ],
   "source": [
    "type(test5())"
   ]
  },
  {
   "cell_type": "code",
   "execution_count": 17,
   "id": "d9a396b0-2a8b-4b2e-971e-8f0837b51b62",
   "metadata": {},
   "outputs": [
    {
     "data": {
      "text/plain": [
       "{'a': 34, 'b': 'abhi', 'c': 4.5, 'd': 11}"
      ]
     },
     "execution_count": 17,
     "metadata": {},
     "output_type": "execute_result"
    }
   ],
   "source": [
    "test5(a=34,b='abhi',c=4.5,d=11)"
   ]
  },
  {
   "cell_type": "code",
   "execution_count": 38,
   "id": "1e537be7-5db8-4ff0-b42c-5590664d10d8",
   "metadata": {},
   "outputs": [],
   "source": [
    "def test6(**kwargs):\n",
    "    l=[]\n",
    "    for i in kwargs.keys():\n",
    "        print(i)\n",
    "        if type(kwargs[i]) == list:\n",
    "            l.append(kwargs[i])\n",
    "    return l"
   ]
  },
  {
   "cell_type": "code",
   "execution_count": 39,
   "id": "b4bdf271-1c6f-481c-930c-3ae6c5ec011e",
   "metadata": {},
   "outputs": [
    {
     "name": "stdout",
     "output_type": "stream",
     "text": [
      "a\n",
      "b\n",
      "c\n",
      "d\n",
      "e\n"
     ]
    },
    {
     "data": {
      "text/plain": [
       "[[11, 22, 33, 69]]"
      ]
     },
     "execution_count": 39,
     "metadata": {},
     "output_type": "execute_result"
    }
   ],
   "source": [
    "test6(a=34,b='abhi',c=4.5,d=1,e=[11,22,33,69])"
   ]
  },
  {
   "cell_type": "code",
   "execution_count": 41,
   "id": "33d15bd4-a1ce-410c-ba3f-40e649fe262f",
   "metadata": {},
   "outputs": [],
   "source": [
    "def test7(*args,**kwargs):\n",
    "    return args,kwargs"
   ]
  },
  {
   "cell_type": "code",
   "execution_count": 43,
   "id": "f044882d-b49c-4ae6-8407-3d69c85d1aec",
   "metadata": {},
   "outputs": [
    {
     "data": {
      "text/plain": [
       "((1, 2, 3, 'aaa'), {'a': 2, 'b': 5})"
      ]
     },
     "execution_count": 43,
     "metadata": {},
     "output_type": "execute_result"
    }
   ],
   "source": [
    "test7(1,2,3,'aaa',a=2,b=5)"
   ]
  },
  {
   "cell_type": "markdown",
   "id": "cfc31f49-d35d-47f9-86bc-9329a29abad1",
   "metadata": {},
   "source": [
    "## GENERATORS"
   ]
  },
  {
   "cell_type": "code",
   "execution_count": 2,
   "id": "68d15eb0-137c-4b1d-96ec-9822f5ddff47",
   "metadata": {},
   "outputs": [
    {
     "data": {
      "text/plain": [
       "range(1, 10)"
      ]
     },
     "execution_count": 2,
     "metadata": {},
     "output_type": "execute_result"
    }
   ],
   "source": [
    "range(1,10)"
   ]
  },
  {
   "cell_type": "code",
   "execution_count": 1,
   "id": "dd626190-1213-4662-b3a9-8f5a2de99e78",
   "metadata": {},
   "outputs": [
    {
     "name": "stdout",
     "output_type": "stream",
     "text": [
      "1\n",
      "2\n",
      "3\n",
      "4\n",
      "5\n",
      "6\n",
      "7\n",
      "8\n",
      "9\n"
     ]
    }
   ],
   "source": [
    "for i in range(1,10):\n",
    "    print(i)"
   ]
  },
  {
   "cell_type": "markdown",
   "id": "32f9510e-72b9-4b57-bb27-85badf2f9eb7",
   "metadata": {},
   "source": [
    "Fibbonacci:\n",
    "    0,1,1,2,3,5,8,11"
   ]
  },
  {
   "cell_type": "code",
   "execution_count": 4,
   "id": "eff1f546-3ac5-4a36-a6bb-1dbb96563f49",
   "metadata": {},
   "outputs": [],
   "source": [
    "def fib(n):\n",
    "    a,b=0,1\n",
    "    for i in range(n):\n",
    "        yield a\n",
    "        a,b = b,a+b"
   ]
  },
  {
   "cell_type": "code",
   "execution_count": 5,
   "id": "6e6ec951-6f14-40b5-8eb1-c6f9e4f0c423",
   "metadata": {},
   "outputs": [
    {
     "data": {
      "text/plain": [
       "<generator object fib at 0x7f03ff585690>"
      ]
     },
     "execution_count": 5,
     "metadata": {},
     "output_type": "execute_result"
    }
   ],
   "source": [
    "fib(10)"
   ]
  },
  {
   "cell_type": "code",
   "execution_count": 6,
   "id": "e4511def-bc8d-4620-89ab-a27ff9fa1b3a",
   "metadata": {},
   "outputs": [
    {
     "name": "stdout",
     "output_type": "stream",
     "text": [
      "0\n",
      "1\n",
      "1\n",
      "2\n",
      "3\n",
      "5\n",
      "8\n",
      "13\n",
      "21\n",
      "34\n"
     ]
    }
   ],
   "source": [
    "for i in fib(10):\n",
    "    print(i)"
   ]
  },
  {
   "cell_type": "code",
   "execution_count": null,
   "id": "26b2738d-1703-419c-b765-9b38313f6deb",
   "metadata": {},
   "outputs": [],
   "source": []
  }
 ],
 "metadata": {
  "kernelspec": {
   "display_name": "Python 3 (ipykernel)",
   "language": "python",
   "name": "python3"
  },
  "language_info": {
   "codemirror_mode": {
    "name": "ipython",
    "version": 3
   },
   "file_extension": ".py",
   "mimetype": "text/x-python",
   "name": "python",
   "nbconvert_exporter": "python",
   "pygments_lexer": "ipython3",
   "version": "3.10.8"
  }
 },
 "nbformat": 4,
 "nbformat_minor": 5
}
